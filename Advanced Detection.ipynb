{
 "cells": [
  {
   "cell_type": "markdown",
   "metadata": {
    "collapsed": false,
    "deletable": true,
    "editable": true
   },
   "source": [
    "## Advanced Lane Finding Project\n",
    "\n",
    "The goals / steps of this project are the following:\n",
    "\n",
    "* Compute the camera calibration matrix and distortion coefficients given a set of chessboard images.\n",
    "* Apply a distortion correction to raw images.\n",
    "* Use color transforms, gradients, etc., to create a thresholded binary image.\n",
    "* Apply a perspective transform to rectify binary image (\"birds-eye view\").\n",
    "* Detect lane pixels and fit to find the lane boundary.\n",
    "* Determine the curvature of the lane and vehicle position with respect to center.\n",
    "* Warp the detected lane boundaries back onto the original image.\n",
    "* Output visual display of the lane boundaries and numerical estimation of lane curvature and vehicle position.\n",
    "\n",
    "---\n",
    "## First, I'll compute the camera calibration using chessboard images"
   ]
  },
  {
   "cell_type": "code",
   "execution_count": 1,
   "metadata": {
    "collapsed": true,
    "deletable": true,
    "editable": true
   },
   "outputs": [],
   "source": [
    "import numpy as np\n",
    "import cv2\n",
    "import glob\n",
    "import matplotlib.pyplot as plt\n",
    "import matplotlib.image as mpimg\n",
    "%matplotlib qt\n",
    "\n",
    "# Define a class to receive the characteristics of each line detection\n",
    "class Line():\n",
    "    def __init__(self):\n",
    "        # was the line detected in the last iteration?\n",
    "        self.detected = False\n",
    "        # was the line detected in the last iteration?\n",
    "        self.detectedCounter = 0  \n",
    "        # x values of the last n fits of the line\n",
    "        self.recent_xfitted = [] \n",
    "        #average x values of the fitted line over the last n iterations\n",
    "        self.bestx = None     \n",
    "        #recent good average x values of the fitted line over the last n iterations\n",
    "        self.recent_bestx = None     \n",
    "        #polynomial coefficients averaged over the last n iterations\n",
    "        self.best_fit_list = None  \n",
    "        #polynomial coefficients averaged over the last n iterations\n",
    "        self.best_fit = None  \n",
    "        #polynomial coefficients for the most recent fit\n",
    "        self.current_fit = [np.array([False])]  \n",
    "        #radius of curvature of the line in some units for the last n iterations\n",
    "        self.curvatures = None \n",
    "        #radius of curvature of the line in some units\n",
    "        self.radius_of_curvature = None \n",
    "        #distance in meters of vehicle center from the line\n",
    "        self.line_base_pos = None \n",
    "        #difference in fit coefficients between last and new fits\n",
    "        self.diffs = np.array([0,0,0], dtype='float') \n",
    "        #x values for detected line pixels\n",
    "        self.allx = None  \n",
    "        #y values for detected line pixels\n",
    "        self.ally = None  \n",
    "\n",
    "# Define a class to receive the characteristics of each line detection\n",
    "class globalVar():\n",
    "    def __init__(self):\n",
    "        # frame counter\n",
    "        self.value = 0"
   ]
  },
  {
   "cell_type": "code",
   "execution_count": 2,
   "metadata": {
    "collapsed": false
   },
   "outputs": [
    {
     "name": "stdout",
     "output_type": "stream",
     "text": [
      "[[1.15777930e+03 0.00000000e+00 6.67111054e+02]\n",
      " [0.00000000e+00 1.15282291e+03 3.86128938e+02]\n",
      " [0.00000000e+00 0.00000000e+00 1.00000000e+00]] [[-0.24688775 -0.02373133 -0.00109842  0.00035108 -0.00258571]]\n"
     ]
    }
   ],
   "source": [
    "# prepare object points, like (0,0,0), (1,0,0), (2,0,0) ....,(6,5,0)\n",
    "objp = np.zeros((6*9,3), np.float32)\n",
    "objp[:,:2] = np.mgrid[0:9,0:6].T.reshape(-1,2)\n",
    "\n",
    "# Arrays to store object points and image points from all the images.\n",
    "objpoints = [] # 3d points in real world space\n",
    "imgpoints = [] # 2d points in image plane.\n",
    "\n",
    "# Make a list of calibration images\n",
    "images = glob.glob('camera_cal/calibration*.jpg')\n",
    "\n",
    "# Step through the list and search for chessboard corners\n",
    "for fname in images:\n",
    "    img = cv2.imread(fname)\n",
    "    gray = cv2.cvtColor(img,cv2.COLOR_BGR2GRAY)\n",
    "\n",
    "    # Find the chessboard corners\n",
    "    ret, corners = cv2.findChessboardCorners(gray, (9,6),None)\n",
    "\n",
    "    # If found, add object points, image points\n",
    "    if ret == True:\n",
    "        objpoints.append(objp)\n",
    "        imgpoints.append(corners)\n",
    "        #print(objpoints, ', ', imgpoints)\n",
    "\n",
    "        # Draw and display the corners\n",
    "        img = cv2.drawChessboardCorners(img, (9,6), corners, ret)\n",
    "        cv2.imshow('img',img)\n",
    "        cv2.waitKey(500)\n",
    "\n",
    "# Use cv2.calibrateCamera() and cv2.undistort()\n",
    "ret, mtx, dist, rvecs, tvecs = cv2.calibrateCamera(objpoints, imgpoints, img.shape[1::-1], None, None)\n",
    "print(mtx, dist)\n",
    "cv2.destroyAllWindows()"
   ]
  },
  {
   "cell_type": "code",
   "execution_count": 3,
   "metadata": {
    "collapsed": true,
    "deletable": true,
    "editable": true
   },
   "outputs": [],
   "source": [
    "#Functions for Pipline\n",
    "\n",
    "#undistort the input image with the known parameter mtx and dist\n",
    "def undistortImg(img, mtx, dist):\n",
    "    imgUndistort = cv2.undistort(img, mtx, dist, None, mtx)\n",
    "    return imgUndistort\n",
    "\n",
    "#warp the preprocessed binary image\n",
    "def warpImg(img,X,Y):\n",
    "\n",
    "    src = np.float32([[(1-X)/2*img.shape[1],Y*img.shape[0]],[0,img.shape[0]],\n",
    "                      [img.shape[1],img.shape[0]],[(1+X)/2*img.shape[1],Y*img.shape[0]]])\n",
    "    #print(img.shape)\n",
    "    dst = np.float32([[0,0],[0,img.shape[0]],[img.shape[1],img.shape[0]],[img.shape[1],0]])\n",
    "    \n",
    "    M = cv2.getPerspectiveTransform(src, dst)\n",
    "    \n",
    "    warped = cv2.warpPerspective(img, M, (img.shape[1], img.shape[0]), flags=cv2.INTER_LINEAR)\n",
    "    #delete the next two lines\n",
    "    return warped, M\n",
    "\n",
    "# Edge Detection\n",
    "def edgeDetection(img, s_thresh=(170, 255), sx_thresh=(20, 100)):\n",
    "    img = np.copy(img)\n",
    "    # Convert to HLS color space and separate the V channel\n",
    "    hls = cv2.cvtColor(img, cv2.COLOR_RGB2HLS)\n",
    "    l_channel = hls[:,:,1]\n",
    "    s_channel = hls[:,:,2]\n",
    "    # Sobel x\n",
    "    sobelx = cv2.Sobel(l_channel, cv2.CV_64F, 1, 0) # Take the derivative in x\n",
    "    abs_sobelx = np.absolute(sobelx) # Absolute x derivative to accentuate lines away from horizontal\n",
    "    scaled_sobel = np.uint8(255*abs_sobelx/np.max(abs_sobelx))\n",
    "    \n",
    "    # Threshold x gradient\n",
    "    sxbinary = np.zeros_like(scaled_sobel)\n",
    "    sxbinary[(scaled_sobel >= sx_thresh[0]) & (scaled_sobel <= sx_thresh[1])] = 1\n",
    "    \n",
    "    # Threshold color channel\n",
    "    s_binary = np.zeros_like(s_channel)\n",
    "    s_binary[(s_channel >= s_thresh[0]) & (s_channel <= s_thresh[1])] = 1\n",
    "    # Stack each channel\n",
    "    color_binary = np.dstack(( np.zeros_like(sxbinary), sxbinary, s_binary)) * 255\n",
    "    return color_binary\n",
    "\n",
    "def find_lane_pixels(binary_warped):\n",
    "    # Take a histogram of the bottom half of the image\n",
    "    histogram = np.sum(binary_warped[binary_warped.shape[0]//2:,:], axis=0)\n",
    "    # Create an output image to draw on and visualize the result\n",
    "    out_img = np.dstack((binary_warped, binary_warped, binary_warped))\n",
    "    # Find the peak of the left and right halves of the histogram\n",
    "    # These will be the starting point for the left and right lines\n",
    "    midpoint = np.int(histogram.shape[0]//2)\n",
    "    leftx_base = np.argmax(histogram[:midpoint])\n",
    "    rightx_base = np.argmax(histogram[midpoint:]) + midpoint\n",
    "\n",
    "    # HYPERPARAMETERS\n",
    "    # Choose the number of sliding windows\n",
    "    nwindows = 9\n",
    "    # Set the width of the windows +/- margin\n",
    "    margin = 100\n",
    "    # Set minimum number of pixels found to recenter window\n",
    "    minpix = 50\n",
    "\n",
    "    # Set height of windows - based on nwindows above and image shape\n",
    "    window_height = np.int(binary_warped.shape[0]//nwindows)\n",
    "    # Identify the x and y positions of all nonzero pixels in the image\n",
    "    nonzero = binary_warped.nonzero()\n",
    "    nonzeroy = np.array(nonzero[0])\n",
    "    nonzerox = np.array(nonzero[1])\n",
    "    # Current positions to be updated later for each window in nwindows\n",
    "    leftx_current = leftx_base\n",
    "    rightx_current = rightx_base\n",
    "\n",
    "    # Create empty lists to receive left and right lane pixel indices\n",
    "    left_lane_inds = []\n",
    "    right_lane_inds = []\n",
    "\n",
    "    # Step through the windows one by one\n",
    "    for window in range(nwindows):\n",
    "        # Identify window boundaries in x and y (and right and left)\n",
    "        win_y_low = binary_warped.shape[0] - (window+1)*window_height\n",
    "        win_y_high = binary_warped.shape[0] - window*window_height\n",
    "        ### TO-DO: Find the four below boundaries of the window ###\n",
    "        win_xleft_low = leftx_current-margin  # Update this\n",
    "        win_xleft_high = leftx_current+margin  # Update this\n",
    "        win_xright_low = rightx_current-margin  # Update this\n",
    "        win_xright_high = rightx_current+margin  # Update this\n",
    "        \n",
    "        # Draw the windows on the visualization image\n",
    "        cv2.rectangle(out_img,(win_xleft_low,win_y_low),\n",
    "        (win_xleft_high,win_y_high),(0,255,0), 2) \n",
    "        cv2.rectangle(out_img,(win_xright_low,win_y_low),\n",
    "        (win_xright_high,win_y_high),(0,255,0), 2) \n",
    "        \n",
    "        ### TO-DO: Identify the nonzero pixels in x and y within the window ###\n",
    "        good_left_inds = ((nonzeroy >= win_y_low) & (nonzeroy < win_y_high) & \n",
    "        (nonzerox >= win_xleft_low) &  (nonzerox < win_xleft_high)).nonzero()[0]\n",
    "        good_right_inds = ((nonzeroy >= win_y_low) & (nonzeroy < win_y_high) &\n",
    "        (nonzerox >= win_xright_low) & (nonzerox < win_xright_high)).nonzero()[0]\n",
    "        \n",
    "        # Append these indices to the lists\n",
    "        left_lane_inds.append(good_left_inds)\n",
    "        right_lane_inds.append(good_right_inds)\n",
    "        \n",
    "        #init find lane line flag and set them to false\n",
    "        fLeftFound = False\n",
    "        fRightFound = False\n",
    "        ### TO-DO: If you found > minpix pixels, recenter next window ###\n",
    "        if (len(good_left_inds)>minpix):\n",
    "            leftx_current = np.int(np.mean(nonzerox[good_left_inds]))\n",
    "            fLeftFound = True\n",
    "            \n",
    "        if (len(good_right_inds)>minpix):\n",
    "            rightx_current = np.int(np.mean(nonzerox[good_right_inds]))\n",
    "            fRightFound = True\n",
    "            \n",
    "        ### (`right` or `leftx_current`) on their mean position ###\n",
    "        #pass # Remove this when you add your function\n",
    "\n",
    "    # Concatenate the arrays of indices (previously was a list of lists of pixels)\n",
    "\n",
    "    try:\n",
    "        left_lane_inds = np.concatenate(left_lane_inds)\n",
    "        right_lane_inds = np.concatenate(right_lane_inds)\n",
    "    except ValueError:\n",
    "        # Avoids an error if the above is not implemented fully\n",
    "        pass\n",
    "    \n",
    "    # Extract left and right line pixel positions\n",
    "    leftx = nonzerox[left_lane_inds]\n",
    "    lefty = nonzeroy[left_lane_inds] \n",
    "    rightx = nonzerox[right_lane_inds]\n",
    "    righty = nonzeroy[right_lane_inds]\n",
    "\n",
    "    return leftx, lefty, rightx, righty, out_img, fLeftFound, fRightFound\n",
    "\n",
    "\n",
    "def fit_polynomial(binary_warped):\n",
    "    # Find our lane pixels first\n",
    "    leftx, lefty, rightx, righty, out_img, fLeftFound, fRightFound = find_lane_pixels(binary_warped)\n",
    "\n",
    "    ### TO-DO: Fit a second order polynomial to each using `np.polyfit` ###\n",
    "    left_fit = np.polyfit(lefty, leftx, 2)\n",
    "    right_fit = np.polyfit(righty, rightx, 2)\n",
    "\n",
    "    # Generate x and y values for plotting\n",
    "    ploty = np.linspace(0, binary_warped.shape[0]-1, binary_warped.shape[0] )\n",
    "    try:\n",
    "        left_fitx = left_fit[0]*ploty**2 + left_fit[1]*ploty + left_fit[2]\n",
    "        right_fitx = right_fit[0]*ploty**2 + right_fit[1]*ploty + right_fit[2]\n",
    "    except TypeError:\n",
    "        # Avoids an error if `left` and `right_fit` are still none or incorrect\n",
    "        print('The function failed to fit a line!')\n",
    "        left_fitx = 1*ploty**2 + 1*ploty\n",
    "        right_fitx = 1*ploty**2 + 1*ploty\n",
    "\n",
    "    ## Visualization ##\n",
    "    # Colors in the left and right lane regions\n",
    "    out_img[lefty, leftx] = [255, 0, 0]\n",
    "    out_img[righty, rightx] = [0, 0, 255]\n",
    "\n",
    "    # Plots the left and right polynomials on the lane lines\n",
    "    plt.plot(left_fitx, ploty, color='yellow')\n",
    "    plt.plot(right_fitx, ploty, color='yellow')\n",
    "\n",
    "    return out_img, left_fitx, right_fitx, left_fit, right_fit, ploty, fLeftFound, fRightFound\n",
    "\n",
    "def fit_poly(img_shape, leftx, lefty, rightx, righty):\n",
    "    ### TO-DO: Fit a second order polynomial to each with np.polyfit() ###\n",
    "    left_fit = np.polyfit(lefty, leftx, 2)\n",
    "    right_fit = np.polyfit(righty, rightx, 2)\n",
    "    # Generate x and y values for plotting\n",
    "    ploty = np.linspace(0, img_shape[0]-1, img_shape[0])\n",
    "    ### TO-DO: Calc both polynomials using ploty, left_fit and right_fit ###\n",
    "    left_fitx = left_fit[0]*ploty**2 + left_fit[1]*ploty + left_fit[2]\n",
    "    right_fitx = right_fit[0]*ploty**2 + right_fit[1]*ploty + right_fit[2]\n",
    "    \n",
    "    return left_fitx, right_fitx, ploty, left_fit, right_fit\n",
    "\n",
    "def search_around_poly(binary_warped, left_fit_last, right_fit_last):\n",
    "    # HYPERPARAMETER\n",
    "    # Choose the width of the margin around the previous polynomial to search\n",
    "    # The quiz grader expects 100 here, but feel free to tune on your own!\n",
    "    margin = 100\n",
    "\n",
    "    # Grab activated pixels\n",
    "    nonzero = binary_warped.nonzero()\n",
    "    nonzeroy = np.array(nonzero[0])\n",
    "    nonzerox = np.array(nonzero[1])\n",
    "    \n",
    "    ### TO-DO: Set the area of search based on activated x-values ###\n",
    "    ### within the +/- margin of our polynomial function ###\n",
    "    ### Hint: consider the window areas for the similarly named variables ###\n",
    "    ### in the previous quiz, but change the windows to our new search area ###\n",
    "    left_lane_inds = ((nonzerox > (left_fit_last[0]*nonzeroy**2 + left_fit_last[1]\n",
    "    *nonzeroy + left_fit_last[2] - margin)) & (nonzerox < (left_fit_last[0]*nonzeroy\n",
    "    **2 + left_fit_last[1]*nonzeroy + left_fit_last[2] + margin)))\n",
    "    right_lane_inds = ((nonzerox > (right_fit_last[0]*nonzeroy**2 + right_fit_last[1]\n",
    "    *nonzeroy + right_fit_last[2] - margin)) & (nonzerox < (right_fit_last[0]*nonzeroy\n",
    "    **2 + right_fit_last[1]*nonzeroy + right_fit_last[2] + margin)))\n",
    "    \n",
    "    # Again, extract left and right line pixel positions\n",
    "    leftx = nonzerox[left_lane_inds]\n",
    "    lefty = nonzeroy[left_lane_inds] \n",
    "    rightx = nonzerox[right_lane_inds]\n",
    "    righty = nonzeroy[right_lane_inds]\n",
    "    \n",
    "\n",
    "    # Fit new polynomials\n",
    "    left_fitx, right_fitx, ploty, left_fit, right_fit = fit_poly(binary_warped.shape, leftx, lefty, rightx, righty)\n",
    "    if(len(leftx)<10000):\n",
    "        left_fit = left_fit_last\n",
    "        fLeftFound = False\n",
    "    else:\n",
    "        fLeftFound = True\n",
    "        \n",
    "    if(len(rightx)<10000):\n",
    "        right_fit = right_fit_last\n",
    "        fRightFound = False\n",
    "    else:\n",
    "        fRightFound = True\n",
    "    ## Visualization ##\n",
    "    # Create an image to draw on and an image to show the selection window\n",
    "    out_img = np.dstack((binary_warped, binary_warped, binary_warped))*255\n",
    "    window_img = np.zeros_like(out_img)\n",
    "    # Color in left and right line pixels\n",
    "    out_img[nonzeroy[left_lane_inds], nonzerox[left_lane_inds]] = [255, 0, 0]\n",
    "    out_img[nonzeroy[right_lane_inds], nonzerox[right_lane_inds]] = [0, 0, 255]\n",
    "\n",
    "    # Generate a polygon to illustrate the search window area\n",
    "    # And recast the x and y points into usable format for cv2.fillPoly()\n",
    "    left_line_window1 = np.array([np.transpose(np.vstack([left_fitx-margin, ploty]))])\n",
    "    left_line_window2 = np.array([np.flipud(np.transpose(np.vstack([left_fitx+margin, \n",
    "                              ploty])))])\n",
    "    left_line_pts = np.hstack((left_line_window1, left_line_window2))\n",
    "    right_line_window1 = np.array([np.transpose(np.vstack([right_fitx-margin, ploty]))])\n",
    "    right_line_window2 = np.array([np.flipud(np.transpose(np.vstack([right_fitx+margin, \n",
    "                              ploty])))])\n",
    "    right_line_pts = np.hstack((right_line_window1, right_line_window2))\n",
    "\n",
    "    # Draw the lane onto the warped blank image\n",
    "    cv2.fillPoly(window_img, np.int_([left_line_pts]), (0,255, 0))\n",
    "    cv2.fillPoly(window_img, np.int_([right_line_pts]), (0,255, 0))\n",
    "    result = cv2.addWeighted(out_img, 1, window_img, 0.3, 0)\n",
    "    \n",
    "    # Plot the polynomial lines onto the image\n",
    "    plt.plot(left_fitx, ploty, color='yellow')\n",
    "    plt.plot(right_fitx, ploty, color='yellow')\n",
    "    ## End visualization steps ##\n",
    "    \n",
    "    return result, left_fitx, right_fitx, left_fit, right_fit, ploty, fLeftFound, fRightFound"
   ]
  },
  {
   "cell_type": "code",
   "execution_count": 26,
   "metadata": {
    "collapsed": true
   },
   "outputs": [],
   "source": [
    "#smooth function for 2 D array\n",
    "def lineSmooth(xlist, x, n):\n",
    "    xlist = np.append(xlist, [x], axis=0)\n",
    "    if(len(xlist) > n):\n",
    "        xlist = np.delete(xlist, 0, axis=0)\n",
    "    return xlist\n",
    "\n",
    "#smooth function for list\n",
    "def simpleSmooth(xlist, x, n):\n",
    "    #print(xlist.shape)\n",
    "    xlist = np.append(xlist, x)\n",
    "    if(len(xlist) > n):\n",
    "        xlist = np.delete(xlist, 0)\n",
    "    return xlist"
   ]
  },
  {
   "cell_type": "code",
   "execution_count": 27,
   "metadata": {
    "collapsed": true,
    "deletable": true,
    "editable": true
   },
   "outputs": [],
   "source": [
    "def measure_curvature_real(ploty, left_fit_cr, right_fit_cr):\n",
    "    '''\n",
    "    Calculates the curvature of polynomial functions in meters.\n",
    "    '''\n",
    "    # Define conversions in x and y from pixels space to meters\n",
    "    ym_per_pix = 30/720 # meters per pixel in y dimension\n",
    "    xm_per_pix = 2.9/700 # meters per pixel in x dimension\n",
    "    \n",
    "    # Define y-value where we want radius of curvature\n",
    "    # We'll choose the maximum y-value, corresponding to the bottom of the image\n",
    "    y_eval = np.max(ploty)\n",
    "    \n",
    "    #calculation of R_curve (radius of curvature) #####\n",
    "    left_curverad = (1+(2*left_fit_cr[0]*y_eval*ym_per_pix+left_fit_cr[1])**2)**1.5/np.abs(2*left_fit_cr[0])  ## Implement the calculation of the left line here\n",
    "    right_curverad = (1+(2*right_fit_cr[0]*y_eval*ym_per_pix+right_fit_cr[1])**2)**1.5/np.abs(2*right_fit_cr[0])  ## Implement the calculation of the right line here\n",
    "    \n",
    "    return left_curverad, right_curverad"
   ]
  },
  {
   "cell_type": "code",
   "execution_count": 34,
   "metadata": {
    "collapsed": false,
    "deletable": true,
    "editable": true
   },
   "outputs": [],
   "source": [
    "#draw the detected lines back on the original image\n",
    "def drawLines(undist, warped, left_fitx, right_fitx, ploty, X, Y, color):\n",
    "    # Create an image to draw the lines on\n",
    "    warp_zero = np.zeros_like(warped).astype(np.uint8)\n",
    "    color_warp = np.dstack((warp_zero, warp_zero, warp_zero))\n",
    "\n",
    "    # Recast the x and y points into usable format for cv2.fillPoly()\n",
    "    pts_left = np.array([np.transpose(np.vstack([left_fitx, ploty]))])\n",
    "    pts_right = np.array([np.flipud(np.transpose(np.vstack([right_fitx, ploty])))])\n",
    "    pts = np.hstack((pts_left, pts_right))\n",
    "\n",
    "    # Draw the lane onto the warped blank image\n",
    "    cv2.fillPoly(color_warp, np.int_([pts]), color)\n",
    "    \n",
    "    dst = np.float32([[(1-X)/2*img.shape[1],Y*img.shape[0]],[0,img.shape[0]],\n",
    "                      [img.shape[1],img.shape[0]],[(1+X)/2*img.shape[1],Y*img.shape[0]]])\n",
    "\n",
    "    src = np.float32([[0,0],[0,img.shape[0]],[img.shape[1],img.shape[0]],[img.shape[1],0]])\n",
    "    \n",
    "    Minv = cv2.getPerspectiveTransform(src, dst)\n",
    "\n",
    "    # Warp the blank back to original image space using inverse perspective matrix (Minv)\n",
    "    newwarp = cv2.warpPerspective(color_warp, Minv, (undist.shape[1], undist.shape[0])) \n",
    "    # Combine the result with the original image\n",
    "    result = cv2.addWeighted(undist, 1, newwarp, 0.3, 0)\n",
    "    \n",
    "    return result\n"
   ]
  },
  {
   "cell_type": "code",
   "execution_count": 35,
   "metadata": {
    "collapsed": false
   },
   "outputs": [],
   "source": [
    "#calculate lane center offset based on the left and right lane line position\n",
    "def laneCenterCalc(left_fitx, right_fitx, imgWidth):\n",
    "    xm_per_pix = 2.9/700 # meters per pixel in x dimension\n",
    "    #use the 100 pixels close the bottom side to get the average position of left and right lane lines\n",
    "    offset = round((imgWidth - np.mean(left_fitx[-100:]) - np.mean(right_fitx[-100:]))/2*xm_per_pix, 2)\n",
    "    #print((-np.mean(left_fitx[-100:]) + np.mean(right_fitx[-100:]))*xm_per_pix)\n",
    "    return offset"
   ]
  },
  {
   "cell_type": "code",
   "execution_count": 36,
   "metadata": {
    "collapsed": true
   },
   "outputs": [],
   "source": [
    "#compare two detected lane lines\n",
    "def sanity_check(cur_L, cur_R, xfit_L, xfit_R, left_co, right_co, initCounter):\n",
    "    #if the curvature of the lane line is above this limit, it is very close to straight line, no need to check similiraty of curvature\n",
    "    cur_total_upper_lim = 10000\n",
    "    #tuned this parameter based on standard high way width\n",
    "    xm_per_pix = 2.9/700 # meters per pixel in x dimension\n",
    "    #standard high way width in the US is 3.7m\n",
    "    lane_width_standard = 3.7 #unit meter\n",
    "    \n",
    "    #threshold for the similar curvature, lane width and lane line parallel\n",
    "    lim_cur = 100\n",
    "    lim_width = 30\n",
    "    lim_para = 200\n",
    "    \n",
    "    #calculate the difference between left cur and right cur in percentage\n",
    "    cur_offset = np.abs(cur_L-cur_R)/cur_R*100\n",
    "    #calculate the lane width and difference with standard lane width\n",
    "    lane_width = (-np.mean(xfit_L[-100:]) + np.mean(xfit_R[-100:]))*xm_per_pix\n",
    "    lane_width_offset = np.abs(lane_width-lane_width_standard)/lane_width_standard*100\n",
    "    \n",
    "    #calc if the two lines are roughly parallel\n",
    "    para_offset = ((np.abs(left_co[0]-right_co[0])/right_co[0]) + (np.abs(left_co[1]-right_co[1])/right_co[1]) + \n",
    "     (np.abs(left_co[2]-right_co[2])/right_co[2]))*100\n",
    "    \n",
    "    if ((cur_L + cur_R)>cur_total_upper_lim):\n",
    "        if (lane_width_offset > lim_width):\n",
    "            initCounter += 1\n",
    "        else:\n",
    "            initCounter = 0\n",
    "    else:\n",
    "        if ((cur_offset>lim_cur)or(lane_width_offset > lim_width)or(para_offset>lim_para)):\n",
    "            initCounter += 1\n",
    "        else:\n",
    "            initCounter = 0\n",
    "\n",
    "    #print(zSanityCounter.value)\n",
    "    return initCounter"
   ]
  },
  {
   "cell_type": "code",
   "execution_count": 37,
   "metadata": {
    "collapsed": false,
    "deletable": true,
    "editable": true
   },
   "outputs": [],
   "source": [
    "def process_image(image):\n",
    "    #print current frame number\n",
    "    print('Current frame: ', zFrame.value)\n",
    "    \n",
    "    #define warp parameter X, Y\n",
    "    warpX = 0.17\n",
    "    warpY = 0.63\n",
    "    \n",
    "    #define n for detection result smooth\n",
    "    n = 20\n",
    "    \n",
    "    #undistort the image with camera calibration results\n",
    "    image_undistort = undistortImg(image, mtx, dist)\n",
    "    \n",
    "    #detect edge of the frame with combined gradient and color method\n",
    "    image_edge = edgeDetection(image_undistort, s_thresh=(170, 255), sx_thresh=(20, 100))\n",
    "    \n",
    "    #warp the edge detection result frame to get a \"bird view\" picture\n",
    "    image_warped, M = warpImg(image_edge,warpX,warpY)\n",
    "    \n",
    "    #convert the warped image to gray scale\n",
    "    image_gray = cv2.cvtColor(image_warped, cv2.COLOR_RGB2GRAY)\n",
    "\n",
    "    #normal mode: detect lane lines with known poly fit\n",
    "    if(left_Line.detected and right_Line.detected and zSanityCounter.value < n):\n",
    "        print('Normal Mode')\n",
    "        result, left_fitx, right_fitx, left_fit, right_fit, ploty, fLeftFound, fRightFound = search_around_poly(image_gray, \n",
    "        left_Line.best_fit, right_Line.best_fit)\n",
    "        \n",
    "    #initilization mode: detect with slide window method\n",
    "    else:\n",
    "        print('Init Mode')\n",
    "        result, left_fitx, right_fitx, left_fit, right_fit, ploty, fLeftFound, fRightFound = fit_polynomial(image_gray)\n",
    "    \n",
    "    # was the line detected in the last iteration?\n",
    "    left_Line.detected = fLeftFound\n",
    "    right_Line.detected = fRightFound\n",
    "    \n",
    "    # x values of the last n fits of the line\n",
    "    left_Line.recent_xfitted = lineSmooth(left_Line.recent_xfitted, left_fitx, n)\n",
    "    right_Line.recent_xfitted = lineSmooth(right_Line.recent_xfitted, right_fitx, n)\n",
    "    \n",
    "    #average x values of the fitted line over the last n iterations\n",
    "    left_Line.bestx = np.mean(left_Line.recent_xfitted, axis=0)\n",
    "    right_Line.bestx = np.mean(right_Line.recent_xfitted, axis=0)\n",
    "    \n",
    "    #polynomial coefficients averaged over the last n iterations\n",
    "    left_Line.best_fit_list = lineSmooth(left_Line.best_fit_list, left_fit, n)\n",
    "    right_Line.best_fit_list = lineSmooth(right_Line.best_fit_list, right_fit, n)\n",
    "    left_Line.best_fit = np.mean(left_Line.best_fit_list, axis=0)\n",
    "    right_Line.best_fit = np.mean(right_Line.best_fit_list, axis=0)\n",
    "    \n",
    "    #polynomial coefficients for the most recent fit: by pass\n",
    "\n",
    "    #left_Line.radius_of_curvature, right_Line.radius_of_curvature = measure_curvature_pixels(ploty, left_Line.best_fit, right_Line.best_fit)\n",
    "    left_Line.radius_of_curvature, right_Line.radius_of_curvature = measure_curvature_real(ploty, left_fit, right_fit)\n",
    "    left_Line.curvatures = simpleSmooth(left_Line.curvatures, left_Line.radius_of_curvature, n)\n",
    "    left_Line.radius_of_curvature = np.mean(left_Line.curvatures)\n",
    "    right_Line.curvatures = simpleSmooth(right_Line.curvatures, right_Line.radius_of_curvature, n)\n",
    "    right_Line.radius_of_curvature = np.mean(right_Line.curvatures)\n",
    "\n",
    "    #distance in meters of vehicle center from the line, negative means vechile center on the left side of the lane center\n",
    "    left_Line.line_base_pos = laneCenterCalc(left_Line.bestx, right_Line.bestx, image.shape[1])\n",
    "    right_Line.line_base_pos = laneCenterCalc(left_Line.bestx, right_Line.bestx, image.shape[1])\n",
    "    \n",
    "    #sanity check\n",
    "    zSanityCounter.value = sanity_check(left_Line.radius_of_curvature, right_Line.radius_of_curvature,\n",
    "                 left_Line.bestx, right_Line.bestx, left_Line.best_fit, right_Line.best_fit, zSanityCounter.value)\n",
    "    \n",
    "    #when init lane detection, draw detection area with red color\n",
    "    if (left_Line.detected and right_Line.detected and zSanityCounter.value < n):\n",
    "        color = (0,255,0)\n",
    "    else:\n",
    "        color = (255,0,0)\n",
    "    \n",
    "    #draw the detected/take over lane line on the original undistort image\n",
    "    result = drawLines(image_undistort, image_gray, left_Line.bestx, right_Line.bestx, ploty, warpX, warpY, color)\n",
    "\n",
    "    #GUI Info\n",
    "    #define the text and corresponding info\n",
    "    txt_curvature = 'lane radius: ' + str(round((left_Line.radius_of_curvature+right_Line.radius_of_curvature)/2, 2)) + 'm'\n",
    "    txt_offset = 'offset: ' + str(left_Line.line_base_pos) + 'm'\n",
    "    txt_sanity = 'sanity check fail: ' + str(zSanityCounter.value)\n",
    "    \n",
    "    org_curvature = (20, 50)\n",
    "    org_offset = (20, 100)\n",
    "    org_sanity = (20, 150)\n",
    "    \n",
    "    font = cv2.FONT_HERSHEY_SIMPLEX\n",
    "    fontScale = 1\n",
    "    color = (255,255,255)\n",
    "    thickness = 2\n",
    "    \n",
    "    result = cv2.putText(result, txt_offset, org_offset, font, fontScale, color, thickness, cv2.LINE_AA) \n",
    "    result = cv2.putText(result, txt_curvature, org_curvature, font, fontScale, color, thickness, cv2.LINE_AA) \n",
    "    result = cv2.putText(result, txt_sanity, org_sanity, font, fontScale, color, thickness, cv2.LINE_AA) \n",
    "    \n",
    "    #frame counter add 1\n",
    "    zFrame.value += 1\n",
    "    \n",
    "    return result"
   ]
  },
  {
   "cell_type": "code",
   "execution_count": 38,
   "metadata": {
    "collapsed": false,
    "deletable": true,
    "editable": true
   },
   "outputs": [
    {
     "name": "stderr",
     "output_type": "stream",
     "text": [
      "\r",
      "t:   0%|                                                                            | 0/1260 [00:00<?, ?it/s, now=None]"
     ]
    },
    {
     "name": "stdout",
     "output_type": "stream",
     "text": [
      "Current frame:  1\n",
      "Init Mode\n",
      "Moviepy - Building video project_video_out.mp4.\n",
      "Moviepy - Writing video project_video_out.mp4\n",
      "\n",
      "Current frame:  2\n",
      "Normal Mode\n",
      "Current frame: "
     ]
    },
    {
     "name": "stderr",
     "output_type": "stream",
     "text": [
      "\r",
      "t:   0%|▏                                                                   | 3/1260 [00:00<01:13, 17.13it/s, now=None]"
     ]
    },
    {
     "name": "stdout",
     "output_type": "stream",
     "text": [
      " 3\n",
      "Normal Mode\n",
      "Current frame:  4\n",
      "Normal Mode\n",
      "Current frame:  5\n",
      "Normal Mode\n"
     ]
    },
    {
     "name": "stderr",
     "output_type": "stream",
     "text": [
      "t:   1%|▍                                                                   | 7/1260 [00:00<01:28, 14.12it/s, now=None]"
     ]
    },
    {
     "name": "stdout",
     "output_type": "stream",
     "text": [
      "Current frame:  6\n",
      "Normal Mode\n",
      "Current frame:  7\n",
      "Normal Mode\n",
      "Current frame:  8\n"
     ]
    },
    {
     "name": "stderr",
     "output_type": "stream",
     "text": [
      "\r",
      "t:   1%|▍                                                                   | 9/1260 [00:00<01:33, 13.31it/s, now=None]"
     ]
    },
    {
     "name": "stdout",
     "output_type": "stream",
     "text": [
      "Normal Mode\n",
      "Current frame:  9\n",
      "Normal Mode\n",
      "Current frame:  10\n",
      "Normal Mode\n",
      "Current frame:  11\n"
     ]
    },
    {
     "name": "stderr",
     "output_type": "stream",
     "text": [
      "\r",
      "t:   1%|▌                                                                  | 11/1260 [00:00<01:35, 13.03it/s, now=None]"
     ]
    },
    {
     "name": "stdout",
     "output_type": "stream",
     "text": [
      "Normal Mode\n",
      "Current frame:  12\n",
      "Normal Mode\n",
      "Current frame:  13\n",
      "Normal Mode\n"
     ]
    },
    {
     "name": "stderr",
     "output_type": "stream",
     "text": [
      "t:   1%|▊                                                                  | 15/1260 [00:01<01:38, 12.60it/s, now=None]"
     ]
    },
    {
     "name": "stdout",
     "output_type": "stream",
     "text": [
      "Current frame:  14\n",
      "Normal Mode\n",
      "Current frame:  15\n",
      "Normal Mode\n",
      "Current frame:  16\n"
     ]
    },
    {
     "name": "stderr",
     "output_type": "stream",
     "text": [
      "\r",
      "t:   1%|▉                                                                  | 17/1260 [00:01<01:40, 12.41it/s, now=None]"
     ]
    },
    {
     "name": "stdout",
     "output_type": "stream",
     "text": [
      "Normal Mode\n",
      "Current frame:  17\n",
      "Normal Mode\n",
      "Current frame:  18\n",
      "Normal Mode\n",
      "Current frame: "
     ]
    },
    {
     "name": "stderr",
     "output_type": "stream",
     "text": [
      "\r",
      "t:   2%|█                                                                  | 19/1260 [00:01<01:40, 12.34it/s, now=None]"
     ]
    },
    {
     "name": "stdout",
     "output_type": "stream",
     "text": [
      " 19\n",
      "Normal Mode\n",
      "Current frame:  20\n",
      "Normal Mode\n",
      "Current frame:  21\n",
      "Normal Mode"
     ]
    },
    {
     "name": "stderr",
     "output_type": "stream",
     "text": [
      "\r",
      "t:   2%|█                                                                  | 21/1260 [00:01<01:42, 12.12it/s, now=None]"
     ]
    },
    {
     "name": "stdout",
     "output_type": "stream",
     "text": [
      "\n",
      "Current frame:  22\n",
      "Normal Mode\n",
      "Current frame:  23\n",
      "Normal Mode\n"
     ]
    },
    {
     "name": "stderr",
     "output_type": "stream",
     "text": [
      "t:   2%|█▎                                                                 | 25/1260 [00:02<01:44, 11.82it/s, now=None]"
     ]
    },
    {
     "name": "stdout",
     "output_type": "stream",
     "text": [
      "Current frame:  24\n",
      "Normal Mode\n",
      "Current frame:  25\n",
      "Normal Mode\n",
      "Current frame:  26\n",
      "Normal Mode"
     ]
    },
    {
     "name": "stderr",
     "output_type": "stream",
     "text": [
      "\r",
      "t:   2%|█▍                                                                 | 27/1260 [00:02<01:43, 11.93it/s, now=None]"
     ]
    },
    {
     "name": "stdout",
     "output_type": "stream",
     "text": [
      "\n",
      "Current frame:  27\n",
      "Normal Mode\n",
      "Current frame:  28\n",
      "Normal Mode\n",
      "Current frame: "
     ]
    },
    {
     "name": "stderr",
     "output_type": "stream",
     "text": [
      "\r",
      "t:   2%|█▌                                                                 | 29/1260 [00:02<01:49, 11.27it/s, now=None]"
     ]
    },
    {
     "name": "stdout",
     "output_type": "stream",
     "text": [
      " 29\n",
      "Normal Mode\n",
      "Current frame:  30\n",
      "Normal Mode\n",
      "Current frame: "
     ]
    },
    {
     "name": "stderr",
     "output_type": "stream",
     "text": [
      "\r",
      "t:   2%|█▋                                                                 | 31/1260 [00:02<01:47, 11.47it/s, now=None]"
     ]
    },
    {
     "name": "stdout",
     "output_type": "stream",
     "text": [
      " 31\n",
      "Normal Mode\n",
      "Current frame:  32\n",
      "Normal Mode\n",
      "Current frame:  33\n",
      "Normal Mode"
     ]
    },
    {
     "name": "stderr",
     "output_type": "stream",
     "text": [
      "\r",
      "t:   3%|█▊                                                                 | 33/1260 [00:02<01:45, 11.64it/s, now=None]"
     ]
    },
    {
     "name": "stdout",
     "output_type": "stream",
     "text": [
      "\n",
      "Current frame:  34\n",
      "Normal Mode\n",
      "Current frame:  35\n",
      "Normal Mode\n"
     ]
    },
    {
     "name": "stderr",
     "output_type": "stream",
     "text": [
      "t:   3%|█▉                                                                 | 37/1260 [00:03<01:42, 11.97it/s, now=None]"
     ]
    },
    {
     "name": "stdout",
     "output_type": "stream",
     "text": [
      "Current frame:  36\n",
      "Normal Mode\n",
      "Current frame:  37\n",
      "Normal Mode\n",
      "Current frame:  38\n",
      "Normal Mode"
     ]
    },
    {
     "name": "stderr",
     "output_type": "stream",
     "text": [
      "\r",
      "t:   3%|██                                                                 | 39/1260 [00:03<01:40, 12.18it/s, now=None]"
     ]
    },
    {
     "name": "stdout",
     "output_type": "stream",
     "text": [
      "\n",
      "Current frame:  39\n",
      "Normal Mode\n",
      "Current frame:  40\n",
      "Normal Mode\n",
      "Current frame: "
     ]
    },
    {
     "name": "stderr",
     "output_type": "stream",
     "text": [
      "\r",
      "t:   3%|██▏                                                                | 41/1260 [00:03<01:39, 12.28it/s, now=None]"
     ]
    },
    {
     "name": "stdout",
     "output_type": "stream",
     "text": [
      " 41\n",
      "Normal Mode\n",
      "Current frame:  42\n",
      "Normal Mode\n",
      "Current frame:  43\n",
      "Normal Mode"
     ]
    },
    {
     "name": "stderr",
     "output_type": "stream",
     "text": [
      "\r",
      "t:   3%|██▎                                                                | 43/1260 [00:03<01:39, 12.21it/s, now=None]"
     ]
    },
    {
     "name": "stdout",
     "output_type": "stream",
     "text": [
      "\n",
      "Current frame:  44\n",
      "Normal Mode\n",
      "Current frame:  45\n",
      "Normal Mode\n"
     ]
    },
    {
     "name": "stderr",
     "output_type": "stream",
     "text": [
      "t:   4%|██▍                                                                | 47/1260 [00:03<01:39, 12.22it/s, now=None]"
     ]
    },
    {
     "name": "stdout",
     "output_type": "stream",
     "text": [
      "Current frame:  46\n",
      "Normal Mode\n",
      "Current frame:  47\n",
      "Normal Mode\n",
      "Current frame:  48\n",
      "Normal Mode"
     ]
    },
    {
     "name": "stderr",
     "output_type": "stream",
     "text": [
      "\r",
      "t:   4%|██▌                                                                | 49/1260 [00:04<01:38, 12.25it/s, now=None]"
     ]
    },
    {
     "name": "stdout",
     "output_type": "stream",
     "text": [
      "\n",
      "Current frame:  49\n",
      "Normal Mode\n",
      "Current frame:  50\n",
      "Normal Mode\n",
      "Current frame: "
     ]
    },
    {
     "name": "stderr",
     "output_type": "stream",
     "text": [
      "\r",
      "t:   4%|██▋                                                                | 51/1260 [00:04<01:37, 12.34it/s, now=None]"
     ]
    },
    {
     "name": "stdout",
     "output_type": "stream",
     "text": [
      " 51\n",
      "Normal Mode\n",
      "Current frame:  52\n",
      "Normal Mode\n",
      "Current frame:  53\n",
      "Normal Mode"
     ]
    },
    {
     "name": "stderr",
     "output_type": "stream",
     "text": [
      "t:   4%|██▉                                                                | 55/1260 [00:04<01:36, 12.46it/s, now=None]"
     ]
    },
    {
     "name": "stdout",
     "output_type": "stream",
     "text": [
      "\n",
      "Current frame:  54\n",
      "Normal Mode\n",
      "Current frame:  55\n",
      "Normal Mode\n"
     ]
    },
    {
     "name": "stderr",
     "output_type": "stream",
     "text": [
      "\r",
      "t:   5%|███                                                                | 57/1260 [00:04<01:37, 12.30it/s, now=None]"
     ]
    },
    {
     "name": "stdout",
     "output_type": "stream",
     "text": [
      "Current frame:  56\n",
      "Normal Mode\n",
      "Current frame:  57\n",
      "Normal Mode\n",
      "Current frame:  58\n"
     ]
    },
    {
     "name": "stderr",
     "output_type": "stream",
     "text": [
      "\r",
      "t:   5%|███▏                                                               | 59/1260 [00:04<01:36, 12.39it/s, now=None]"
     ]
    },
    {
     "name": "stdout",
     "output_type": "stream",
     "text": [
      "Normal Mode\n",
      "Current frame:  59\n",
      "Normal Mode\n",
      "Current frame:  60\n",
      "Normal Mode\n",
      "Current frame: "
     ]
    },
    {
     "name": "stderr",
     "output_type": "stream",
     "text": [
      "\r",
      "t:   5%|███▏                                                               | 61/1260 [00:04<01:39, 12.10it/s, now=None]"
     ]
    },
    {
     "name": "stdout",
     "output_type": "stream",
     "text": [
      " 61\n",
      "Normal Mode\n",
      "Current frame:  62\n",
      "Normal Mode\n",
      "Current frame:  63\n"
     ]
    },
    {
     "name": "stderr",
     "output_type": "stream",
     "text": [
      "\r",
      "t:   5%|███▎                                                               | 63/1260 [00:05<01:40, 11.94it/s, now=None]"
     ]
    },
    {
     "name": "stdout",
     "output_type": "stream",
     "text": [
      "Normal Mode\n",
      "Current frame:  64\n",
      "Normal Mode\n",
      "Current frame:  65\n",
      "Normal Mode"
     ]
    },
    {
     "name": "stderr",
     "output_type": "stream",
     "text": [
      "\r",
      "t:   5%|███▍                                                               | 65/1260 [00:05<01:43, 11.59it/s, now=None]"
     ]
    },
    {
     "name": "stdout",
     "output_type": "stream",
     "text": [
      "\n",
      "Current frame:  66\n",
      "Normal Mode\n",
      "Current frame:  67\n",
      "Normal Mode\n"
     ]
    },
    {
     "name": "stderr",
     "output_type": "stream",
     "text": [
      "t:   5%|███▋                                                               | 69/1260 [00:05<01:45, 11.29it/s, now=None]"
     ]
    },
    {
     "name": "stdout",
     "output_type": "stream",
     "text": [
      "Current frame:  68\n",
      "Normal Mode\n",
      "Current frame:  69\n",
      "Normal Mode\n",
      "Current frame:  70\n"
     ]
    },
    {
     "name": "stderr",
     "output_type": "stream",
     "text": [
      "\r",
      "t:   6%|███▊                                                               | 71/1260 [00:05<01:44, 11.33it/s, now=None]"
     ]
    },
    {
     "name": "stdout",
     "output_type": "stream",
     "text": [
      "Normal Mode\n",
      "Current frame:  71\n",
      "Normal Mode\n",
      "Current frame:  72\n",
      "Normal Mode\n",
      "Current frame: "
     ]
    },
    {
     "name": "stderr",
     "output_type": "stream",
     "text": [
      "\r",
      "t:   6%|███▉                                                               | 73/1260 [00:06<01:43, 11.47it/s, now=None]"
     ]
    },
    {
     "name": "stdout",
     "output_type": "stream",
     "text": [
      " 73\n",
      "Normal Mode\n",
      "Current frame:  74\n",
      "Normal Mode\n",
      "Current frame:  75\n"
     ]
    },
    {
     "name": "stderr",
     "output_type": "stream",
     "text": [
      "t:   6%|████                                                               | 77/1260 [00:06<01:40, 11.81it/s, now=None]"
     ]
    },
    {
     "name": "stdout",
     "output_type": "stream",
     "text": [
      "Normal Mode\n",
      "Current frame:  76\n",
      "Normal Mode\n",
      "Current frame:  77\n",
      "Normal Mode\n"
     ]
    },
    {
     "name": "stderr",
     "output_type": "stream",
     "text": [
      "\r",
      "t:   6%|████▏                                                              | 79/1260 [00:06<01:38, 11.94it/s, now=None]"
     ]
    },
    {
     "name": "stdout",
     "output_type": "stream",
     "text": [
      "Current frame:  78\n",
      "Normal Mode\n",
      "Current frame:  79\n",
      "Normal Mode\n",
      "Current frame:  80\n"
     ]
    },
    {
     "name": "stderr",
     "output_type": "stream",
     "text": [
      "\r",
      "t:   6%|████▎                                                              | 81/1260 [00:06<01:38, 12.00it/s, now=None]"
     ]
    },
    {
     "name": "stdout",
     "output_type": "stream",
     "text": [
      "Normal Mode\n",
      "Current frame:  81\n",
      "Normal Mode\n",
      "Current frame:  82\n",
      "Normal Mode\n",
      "Current frame: "
     ]
    },
    {
     "name": "stderr",
     "output_type": "stream",
     "text": [
      "\r",
      "t:   7%|████▍                                                              | 83/1260 [00:06<01:57, 10.00it/s, now=None]"
     ]
    },
    {
     "name": "stdout",
     "output_type": "stream",
     "text": [
      " 83\n",
      "Normal Mode\n"
     ]
    },
    {
     "name": "stderr",
     "output_type": "stream",
     "text": [
      "\r",
      "t:   7%|████▌                                                              | 85/1260 [00:07<01:50, 10.60it/s, now=None]"
     ]
    },
    {
     "name": "stdout",
     "output_type": "stream",
     "text": [
      "Current frame:  84\n",
      "Normal Mode\n",
      "Current frame:  85\n",
      "Normal Mode\n",
      "Current frame:  86\n"
     ]
    },
    {
     "name": "stderr",
     "output_type": "stream",
     "text": [
      "\r",
      "t:   7%|████▋                                                              | 87/1260 [00:07<01:49, 10.75it/s, now=None]"
     ]
    },
    {
     "name": "stdout",
     "output_type": "stream",
     "text": [
      "Normal Mode\n",
      "Current frame:  87\n",
      "Normal Mode\n",
      "Current frame:  88\n",
      "Normal Mode\n"
     ]
    },
    {
     "name": "stderr",
     "output_type": "stream",
     "text": [
      "\r",
      "t:   7%|████▋                                                              | 89/1260 [00:07<01:49, 10.70it/s, now=None]"
     ]
    },
    {
     "name": "stdout",
     "output_type": "stream",
     "text": [
      "Current frame:  89\n",
      "Normal Mode\n",
      "Current frame:  90\n",
      "Normal Mode\n",
      "Current frame:  91\n"
     ]
    },
    {
     "name": "stderr",
     "output_type": "stream",
     "text": [
      "t:   7%|████▉                                                              | 93/1260 [00:07<01:43, 11.31it/s, now=None]"
     ]
    },
    {
     "name": "stdout",
     "output_type": "stream",
     "text": [
      "Normal Mode\n",
      "Current frame:  92\n",
      "Normal Mode\n",
      "Current frame:  93\n",
      "Normal Mode\n"
     ]
    },
    {
     "name": "stderr",
     "output_type": "stream",
     "text": [
      "\r",
      "t:   8%|█████                                                              | 95/1260 [00:08<01:41, 11.47it/s, now=None]"
     ]
    },
    {
     "name": "stdout",
     "output_type": "stream",
     "text": [
      "Current frame:  94\n",
      "Normal Mode\n",
      "Current frame:  95\n",
      "Normal Mode\n",
      "Current frame:  96\n"
     ]
    },
    {
     "name": "stderr",
     "output_type": "stream",
     "text": [
      "\r",
      "t:   8%|█████▏                                                             | 97/1260 [00:08<01:40, 11.61it/s, now=None]"
     ]
    },
    {
     "name": "stdout",
     "output_type": "stream",
     "text": [
      "Normal Mode\n",
      "Current frame:  97\n",
      "Normal Mode\n",
      "Current frame:  98\n",
      "Normal Mode\n",
      "Current frame: "
     ]
    },
    {
     "name": "stderr",
     "output_type": "stream",
     "text": [
      "\r",
      "t:   8%|█████▎                                                             | 99/1260 [00:08<01:37, 11.91it/s, now=None]"
     ]
    },
    {
     "name": "stdout",
     "output_type": "stream",
     "text": [
      " 99\n",
      "Normal Mode\n",
      "Current frame:  100\n",
      "Normal Mode\n",
      "Current frame:  101\n"
     ]
    },
    {
     "name": "stderr",
     "output_type": "stream",
     "text": [
      "\r",
      "t:   8%|█████▎                                                            | 101/1260 [00:08<01:36, 12.00it/s, now=None]"
     ]
    },
    {
     "name": "stdout",
     "output_type": "stream",
     "text": [
      "Normal Mode\n",
      "Current frame:  102\n",
      "Normal Mode\n",
      "Current frame:  103\n",
      "Normal Mode\n"
     ]
    },
    {
     "name": "stderr",
     "output_type": "stream",
     "text": [
      "t:   8%|█████▌                                                            | 105/1260 [00:08<01:35, 12.11it/s, now=None]"
     ]
    },
    {
     "name": "stdout",
     "output_type": "stream",
     "text": [
      "Current frame:  104\n",
      "Normal Mode\n",
      "Current frame:  105\n",
      "Normal Mode\n",
      "Current frame:  106\n"
     ]
    },
    {
     "name": "stderr",
     "output_type": "stream",
     "text": [
      "\r",
      "t:   8%|█████▌                                                            | 107/1260 [00:09<01:35, 12.03it/s, now=None]"
     ]
    },
    {
     "name": "stdout",
     "output_type": "stream",
     "text": [
      "Normal Mode\n",
      "Current frame:  107\n",
      "Normal Mode\n",
      "Current frame:  108\n",
      "Normal Mode\n"
     ]
    },
    {
     "name": "stderr",
     "output_type": "stream",
     "text": [
      "\r",
      "t:   9%|█████▋                                                            | 109/1260 [00:09<01:35, 12.00it/s, now=None]"
     ]
    },
    {
     "name": "stdout",
     "output_type": "stream",
     "text": [
      "Current frame:  109\n",
      "Normal Mode\n",
      "Current frame:  110\n",
      "Normal Mode\n",
      "Current frame:  111\n",
      "Normal Mode"
     ]
    },
    {
     "name": "stderr",
     "output_type": "stream",
     "text": [
      "\r",
      "t:   9%|█████▊                                                            | 111/1260 [00:09<01:35, 12.04it/s, now=None]"
     ]
    },
    {
     "name": "stdout",
     "output_type": "stream",
     "text": [
      "\n",
      "Current frame:  112\n",
      "Normal Mode\n",
      "Current frame:  113\n",
      "Normal Mode\n"
     ]
    },
    {
     "name": "stderr",
     "output_type": "stream",
     "text": [
      "t:   9%|██████                                                            | 115/1260 [00:09<01:37, 11.74it/s, now=None]"
     ]
    },
    {
     "name": "stdout",
     "output_type": "stream",
     "text": [
      "Current frame:  114\n",
      "Normal Mode\n",
      "Current frame:  115\n",
      "Normal Mode\n",
      "Current frame:  116\n"
     ]
    },
    {
     "name": "stderr",
     "output_type": "stream",
     "text": [
      "\r",
      "t:   9%|██████▏                                                           | 117/1260 [00:09<01:36, 11.82it/s, now=None]"
     ]
    },
    {
     "name": "stdout",
     "output_type": "stream",
     "text": [
      "Normal Mode\n",
      "Current frame:  117\n",
      "Normal Mode\n",
      "Current frame:  118\n",
      "Normal Mode\n"
     ]
    },
    {
     "name": "stderr",
     "output_type": "stream",
     "text": [
      "\r",
      "t:   9%|██████▏                                                           | 119/1260 [00:10<01:36, 11.77it/s, now=None]"
     ]
    },
    {
     "name": "stdout",
     "output_type": "stream",
     "text": [
      "Current frame:  119\n",
      "Normal Mode\n",
      "Current frame:  120\n",
      "Normal Mode\n",
      "Current frame:  121\n"
     ]
    },
    {
     "name": "stderr",
     "output_type": "stream",
     "text": [
      "t:  10%|██████▍                                                           | 123/1260 [00:10<01:35, 11.94it/s, now=None]"
     ]
    },
    {
     "name": "stdout",
     "output_type": "stream",
     "text": [
      "Normal Mode\n",
      "Current frame:  122\n",
      "Normal Mode\n",
      "Current frame:  123\n",
      "Normal Mode\n"
     ]
    },
    {
     "name": "stderr",
     "output_type": "stream",
     "text": [
      "\r",
      "t:  10%|██████▌                                                           | 125/1260 [00:10<01:33, 12.13it/s, now=None]"
     ]
    },
    {
     "name": "stdout",
     "output_type": "stream",
     "text": [
      "Current frame:  124\n",
      "Normal Mode\n",
      "Current frame:  125\n",
      "Normal Mode\n",
      "Current frame:  126\n",
      "Normal Mode"
     ]
    },
    {
     "name": "stderr",
     "output_type": "stream",
     "text": [
      "\r",
      "t:  10%|██████▋                                                           | 127/1260 [00:10<01:32, 12.26it/s, now=None]"
     ]
    },
    {
     "name": "stdout",
     "output_type": "stream",
     "text": [
      "\n",
      "Current frame:  127\n",
      "Normal Mode\n",
      "Current frame:  128\n",
      "Normal Mode\n",
      "Current frame: "
     ]
    },
    {
     "name": "stderr",
     "output_type": "stream",
     "text": [
      "\r",
      "t:  10%|██████▊                                                           | 129/1260 [00:10<01:33, 12.15it/s, now=None]"
     ]
    },
    {
     "name": "stdout",
     "output_type": "stream",
     "text": [
      " 129\n",
      "Normal Mode\n",
      "Current frame:  130\n",
      "Normal Mode\n",
      "Current frame:  131\n"
     ]
    },
    {
     "name": "stderr",
     "output_type": "stream",
     "text": [
      "\r",
      "t:  10%|██████▊                                                           | 131/1260 [00:11<01:33, 12.02it/s, now=None]"
     ]
    },
    {
     "name": "stdout",
     "output_type": "stream",
     "text": [
      "Normal Mode\n",
      "Current frame:  132\n",
      "Normal Mode\n",
      "Current frame:  133\n",
      "Normal Mode\n"
     ]
    },
    {
     "name": "stderr",
     "output_type": "stream",
     "text": [
      "t:  11%|███████                                                           | 135/1260 [00:11<01:32, 12.19it/s, now=None]"
     ]
    },
    {
     "name": "stdout",
     "output_type": "stream",
     "text": [
      "Current frame:  134\n",
      "Normal Mode\n",
      "Current frame:  135\n",
      "Normal Mode\n",
      "Current frame:  136\n"
     ]
    },
    {
     "name": "stderr",
     "output_type": "stream",
     "text": [
      "\r",
      "t:  11%|███████▏                                                          | 137/1260 [00:11<01:31, 12.34it/s, now=None]"
     ]
    },
    {
     "name": "stdout",
     "output_type": "stream",
     "text": [
      "Normal Mode\n",
      "Current frame:  137\n",
      "Normal Mode\n",
      "Current frame:  138\n",
      "Normal Mode\n",
      "Current frame: "
     ]
    },
    {
     "name": "stderr",
     "output_type": "stream",
     "text": [
      "\r",
      "t:  11%|███████▎                                                          | 139/1260 [00:11<01:30, 12.42it/s, now=None]"
     ]
    },
    {
     "name": "stdout",
     "output_type": "stream",
     "text": [
      " 139\n",
      "Normal Mode\n",
      "Current frame:  140\n",
      "Normal Mode\n",
      "Current frame:  141\n",
      "Normal Mode"
     ]
    },
    {
     "name": "stderr",
     "output_type": "stream",
     "text": [
      "\r",
      "t:  11%|███████▍                                                          | 141/1260 [00:11<01:30, 12.34it/s, now=None]"
     ]
    },
    {
     "name": "stdout",
     "output_type": "stream",
     "text": [
      "\n",
      "Current frame:  142\n",
      "Normal Mode\n",
      "Current frame:  143\n",
      "Normal Mode\n"
     ]
    },
    {
     "name": "stderr",
     "output_type": "stream",
     "text": [
      "t:  12%|███████▌                                                          | 145/1260 [00:12<01:34, 11.82it/s, now=None]"
     ]
    },
    {
     "name": "stdout",
     "output_type": "stream",
     "text": [
      "Current frame:  144\n",
      "Normal Mode\n",
      "Current frame:  145\n",
      "Normal Mode\n"
     ]
    },
    {
     "name": "stderr",
     "output_type": "stream",
     "text": [
      "\r",
      "t:  12%|███████▋                                                          | 147/1260 [00:12<01:33, 11.86it/s, now=None]"
     ]
    },
    {
     "name": "stdout",
     "output_type": "stream",
     "text": [
      "Current frame:  146\n",
      "Normal Mode\n",
      "Current frame:  147\n",
      "Normal Mode\n",
      "Current frame:  148\n"
     ]
    },
    {
     "name": "stderr",
     "output_type": "stream",
     "text": [
      "\r",
      "t:  12%|███████▊                                                          | 149/1260 [00:12<01:33, 11.91it/s, now=None]"
     ]
    },
    {
     "name": "stdout",
     "output_type": "stream",
     "text": [
      "Normal Mode\n",
      "Current frame:  149\n",
      "Normal Mode\n",
      "Current frame:  150\n",
      "Normal Mode\n"
     ]
    },
    {
     "name": "stderr",
     "output_type": "stream",
     "text": [
      "\r",
      "t:  12%|███████▉                                                          | 151/1260 [00:12<01:35, 11.65it/s, now=None]"
     ]
    },
    {
     "name": "stdout",
     "output_type": "stream",
     "text": [
      "Current frame:  151\n",
      "Normal Mode\n",
      "Current frame:  152\n",
      "Normal Mode\n",
      "Current frame:  153\n"
     ]
    },
    {
     "name": "stderr",
     "output_type": "stream",
     "text": [
      "\r",
      "t:  12%|████████                                                          | 153/1260 [00:12<01:36, 11.53it/s, now=None]"
     ]
    },
    {
     "name": "stdout",
     "output_type": "stream",
     "text": [
      "Normal Mode\n",
      "Current frame:  154\n",
      "Normal Mode\n",
      "Current frame:  155\n",
      "Normal Mode\n"
     ]
    },
    {
     "name": "stderr",
     "output_type": "stream",
     "text": [
      "t:  12%|████████▏                                                         | 157/1260 [00:13<01:33, 11.78it/s, now=None]"
     ]
    },
    {
     "name": "stdout",
     "output_type": "stream",
     "text": [
      "Current frame:  156\n",
      "Normal Mode\n",
      "Current frame:  157\n",
      "Normal Mode\n",
      "Current frame:  158\n"
     ]
    },
    {
     "name": "stderr",
     "output_type": "stream",
     "text": [
      "\r",
      "t:  13%|████████▎                                                         | 159/1260 [00:13<01:32, 11.89it/s, now=None]"
     ]
    },
    {
     "name": "stdout",
     "output_type": "stream",
     "text": [
      "Normal Mode\n",
      "Current frame:  159\n",
      "Normal Mode\n",
      "Current frame:  160\n",
      "Normal Mode\n",
      "Current frame: "
     ]
    },
    {
     "name": "stderr",
     "output_type": "stream",
     "text": [
      "\r",
      "t:  13%|████████▍                                                         | 161/1260 [00:13<01:31, 12.03it/s, now=None]"
     ]
    },
    {
     "name": "stdout",
     "output_type": "stream",
     "text": [
      " 161\n",
      "Normal Mode\n",
      "Current frame:  162\n",
      "Normal Mode\n",
      "Current frame:  163\n",
      "Normal Mode"
     ]
    },
    {
     "name": "stderr",
     "output_type": "stream",
     "text": [
      "\r",
      "t:  13%|████████▌                                                         | 163/1260 [00:13<01:29, 12.25it/s, now=None]"
     ]
    },
    {
     "name": "stdout",
     "output_type": "stream",
     "text": [
      "\n",
      "Current frame:  164\n",
      "Normal Mode\n",
      "Current frame:  165\n",
      "Normal Mode\n"
     ]
    },
    {
     "name": "stderr",
     "output_type": "stream",
     "text": [
      "t:  13%|████████▋                                                         | 167/1260 [00:14<01:29, 12.15it/s, now=None]"
     ]
    },
    {
     "name": "stdout",
     "output_type": "stream",
     "text": [
      "Current frame:  166\n",
      "Normal Mode\n",
      "Current frame:  167\n",
      "Normal Mode\n",
      "Current frame:  168\n"
     ]
    },
    {
     "name": "stderr",
     "output_type": "stream",
     "text": [
      "\r",
      "t:  13%|████████▊                                                         | 169/1260 [00:14<01:29, 12.18it/s, now=None]"
     ]
    },
    {
     "name": "stdout",
     "output_type": "stream",
     "text": [
      "Normal Mode\n",
      "Current frame:  169\n",
      "Normal Mode\n",
      "Current frame:  170\n",
      "Normal Mode\n",
      "Current frame: "
     ]
    },
    {
     "name": "stderr",
     "output_type": "stream",
     "text": [
      "\r",
      "t:  14%|████████▉                                                         | 171/1260 [00:14<01:29, 12.19it/s, now=None]"
     ]
    },
    {
     "name": "stdout",
     "output_type": "stream",
     "text": [
      " 171\n",
      "Normal Mode\n",
      "Current frame:  172\n",
      "Normal Mode\n",
      "Current frame:  173\n"
     ]
    },
    {
     "name": "stderr",
     "output_type": "stream",
     "text": [
      "t:  14%|█████████▏                                                        | 175/1260 [00:14<01:29, 12.18it/s, now=None]"
     ]
    },
    {
     "name": "stdout",
     "output_type": "stream",
     "text": [
      "Normal Mode\n",
      "Current frame:  174\n",
      "Normal Mode\n",
      "Current frame:  175\n",
      "Normal Mode\n"
     ]
    },
    {
     "name": "stderr",
     "output_type": "stream",
     "text": [
      "\r",
      "t:  14%|█████████▎                                                        | 177/1260 [00:14<01:29, 12.06it/s, now=None]"
     ]
    },
    {
     "name": "stdout",
     "output_type": "stream",
     "text": [
      "Current frame:  176\n",
      "Normal Mode\n",
      "Current frame:  177\n",
      "Normal Mode\n",
      "Current frame:  178\n"
     ]
    },
    {
     "name": "stderr",
     "output_type": "stream",
     "text": [
      "\r",
      "t:  14%|█████████▍                                                        | 179/1260 [00:15<01:31, 11.79it/s, now=None]"
     ]
    },
    {
     "name": "stdout",
     "output_type": "stream",
     "text": [
      "Normal Mode\n",
      "Current frame:  179\n",
      "Normal Mode\n",
      "Current frame:  180\n",
      "Normal Mode"
     ]
    },
    {
     "name": "stderr",
     "output_type": "stream",
     "text": [
      "\r",
      "t:  14%|█████████▍                                                        | 181/1260 [00:15<01:30, 11.94it/s, now=None]"
     ]
    },
    {
     "name": "stdout",
     "output_type": "stream",
     "text": [
      "\n",
      "Current frame:  181\n",
      "Normal Mode\n",
      "Current frame:  182\n",
      "Normal Mode\n",
      "Current frame: "
     ]
    },
    {
     "name": "stderr",
     "output_type": "stream",
     "text": [
      "\r",
      "t:  15%|█████████▌                                                        | 183/1260 [00:15<01:29, 11.98it/s, now=None]"
     ]
    },
    {
     "name": "stdout",
     "output_type": "stream",
     "text": [
      " 183\n",
      "Normal Mode\n",
      "Current frame:  184\n",
      "Normal Mode\n",
      "Current frame:  185\n",
      "Normal Mode"
     ]
    },
    {
     "name": "stderr",
     "output_type": "stream",
     "text": [
      "\r",
      "t:  15%|█████████▋                                                        | 185/1260 [00:15<01:29, 12.08it/s, now=None]"
     ]
    },
    {
     "name": "stdout",
     "output_type": "stream",
     "text": [
      "\n",
      "Current frame:  186\n",
      "Normal Mode\n",
      "Current frame:  187\n",
      "Normal Mode\n"
     ]
    },
    {
     "name": "stderr",
     "output_type": "stream",
     "text": [
      "t:  15%|█████████▉                                                        | 189/1260 [00:15<01:27, 12.20it/s, now=None]"
     ]
    },
    {
     "name": "stdout",
     "output_type": "stream",
     "text": [
      "Current frame:  188\n",
      "Normal Mode\n",
      "Current frame:  189\n",
      "Normal Mode\n",
      "Current frame:  190\n",
      "Normal Mode"
     ]
    },
    {
     "name": "stderr",
     "output_type": "stream",
     "text": [
      "\r",
      "t:  15%|██████████                                                        | 191/1260 [00:15<01:27, 12.27it/s, now=None]"
     ]
    },
    {
     "name": "stdout",
     "output_type": "stream",
     "text": [
      "\n",
      "Current frame:  191\n",
      "Normal Mode\n",
      "Current frame:  192\n",
      "Normal Mode\n",
      "Current frame: "
     ]
    },
    {
     "name": "stderr",
     "output_type": "stream",
     "text": [
      "\r",
      "t:  15%|██████████                                                        | 193/1260 [00:16<01:26, 12.33it/s, now=None]"
     ]
    },
    {
     "name": "stdout",
     "output_type": "stream",
     "text": [
      " 193\n",
      "Normal Mode\n",
      "Current frame:  194\n",
      "Normal Mode\n",
      "Current frame:  195\n"
     ]
    },
    {
     "name": "stderr",
     "output_type": "stream",
     "text": [
      "t:  16%|██████████▎                                                       | 197/1260 [00:16<01:27, 12.19it/s, now=None]"
     ]
    },
    {
     "name": "stdout",
     "output_type": "stream",
     "text": [
      "Normal Mode\n",
      "Current frame:  196\n",
      "Normal Mode\n",
      "Current frame:  197\n",
      "Normal Mode\n"
     ]
    },
    {
     "name": "stderr",
     "output_type": "stream",
     "text": [
      "\r",
      "t:  16%|██████████▍                                                       | 199/1260 [00:16<01:27, 12.12it/s, now=None]"
     ]
    },
    {
     "name": "stdout",
     "output_type": "stream",
     "text": [
      "Current frame:  198\n",
      "Normal Mode\n",
      "Current frame:  199\n",
      "Normal Mode\n",
      "Current frame:  200\n"
     ]
    },
    {
     "name": "stderr",
     "output_type": "stream",
     "text": [
      "\r",
      "t:  16%|██████████▌                                                       | 201/1260 [00:16<01:26, 12.19it/s, now=None]"
     ]
    },
    {
     "name": "stdout",
     "output_type": "stream",
     "text": [
      "Normal Mode\n",
      "Current frame:  201\n",
      "Normal Mode\n",
      "Current frame:  202\n",
      "Normal Mode\n",
      "Current frame: "
     ]
    },
    {
     "name": "stderr",
     "output_type": "stream",
     "text": [
      "\r",
      "t:  16%|██████████▋                                                       | 203/1260 [00:16<01:27, 12.11it/s, now=None]"
     ]
    },
    {
     "name": "stdout",
     "output_type": "stream",
     "text": [
      " 203\n",
      "Normal Mode\n",
      "Current frame:  204\n",
      "Normal Mode\n",
      "Current frame:  205\n",
      "Normal Mode"
     ]
    },
    {
     "name": "stderr",
     "output_type": "stream",
     "text": [
      "t:  16%|██████████▊                                                       | 207/1260 [00:17<01:27, 12.08it/s, now=None]"
     ]
    },
    {
     "name": "stdout",
     "output_type": "stream",
     "text": [
      "\n",
      "Current frame:  206\n",
      "Normal Mode\n",
      "Current frame:  207\n",
      "Normal Mode\n"
     ]
    },
    {
     "name": "stderr",
     "output_type": "stream",
     "text": [
      "\r",
      "t:  17%|██████████▉                                                       | 209/1260 [00:17<01:27, 11.95it/s, now=None]"
     ]
    },
    {
     "name": "stdout",
     "output_type": "stream",
     "text": [
      "Current frame:  208\n",
      "Normal Mode\n",
      "Current frame:  209\n",
      "Normal Mode\n",
      "Current frame:  210\n"
     ]
    },
    {
     "name": "stderr",
     "output_type": "stream",
     "text": [
      "\r",
      "t:  17%|███████████                                                       | 211/1260 [00:17<01:26, 12.14it/s, now=None]"
     ]
    },
    {
     "name": "stdout",
     "output_type": "stream",
     "text": [
      "Normal Mode\n",
      "Current frame:  211\n",
      "Normal Mode\n",
      "Current frame:  212\n",
      "Normal Mode\n",
      "Current frame: "
     ]
    },
    {
     "name": "stderr",
     "output_type": "stream",
     "text": [
      "\r",
      "t:  17%|███████████▏                                                      | 213/1260 [00:17<01:25, 12.19it/s, now=None]"
     ]
    },
    {
     "name": "stdout",
     "output_type": "stream",
     "text": [
      " 213\n",
      "Normal Mode\n",
      "Current frame:  214\n",
      "Normal Mode\n",
      "Current frame:  215\n",
      "Normal Mode"
     ]
    },
    {
     "name": "stderr",
     "output_type": "stream",
     "text": [
      "\r",
      "t:  17%|███████████▎                                                      | 215/1260 [00:17<01:26, 12.13it/s, now=None]"
     ]
    },
    {
     "name": "stdout",
     "output_type": "stream",
     "text": [
      "\n",
      "Current frame:  216\n",
      "Normal Mode\n",
      "Current frame:  217\n",
      "Normal Mode\n"
     ]
    },
    {
     "name": "stderr",
     "output_type": "stream",
     "text": [
      "t:  17%|███████████▍                                                      | 219/1260 [00:18<01:24, 12.37it/s, now=None]"
     ]
    },
    {
     "name": "stdout",
     "output_type": "stream",
     "text": [
      "Current frame:  218\n",
      "Normal Mode\n",
      "Current frame:  219\n",
      "Normal Mode\n",
      "Current frame:  220\n",
      "Normal Mode"
     ]
    },
    {
     "name": "stderr",
     "output_type": "stream",
     "text": [
      "\r",
      "t:  18%|███████████▌                                                      | 221/1260 [00:18<01:23, 12.39it/s, now=None]"
     ]
    },
    {
     "name": "stdout",
     "output_type": "stream",
     "text": [
      "\n",
      "Current frame:  221\n",
      "Normal Mode\n",
      "Current frame:  222\n",
      "Normal Mode\n",
      "Current frame: "
     ]
    },
    {
     "name": "stderr",
     "output_type": "stream",
     "text": [
      "\r",
      "t:  18%|███████████▋                                                      | 223/1260 [00:18<01:22, 12.53it/s, now=None]"
     ]
    },
    {
     "name": "stdout",
     "output_type": "stream",
     "text": [
      " 223\n",
      "Normal Mode\n",
      "Current frame:  224\n",
      "Normal Mode\n",
      "Current frame:  225\n",
      "Normal Mode"
     ]
    },
    {
     "name": "stderr",
     "output_type": "stream",
     "text": [
      "\r",
      "t:  18%|███████████▊                                                      | 225/1260 [00:18<01:22, 12.53it/s, now=None]"
     ]
    },
    {
     "name": "stdout",
     "output_type": "stream",
     "text": [
      "\n",
      "Current frame:  226\n",
      "Normal Mode\n",
      "Current frame:  227\n",
      "Normal Mode\n"
     ]
    },
    {
     "name": "stderr",
     "output_type": "stream",
     "text": [
      "t:  18%|███████████▉                                                      | 229/1260 [00:19<01:23, 12.40it/s, now=None]"
     ]
    },
    {
     "name": "stdout",
     "output_type": "stream",
     "text": [
      "Current frame:  228\n",
      "Normal Mode\n",
      "Current frame:  229\n",
      "Normal Mode\n",
      "Current frame:  230\n"
     ]
    },
    {
     "name": "stderr",
     "output_type": "stream",
     "text": [
      "\r",
      "t:  18%|████████████                                                      | 231/1260 [00:19<01:23, 12.35it/s, now=None]"
     ]
    },
    {
     "name": "stdout",
     "output_type": "stream",
     "text": [
      "Normal Mode\n",
      "Current frame:  231\n",
      "Normal Mode\n",
      "Current frame:  232\n",
      "Normal Mode\n"
     ]
    },
    {
     "name": "stderr",
     "output_type": "stream",
     "text": [
      "\r",
      "t:  18%|████████████▏                                                     | 233/1260 [00:19<01:23, 12.29it/s, now=None]"
     ]
    },
    {
     "name": "stdout",
     "output_type": "stream",
     "text": [
      "Current frame:  233\n",
      "Normal Mode\n",
      "Current frame:  234\n",
      "Normal Mode\n",
      "Current frame:  235\n"
     ]
    },
    {
     "name": "stderr",
     "output_type": "stream",
     "text": [
      "\r",
      "t:  19%|████████████▎                                                     | 235/1260 [00:19<01:23, 12.29it/s, now=None]"
     ]
    },
    {
     "name": "stdout",
     "output_type": "stream",
     "text": [
      "Normal Mode\n",
      "Current frame:  236\n",
      "Normal Mode\n",
      "Current frame:  237\n",
      "Normal Mode\n"
     ]
    },
    {
     "name": "stderr",
     "output_type": "stream",
     "text": [
      "t:  19%|████████████▌                                                     | 239/1260 [00:19<01:23, 12.25it/s, now=None]"
     ]
    },
    {
     "name": "stdout",
     "output_type": "stream",
     "text": [
      "Current frame:  238\n",
      "Normal Mode\n",
      "Current frame:  239\n",
      "Normal Mode\n",
      "Current frame:  240\n",
      "Normal Mode"
     ]
    },
    {
     "name": "stderr",
     "output_type": "stream",
     "text": [
      "\r",
      "t:  19%|████████████▌                                                     | 241/1260 [00:20<01:24, 12.00it/s, now=None]"
     ]
    },
    {
     "name": "stdout",
     "output_type": "stream",
     "text": [
      "\n",
      "Current frame:  241\n",
      "Normal Mode\n",
      "Current frame:  242\n",
      "Normal Mode\n"
     ]
    },
    {
     "name": "stderr",
     "output_type": "stream",
     "text": [
      "\r",
      "t:  19%|████████████▋                                                     | 243/1260 [00:20<01:24, 12.03it/s, now=None]"
     ]
    },
    {
     "name": "stdout",
     "output_type": "stream",
     "text": [
      "Current frame:  243\n",
      "Normal Mode\n",
      "Current frame:  244\n",
      "Normal Mode\n",
      "Current frame:  245\n"
     ]
    },
    {
     "name": "stderr",
     "output_type": "stream",
     "text": [
      "t:  20%|████████████▉                                                     | 247/1260 [00:20<01:22, 12.26it/s, now=None]"
     ]
    },
    {
     "name": "stdout",
     "output_type": "stream",
     "text": [
      "Normal Mode\n",
      "Current frame:  246\n",
      "Normal Mode\n",
      "Current frame:  247\n",
      "Normal Mode\n"
     ]
    },
    {
     "name": "stderr",
     "output_type": "stream",
     "text": [
      "\r",
      "t:  20%|█████████████                                                     | 249/1260 [00:20<01:22, 12.25it/s, now=None]"
     ]
    },
    {
     "name": "stdout",
     "output_type": "stream",
     "text": [
      "Current frame:  248\n",
      "Normal Mode\n",
      "Current frame:  249\n",
      "Normal Mode\n",
      "Current frame:  250\n"
     ]
    },
    {
     "name": "stderr",
     "output_type": "stream",
     "text": [
      "\r",
      "t:  20%|█████████████▏                                                    | 251/1260 [00:20<01:22, 12.20it/s, now=None]"
     ]
    },
    {
     "name": "stdout",
     "output_type": "stream",
     "text": [
      "Normal Mode\n",
      "Current frame:  251\n",
      "Normal Mode\n",
      "Current frame:  252\n",
      "Normal Mode\n",
      "Current frame: "
     ]
    },
    {
     "name": "stderr",
     "output_type": "stream",
     "text": [
      "\r",
      "t:  20%|█████████████▎                                                    | 253/1260 [00:21<01:22, 12.14it/s, now=None]"
     ]
    },
    {
     "name": "stdout",
     "output_type": "stream",
     "text": [
      " 253\n",
      "Normal Mode\n",
      "Current frame:  254\n",
      "Normal Mode\n",
      "Current frame:  255\n",
      "Normal Mode"
     ]
    },
    {
     "name": "stderr",
     "output_type": "stream",
     "text": [
      "\r",
      "t:  20%|█████████████▎                                                    | 255/1260 [00:21<01:22, 12.14it/s, now=None]"
     ]
    },
    {
     "name": "stdout",
     "output_type": "stream",
     "text": [
      "\n",
      "Current frame:  256\n",
      "Normal Mode\n",
      "Current frame:  257\n",
      "Normal Mode\n"
     ]
    },
    {
     "name": "stderr",
     "output_type": "stream",
     "text": [
      "t:  21%|█████████████▌                                                    | 259/1260 [00:21<01:21, 12.32it/s, now=None]"
     ]
    },
    {
     "name": "stdout",
     "output_type": "stream",
     "text": [
      "Current frame:  258\n",
      "Normal Mode\n",
      "Current frame:  259\n",
      "Normal Mode\n",
      "Current frame:  260\n",
      "Normal Mode"
     ]
    },
    {
     "name": "stderr",
     "output_type": "stream",
     "text": [
      "\r",
      "t:  21%|█████████████▋                                                    | 261/1260 [00:21<01:22, 12.16it/s, now=None]"
     ]
    },
    {
     "name": "stdout",
     "output_type": "stream",
     "text": [
      "\n",
      "Current frame:  261\n",
      "Normal Mode\n",
      "Current frame:  262\n",
      "Normal Mode\n"
     ]
    },
    {
     "name": "stderr",
     "output_type": "stream",
     "text": [
      "\r",
      "t:  21%|█████████████▊                                                    | 263/1260 [00:21<01:21, 12.20it/s, now=None]"
     ]
    },
    {
     "name": "stdout",
     "output_type": "stream",
     "text": [
      "Current frame:  263\n",
      "Normal Mode\n",
      "Current frame:  264\n",
      "Normal Mode\n",
      "Current frame:  265\n"
     ]
    },
    {
     "name": "stderr",
     "output_type": "stream",
     "text": [
      "t:  21%|█████████████▉                                                    | 267/1260 [00:22<01:21, 12.11it/s, now=None]"
     ]
    },
    {
     "name": "stdout",
     "output_type": "stream",
     "text": [
      "Normal Mode\n",
      "Current frame:  266\n",
      "Normal Mode\n",
      "Current frame:  267\n",
      "Normal Mode\n"
     ]
    },
    {
     "name": "stderr",
     "output_type": "stream",
     "text": [
      "\r",
      "t:  21%|██████████████                                                    | 269/1260 [00:22<01:20, 12.24it/s, now=None]"
     ]
    },
    {
     "name": "stdout",
     "output_type": "stream",
     "text": [
      "Current frame:  268\n",
      "Normal Mode\n",
      "Current frame:  269\n",
      "Normal Mode\n",
      "Current frame:  270\n"
     ]
    },
    {
     "name": "stderr",
     "output_type": "stream",
     "text": [
      "\r",
      "t:  22%|██████████████▏                                                   | 271/1260 [00:22<01:20, 12.30it/s, now=None]"
     ]
    },
    {
     "name": "stdout",
     "output_type": "stream",
     "text": [
      "Normal Mode\n",
      "Current frame:  271\n",
      "Normal Mode\n",
      "Current frame:  272\n",
      "Normal Mode\n",
      "Current frame: "
     ]
    },
    {
     "name": "stderr",
     "output_type": "stream",
     "text": [
      "\r",
      "t:  22%|██████████████▎                                                   | 273/1260 [00:22<01:19, 12.46it/s, now=None]"
     ]
    },
    {
     "name": "stdout",
     "output_type": "stream",
     "text": [
      " 273\n",
      "Normal Mode\n",
      "Current frame:  274\n",
      "Normal Mode\n",
      "Current frame:  275\n"
     ]
    },
    {
     "name": "stderr",
     "output_type": "stream",
     "text": [
      "t:  22%|██████████████▌                                                   | 277/1260 [00:23<01:20, 12.23it/s, now=None]"
     ]
    },
    {
     "name": "stdout",
     "output_type": "stream",
     "text": [
      "Normal Mode\n",
      "Current frame:  276\n",
      "Normal Mode\n",
      "Current frame:  277\n",
      "Normal Mode\n"
     ]
    },
    {
     "name": "stderr",
     "output_type": "stream",
     "text": [
      "\r",
      "t:  22%|██████████████▌                                                   | 279/1260 [00:23<01:19, 12.34it/s, now=None]"
     ]
    },
    {
     "name": "stdout",
     "output_type": "stream",
     "text": [
      "Current frame:  278\n",
      "Normal Mode\n",
      "Current frame:  279\n",
      "Normal Mode\n",
      "Current frame:  280\n"
     ]
    },
    {
     "name": "stderr",
     "output_type": "stream",
     "text": [
      "\r",
      "t:  22%|██████████████▋                                                   | 281/1260 [00:23<01:20, 12.13it/s, now=None]"
     ]
    },
    {
     "name": "stdout",
     "output_type": "stream",
     "text": [
      "Normal Mode\n",
      "Current frame:  281\n",
      "Normal Mode\n",
      "Current frame:  282\n",
      "Normal Mode\n",
      "Current frame: "
     ]
    },
    {
     "name": "stderr",
     "output_type": "stream",
     "text": [
      "\r",
      "t:  22%|██████████████▊                                                   | 283/1260 [00:23<01:21, 11.92it/s, now=None]"
     ]
    },
    {
     "name": "stdout",
     "output_type": "stream",
     "text": [
      " 283\n",
      "Normal Mode\n",
      "Current frame:  284\n",
      "Normal Mode\n",
      "Current frame:  285\n",
      "Normal Mode"
     ]
    },
    {
     "name": "stderr",
     "output_type": "stream",
     "text": [
      "\r",
      "t:  23%|██████████████▉                                                   | 285/1260 [00:23<01:21, 11.99it/s, now=None]"
     ]
    },
    {
     "name": "stdout",
     "output_type": "stream",
     "text": [
      "\n",
      "Current frame:  286\n",
      "Normal Mode\n",
      "Current frame:  287\n",
      "Normal Mode\n"
     ]
    },
    {
     "name": "stderr",
     "output_type": "stream",
     "text": [
      "t:  23%|███████████████▏                                                  | 289/1260 [00:24<01:21, 11.94it/s, now=None]"
     ]
    },
    {
     "name": "stdout",
     "output_type": "stream",
     "text": [
      "Current frame:  288\n",
      "Normal Mode\n",
      "Current frame:  289\n",
      "Normal Mode\n",
      "Current frame:  290\n"
     ]
    },
    {
     "name": "stderr",
     "output_type": "stream",
     "text": [
      "\r",
      "t:  23%|███████████████▏                                                  | 291/1260 [00:24<01:19, 12.24it/s, now=None]"
     ]
    },
    {
     "name": "stdout",
     "output_type": "stream",
     "text": [
      "Normal Mode\n",
      "Current frame:  291\n",
      "Normal Mode\n",
      "Current frame:  292\n",
      "Normal Mode\n",
      "Current frame: "
     ]
    },
    {
     "name": "stderr",
     "output_type": "stream",
     "text": [
      "\r",
      "t:  23%|███████████████▎                                                  | 293/1260 [00:24<01:20, 11.95it/s, now=None]"
     ]
    },
    {
     "name": "stdout",
     "output_type": "stream",
     "text": [
      " 293\n",
      "Normal Mode\n",
      "Current frame:  294\n",
      "Normal Mode\n",
      "Current frame:  295\n",
      "Normal Mode"
     ]
    },
    {
     "name": "stderr",
     "output_type": "stream",
     "text": [
      "t:  24%|███████████████▌                                                  | 297/1260 [00:24<01:18, 12.26it/s, now=None]"
     ]
    },
    {
     "name": "stdout",
     "output_type": "stream",
     "text": [
      "\n",
      "Current frame:  296\n",
      "Normal Mode\n",
      "Current frame:  297\n",
      "Normal Mode\n"
     ]
    },
    {
     "name": "stderr",
     "output_type": "stream",
     "text": [
      "\r",
      "t:  24%|███████████████▋                                                  | 299/1260 [00:24<01:17, 12.34it/s, now=None]"
     ]
    },
    {
     "name": "stdout",
     "output_type": "stream",
     "text": [
      "Current frame:  298\n",
      "Normal Mode\n",
      "Current frame:  299\n",
      "Normal Mode\n",
      "Current frame:  300\n"
     ]
    },
    {
     "name": "stderr",
     "output_type": "stream",
     "text": [
      "\r",
      "t:  24%|███████████████▊                                                  | 301/1260 [00:24<01:17, 12.37it/s, now=None]"
     ]
    },
    {
     "name": "stdout",
     "output_type": "stream",
     "text": [
      "Normal Mode\n",
      "Current frame:  301\n",
      "Normal Mode\n",
      "Current frame:  302\n",
      "Normal Mode\n",
      "Current frame: "
     ]
    },
    {
     "name": "stderr",
     "output_type": "stream",
     "text": [
      "\r",
      "t:  24%|███████████████▊                                                  | 303/1260 [00:25<01:16, 12.51it/s, now=None]"
     ]
    },
    {
     "name": "stdout",
     "output_type": "stream",
     "text": [
      " 303\n",
      "Normal Mode\n",
      "Current frame:  304\n",
      "Normal Mode\n",
      "Current frame:  305\n",
      "Normal Mode"
     ]
    },
    {
     "name": "stderr",
     "output_type": "stream",
     "text": [
      "t:  24%|████████████████                                                  | 307/1260 [00:25<01:16, 12.43it/s, now=None]"
     ]
    },
    {
     "name": "stdout",
     "output_type": "stream",
     "text": [
      "\n",
      "Current frame:  306\n",
      "Normal Mode\n",
      "Current frame:  307\n",
      "Normal Mode\n"
     ]
    },
    {
     "name": "stderr",
     "output_type": "stream",
     "text": [
      "\r",
      "t:  25%|████████████████▏                                                 | 309/1260 [00:25<01:17, 12.23it/s, now=None]"
     ]
    },
    {
     "name": "stdout",
     "output_type": "stream",
     "text": [
      "Current frame:  308\n",
      "Normal Mode\n",
      "Current frame:  309\n",
      "Normal Mode\n",
      "Current frame:  310\n"
     ]
    },
    {
     "name": "stderr",
     "output_type": "stream",
     "text": [
      "\r",
      "t:  25%|████████████████▎                                                 | 311/1260 [00:25<01:18, 12.12it/s, now=None]"
     ]
    },
    {
     "name": "stdout",
     "output_type": "stream",
     "text": [
      "Normal Mode\n",
      "Current frame:  311\n",
      "Normal Mode\n",
      "Current frame:  312\n",
      "Normal Mode\n",
      "Current frame: "
     ]
    },
    {
     "name": "stderr",
     "output_type": "stream",
     "text": [
      "\r",
      "t:  25%|████████████████▍                                                 | 313/1260 [00:25<01:18, 12.00it/s, now=None]"
     ]
    },
    {
     "name": "stdout",
     "output_type": "stream",
     "text": [
      " 313\n",
      "Normal Mode\n",
      "Current frame:  314\n",
      "Normal Mode\n",
      "Current frame:  315\n"
     ]
    },
    {
     "name": "stderr",
     "output_type": "stream",
     "text": [
      "\r",
      "t:  25%|████████████████▌                                                 | 315/1260 [00:26<01:17, 12.13it/s, now=None]"
     ]
    },
    {
     "name": "stdout",
     "output_type": "stream",
     "text": [
      "Normal Mode\n",
      "Current frame:  316\n",
      "Normal Mode\n",
      "Current frame:  317\n",
      "Normal Mode\n"
     ]
    },
    {
     "name": "stderr",
     "output_type": "stream",
     "text": [
      "t:  25%|████████████████▋                                                 | 319/1260 [00:26<01:17, 12.16it/s, now=None]"
     ]
    },
    {
     "name": "stdout",
     "output_type": "stream",
     "text": [
      "Current frame:  318\n",
      "Normal Mode\n",
      "Current frame:  319\n",
      "Normal Mode\n",
      "Current frame:  320\n",
      "Normal Mode"
     ]
    },
    {
     "name": "stderr",
     "output_type": "stream",
     "text": [
      "\r",
      "t:  25%|████████████████▊                                                 | 321/1260 [00:26<01:18, 12.03it/s, now=None]"
     ]
    },
    {
     "name": "stdout",
     "output_type": "stream",
     "text": [
      "\n",
      "Current frame:  321\n",
      "Normal Mode\n",
      "Current frame:  322\n",
      "Normal Mode\n"
     ]
    },
    {
     "name": "stderr",
     "output_type": "stream",
     "text": [
      "\r",
      "t:  26%|████████████████▉                                                 | 323/1260 [00:26<01:18, 11.98it/s, now=None]"
     ]
    },
    {
     "name": "stdout",
     "output_type": "stream",
     "text": [
      "Current frame:  323\n",
      "Normal Mode\n",
      "Current frame:  324\n",
      "Normal Mode\n",
      "Current frame:  325\n",
      "Normal Mode\n"
     ]
    },
    {
     "name": "stderr",
     "output_type": "stream",
     "text": [
      "t:  26%|█████████████████▏                                                | 327/1260 [00:27<01:16, 12.17it/s, now=None]"
     ]
    },
    {
     "name": "stdout",
     "output_type": "stream",
     "text": [
      "Current frame:  326\n",
      "Normal Mode\n",
      "Current frame:  327\n",
      "Normal Mode\n",
      "Current frame:  328\n",
      "Normal Mode"
     ]
    },
    {
     "name": "stderr",
     "output_type": "stream",
     "text": [
      "\r",
      "t:  26%|█████████████████▏                                                | 329/1260 [00:27<01:16, 12.10it/s, now=None]"
     ]
    },
    {
     "name": "stdout",
     "output_type": "stream",
     "text": [
      "\n",
      "Current frame:  329\n",
      "Normal Mode\n",
      "Current frame:  330\n",
      "Normal Mode\n",
      "Current frame: "
     ]
    },
    {
     "name": "stderr",
     "output_type": "stream",
     "text": [
      "\r",
      "t:  26%|█████████████████▎                                                | 331/1260 [00:27<01:16, 12.16it/s, now=None]"
     ]
    },
    {
     "name": "stdout",
     "output_type": "stream",
     "text": [
      " 331\n",
      "Normal Mode\n",
      "Current frame:  332\n",
      "Normal Mode\n",
      "Current frame:  333\n",
      "Normal Mode"
     ]
    },
    {
     "name": "stderr",
     "output_type": "stream",
     "text": [
      "\r",
      "t:  26%|█████████████████▍                                                | 333/1260 [00:27<01:15, 12.25it/s, now=None]"
     ]
    },
    {
     "name": "stdout",
     "output_type": "stream",
     "text": [
      "\n",
      "Current frame:  334\n",
      "Normal Mode\n",
      "Current frame:  335\n",
      "Normal Mode\n"
     ]
    },
    {
     "name": "stderr",
     "output_type": "stream",
     "text": [
      "t:  27%|█████████████████▋                                                | 337/1260 [00:27<01:16, 12.04it/s, now=None]"
     ]
    },
    {
     "name": "stdout",
     "output_type": "stream",
     "text": [
      "Current frame:  336\n",
      "Normal Mode\n",
      "Current frame:  337\n",
      "Normal Mode\n",
      "Current frame:  338\n"
     ]
    },
    {
     "name": "stderr",
     "output_type": "stream",
     "text": [
      "\r",
      "t:  27%|█████████████████▊                                                | 339/1260 [00:28<01:16, 12.07it/s, now=None]"
     ]
    },
    {
     "name": "stdout",
     "output_type": "stream",
     "text": [
      "Normal Mode\n",
      "Current frame:  339\n",
      "Normal Mode\n",
      "Current frame:  340\n",
      "Normal Mode\n",
      "Current frame: "
     ]
    },
    {
     "name": "stderr",
     "output_type": "stream",
     "text": [
      "\r",
      "t:  27%|█████████████████▊                                                | 341/1260 [00:28<01:16, 12.07it/s, now=None]"
     ]
    },
    {
     "name": "stdout",
     "output_type": "stream",
     "text": [
      " 341\n",
      "Normal Mode\n",
      "Current frame:  342\n",
      "Normal Mode\n",
      "Current frame:  343\n",
      "Normal Mode"
     ]
    },
    {
     "name": "stderr",
     "output_type": "stream",
     "text": [
      "\r",
      "t:  27%|█████████████████▉                                                | 343/1260 [00:28<01:15, 12.19it/s, now=None]"
     ]
    },
    {
     "name": "stdout",
     "output_type": "stream",
     "text": [
      "\n",
      "Current frame:  344\n",
      "Normal Mode\n",
      "Current frame:  345\n",
      "Normal Mode\n"
     ]
    },
    {
     "name": "stderr",
     "output_type": "stream",
     "text": [
      "t:  28%|██████████████████▏                                               | 347/1260 [00:28<01:13, 12.43it/s, now=None]"
     ]
    },
    {
     "name": "stdout",
     "output_type": "stream",
     "text": [
      "Current frame:  346\n",
      "Normal Mode\n",
      "Current frame:  347\n",
      "Normal Mode\n",
      "Current frame:  348\n"
     ]
    },
    {
     "name": "stderr",
     "output_type": "stream",
     "text": [
      "\r",
      "t:  28%|██████████████████▎                                               | 349/1260 [00:28<01:13, 12.44it/s, now=None]"
     ]
    },
    {
     "name": "stdout",
     "output_type": "stream",
     "text": [
      "Normal Mode\n",
      "Current frame:  349\n",
      "Normal Mode\n",
      "Current frame:  350\n",
      "Normal Mode"
     ]
    },
    {
     "name": "stderr",
     "output_type": "stream",
     "text": [
      "\r",
      "t:  28%|██████████████████▍                                               | 351/1260 [00:29<01:14, 12.22it/s, now=None]"
     ]
    },
    {
     "name": "stdout",
     "output_type": "stream",
     "text": [
      "\n",
      "Current frame:  351\n",
      "Normal Mode\n",
      "Current frame:  352\n",
      "Normal Mode\n",
      "Current frame:  353\n"
     ]
    },
    {
     "name": "stderr",
     "output_type": "stream",
     "text": [
      "\r",
      "t:  28%|██████████████████▍                                               | 353/1260 [00:29<01:13, 12.31it/s, now=None]"
     ]
    },
    {
     "name": "stdout",
     "output_type": "stream",
     "text": [
      "Normal Mode\n",
      "Current frame:  354\n",
      "Normal Mode\n",
      "Current frame:  355\n",
      "Normal Mode\n"
     ]
    },
    {
     "name": "stderr",
     "output_type": "stream",
     "text": [
      "t:  28%|██████████████████▋                                               | 357/1260 [00:29<01:13, 12.31it/s, now=None]"
     ]
    },
    {
     "name": "stdout",
     "output_type": "stream",
     "text": [
      "Current frame:  356\n",
      "Normal Mode\n",
      "Current frame:  357\n",
      "Normal Mode\n",
      "Current frame:  358\n"
     ]
    },
    {
     "name": "stderr",
     "output_type": "stream",
     "text": [
      "\r",
      "t:  28%|██████████████████▊                                               | 359/1260 [00:29<01:14, 12.17it/s, now=None]"
     ]
    },
    {
     "name": "stdout",
     "output_type": "stream",
     "text": [
      "Normal Mode\n",
      "Current frame:  359\n",
      "Normal Mode\n",
      "Current frame:  360\n",
      "Normal Mode\n",
      "Current frame: "
     ]
    },
    {
     "name": "stderr",
     "output_type": "stream",
     "text": [
      "\r",
      "t:  29%|██████████████████▉                                               | 361/1260 [00:29<01:13, 12.23it/s, now=None]"
     ]
    },
    {
     "name": "stdout",
     "output_type": "stream",
     "text": [
      " 361\n",
      "Normal Mode\n",
      "Current frame:  362\n",
      "Normal Mode\n",
      "Current frame:  363\n",
      "Normal Mode"
     ]
    },
    {
     "name": "stderr",
     "output_type": "stream",
     "text": [
      "t:  29%|███████████████████                                               | 365/1260 [00:30<01:13, 12.20it/s, now=None]"
     ]
    },
    {
     "name": "stdout",
     "output_type": "stream",
     "text": [
      "\n",
      "Current frame:  364\n",
      "Normal Mode\n",
      "Current frame:  365\n",
      "Normal Mode\n"
     ]
    },
    {
     "name": "stderr",
     "output_type": "stream",
     "text": [
      "\r",
      "t:  29%|███████████████████▏                                              | 367/1260 [00:30<01:15, 11.82it/s, now=None]"
     ]
    },
    {
     "name": "stdout",
     "output_type": "stream",
     "text": [
      "Current frame:  366\n",
      "Normal Mode\n",
      "Current frame:  367\n",
      "Normal Mode\n"
     ]
    },
    {
     "name": "stderr",
     "output_type": "stream",
     "text": [
      "\r",
      "t:  29%|███████████████████▎                                              | 369/1260 [00:30<01:15, 11.86it/s, now=None]"
     ]
    },
    {
     "name": "stdout",
     "output_type": "stream",
     "text": [
      "Current frame:  368\n",
      "Normal Mode\n",
      "Current frame:  369\n",
      "Normal Mode\n",
      "Current frame:  370\n"
     ]
    },
    {
     "name": "stderr",
     "output_type": "stream",
     "text": [
      "\r",
      "t:  29%|███████████████████▍                                              | 371/1260 [00:30<01:14, 11.88it/s, now=None]"
     ]
    },
    {
     "name": "stdout",
     "output_type": "stream",
     "text": [
      "Normal Mode\n",
      "Current frame:  371\n",
      "Normal Mode\n",
      "Current frame:  372\n",
      "Normal Mode\n",
      "Current frame: "
     ]
    },
    {
     "name": "stderr",
     "output_type": "stream",
     "text": [
      "\r",
      "t:  30%|███████████████████▌                                              | 373/1260 [00:30<01:13, 12.05it/s, now=None]"
     ]
    },
    {
     "name": "stdout",
     "output_type": "stream",
     "text": [
      " 373\n",
      "Normal Mode\n",
      "Current frame:  374\n",
      "Normal Mode\n",
      "Current frame:  375\n"
     ]
    },
    {
     "name": "stderr",
     "output_type": "stream",
     "text": [
      "\r",
      "t:  30%|███████████████████▋                                              | 375/1260 [00:31<01:14, 11.91it/s, now=None]"
     ]
    },
    {
     "name": "stdout",
     "output_type": "stream",
     "text": [
      "Normal Mode\n",
      "Current frame:  376\n",
      "Normal Mode\n",
      "Current frame:  377\n",
      "Normal Mode\n"
     ]
    },
    {
     "name": "stderr",
     "output_type": "stream",
     "text": [
      "t:  30%|███████████████████▊                                              | 379/1260 [00:31<01:12, 12.07it/s, now=None]"
     ]
    },
    {
     "name": "stdout",
     "output_type": "stream",
     "text": [
      "Current frame:  378\n",
      "Normal Mode\n",
      "Current frame:  379\n",
      "Normal Mode\n",
      "Current frame:  380\n"
     ]
    },
    {
     "name": "stderr",
     "output_type": "stream",
     "text": [
      "\r",
      "t:  30%|███████████████████▉                                              | 381/1260 [00:31<01:13, 11.95it/s, now=None]"
     ]
    },
    {
     "name": "stdout",
     "output_type": "stream",
     "text": [
      "Normal Mode\n",
      "Current frame:  381\n",
      "Normal Mode\n",
      "Current frame:  382\n",
      "Normal Mode"
     ]
    },
    {
     "name": "stderr",
     "output_type": "stream",
     "text": [
      "\r",
      "t:  30%|████████████████████                                              | 383/1260 [00:31<01:13, 11.97it/s, now=None]"
     ]
    },
    {
     "name": "stdout",
     "output_type": "stream",
     "text": [
      "\n",
      "Current frame:  383\n",
      "Normal Mode\n",
      "Current frame:  384\n",
      "Normal Mode\n",
      "Current frame: "
     ]
    },
    {
     "name": "stderr",
     "output_type": "stream",
     "text": [
      "\r",
      "t:  31%|████████████████████▏                                             | 385/1260 [00:31<01:13, 11.91it/s, now=None]"
     ]
    },
    {
     "name": "stdout",
     "output_type": "stream",
     "text": [
      " 385\n",
      "Normal Mode\n",
      "Current frame:  386\n",
      "Normal Mode\n",
      "Current frame:  387\n",
      "Normal Mode"
     ]
    },
    {
     "name": "stderr",
     "output_type": "stream",
     "text": [
      "t:  31%|████████████████████▍                                             | 389/1260 [00:32<01:11, 12.16it/s, now=None]"
     ]
    },
    {
     "name": "stdout",
     "output_type": "stream",
     "text": [
      "\n",
      "Current frame:  388\n",
      "Normal Mode\n",
      "Current frame:  389\n",
      "Normal Mode\n"
     ]
    },
    {
     "name": "stderr",
     "output_type": "stream",
     "text": [
      "\r",
      "t:  31%|████████████████████▍                                             | 391/1260 [00:32<01:12, 12.07it/s, now=None]"
     ]
    },
    {
     "name": "stdout",
     "output_type": "stream",
     "text": [
      "Current frame:  390\n",
      "Normal Mode\n",
      "Current frame:  391\n",
      "Normal Mode\n",
      "Current frame:  392\n"
     ]
    },
    {
     "name": "stderr",
     "output_type": "stream",
     "text": [
      "\r",
      "t:  31%|████████████████████▌                                             | 393/1260 [00:32<01:10, 12.25it/s, now=None]"
     ]
    },
    {
     "name": "stdout",
     "output_type": "stream",
     "text": [
      "Normal Mode\n",
      "Current frame:  393\n",
      "Normal Mode\n",
      "Current frame:  394\n",
      "Normal Mode\n"
     ]
    },
    {
     "name": "stderr",
     "output_type": "stream",
     "text": [
      "\r",
      "t:  31%|████████████████████▋                                             | 395/1260 [00:32<01:12, 11.96it/s, now=None]"
     ]
    },
    {
     "name": "stdout",
     "output_type": "stream",
     "text": [
      "Current frame:  395\n",
      "Normal Mode\n",
      "Current frame:  396\n",
      "Normal Mode\n",
      "Current frame: "
     ]
    },
    {
     "name": "stderr",
     "output_type": "stream",
     "text": [
      "\r",
      "t:  32%|████████████████████▊                                             | 397/1260 [00:32<01:11, 11.99it/s, now=None]"
     ]
    },
    {
     "name": "stdout",
     "output_type": "stream",
     "text": [
      " 397\n",
      "Normal Mode\n",
      "Current frame:  398\n",
      "Normal Mode\n",
      "Current frame:  399\n",
      "Normal Mode"
     ]
    },
    {
     "name": "stderr",
     "output_type": "stream",
     "text": [
      "\r",
      "t:  32%|████████████████████▉                                             | 399/1260 [00:33<01:11, 12.06it/s, now=None]"
     ]
    },
    {
     "name": "stdout",
     "output_type": "stream",
     "text": [
      "\n",
      "Current frame:  400\n",
      "Normal Mode\n",
      "Current frame:  401\n",
      "Normal Mode\n"
     ]
    },
    {
     "name": "stderr",
     "output_type": "stream",
     "text": [
      "t:  32%|█████████████████████                                             | 403/1260 [00:33<01:09, 12.35it/s, now=None]"
     ]
    },
    {
     "name": "stdout",
     "output_type": "stream",
     "text": [
      "Current frame:  402\n",
      "Normal Mode\n",
      "Current frame:  403\n",
      "Normal Mode\n",
      "Current frame:  404\n",
      "Normal Mode"
     ]
    },
    {
     "name": "stderr",
     "output_type": "stream",
     "text": [
      "\r",
      "t:  32%|█████████████████████▏                                            | 405/1260 [00:33<01:08, 12.41it/s, now=None]"
     ]
    },
    {
     "name": "stdout",
     "output_type": "stream",
     "text": [
      "\n",
      "Current frame:  405\n",
      "Normal Mode\n",
      "Current frame:  406\n",
      "Normal Mode\n",
      "Current frame: "
     ]
    },
    {
     "name": "stderr",
     "output_type": "stream",
     "text": [
      "\r",
      "t:  32%|█████████████████████▎                                            | 407/1260 [00:33<01:08, 12.47it/s, now=None]"
     ]
    },
    {
     "name": "stdout",
     "output_type": "stream",
     "text": [
      " 407\n",
      "Normal Mode\n",
      "Current frame:  408\n",
      "Normal Mode\n",
      "Current frame:  409\n",
      "Normal Mode"
     ]
    },
    {
     "name": "stderr",
     "output_type": "stream",
     "text": [
      "\r",
      "t:  32%|█████████████████████▍                                            | 409/1260 [00:33<01:10, 12.10it/s, now=None]"
     ]
    },
    {
     "name": "stdout",
     "output_type": "stream",
     "text": [
      "\n",
      "Current frame:  410\n",
      "Normal Mode\n",
      "Current frame:  411\n",
      "Normal Mode\n"
     ]
    },
    {
     "name": "stderr",
     "output_type": "stream",
     "text": [
      "t:  33%|█████████████████████▋                                            | 413/1260 [00:34<01:10, 12.01it/s, now=None]"
     ]
    },
    {
     "name": "stdout",
     "output_type": "stream",
     "text": [
      "Current frame:  412\n",
      "Normal Mode\n",
      "Current frame:  413\n",
      "Normal Mode\n",
      "Current frame:  414\n"
     ]
    },
    {
     "name": "stderr",
     "output_type": "stream",
     "text": [
      "\r",
      "t:  33%|█████████████████████▋                                            | 415/1260 [00:34<01:10, 11.92it/s, now=None]"
     ]
    },
    {
     "name": "stdout",
     "output_type": "stream",
     "text": [
      "Normal Mode\n",
      "Current frame:  415\n",
      "Normal Mode\n",
      "Current frame:  416\n",
      "Normal Mode\n",
      "Current frame: "
     ]
    },
    {
     "name": "stderr",
     "output_type": "stream",
     "text": [
      "\r",
      "t:  33%|█████████████████████▊                                            | 417/1260 [00:34<01:09, 12.10it/s, now=None]"
     ]
    },
    {
     "name": "stdout",
     "output_type": "stream",
     "text": [
      " 417\n",
      "Normal Mode\n",
      "Current frame:  418\n",
      "Normal Mode\n",
      "Current frame:  419\n",
      "Normal Mode"
     ]
    },
    {
     "name": "stderr",
     "output_type": "stream",
     "text": [
      "\r",
      "t:  33%|█████████████████████▉                                            | 419/1260 [00:34<01:08, 12.23it/s, now=None]"
     ]
    },
    {
     "name": "stdout",
     "output_type": "stream",
     "text": [
      "\n",
      "Current frame:  420\n",
      "Normal Mode\n",
      "Current frame:  421\n",
      "Normal Mode\n"
     ]
    },
    {
     "name": "stderr",
     "output_type": "stream",
     "text": [
      "t:  34%|██████████████████████▏                                           | 423/1260 [00:35<01:09, 12.10it/s, now=None]"
     ]
    },
    {
     "name": "stdout",
     "output_type": "stream",
     "text": [
      "Current frame:  422\n",
      "Normal Mode\n",
      "Current frame:  423\n",
      "Normal Mode\n",
      "Current frame:  424\n",
      "Normal Mode"
     ]
    },
    {
     "name": "stderr",
     "output_type": "stream",
     "text": [
      "\r",
      "t:  34%|██████████████████████▎                                           | 425/1260 [00:35<01:08, 12.25it/s, now=None]"
     ]
    },
    {
     "name": "stdout",
     "output_type": "stream",
     "text": [
      "\n",
      "Current frame:  425\n",
      "Normal Mode\n",
      "Current frame:  426\n",
      "Normal Mode\n",
      "Current frame: "
     ]
    },
    {
     "name": "stderr",
     "output_type": "stream",
     "text": [
      "\r",
      "t:  34%|██████████████████████▎                                           | 427/1260 [00:35<01:07, 12.26it/s, now=None]"
     ]
    },
    {
     "name": "stdout",
     "output_type": "stream",
     "text": [
      " 427\n",
      "Normal Mode\n",
      "Current frame:  428\n",
      "Normal Mode\n",
      "Current frame:  429\n"
     ]
    },
    {
     "name": "stderr",
     "output_type": "stream",
     "text": [
      "t:  34%|██████████████████████▌                                           | 431/1260 [00:35<01:09, 12.01it/s, now=None]"
     ]
    },
    {
     "name": "stdout",
     "output_type": "stream",
     "text": [
      "Normal Mode\n",
      "Current frame:  430\n",
      "Normal Mode\n",
      "Current frame:  431\n",
      "Normal Mode\n"
     ]
    },
    {
     "name": "stderr",
     "output_type": "stream",
     "text": [
      "\r",
      "t:  34%|██████████████████████▋                                           | 433/1260 [00:35<01:07, 12.21it/s, now=None]"
     ]
    },
    {
     "name": "stdout",
     "output_type": "stream",
     "text": [
      "Current frame:  432\n",
      "Normal Mode\n",
      "Current frame:  433\n",
      "Normal Mode\n",
      "Current frame:  434\n"
     ]
    },
    {
     "name": "stderr",
     "output_type": "stream",
     "text": [
      "\r",
      "t:  35%|██████████████████████▊                                           | 435/1260 [00:36<01:08, 12.10it/s, now=None]"
     ]
    },
    {
     "name": "stdout",
     "output_type": "stream",
     "text": [
      "Normal Mode\n",
      "Current frame:  435\n",
      "Normal Mode\n",
      "Current frame:  436\n",
      "Normal Mode\n",
      "Current frame: "
     ]
    },
    {
     "name": "stderr",
     "output_type": "stream",
     "text": [
      "\r",
      "t:  35%|██████████████████████▉                                           | 437/1260 [00:36<01:07, 12.23it/s, now=None]"
     ]
    },
    {
     "name": "stdout",
     "output_type": "stream",
     "text": [
      " 437\n",
      "Normal Mode\n",
      "Current frame:  438\n",
      "Normal Mode\n",
      "Current frame:  439\n",
      "Normal Mode"
     ]
    },
    {
     "name": "stderr",
     "output_type": "stream",
     "text": [
      "\r",
      "t:  35%|██████████████████████▉                                           | 439/1260 [00:36<01:08, 11.97it/s, now=None]"
     ]
    },
    {
     "name": "stdout",
     "output_type": "stream",
     "text": [
      "\n",
      "Current frame:  440\n",
      "Normal Mode\n",
      "Current frame:  441\n",
      "Normal Mode\n"
     ]
    },
    {
     "name": "stderr",
     "output_type": "stream",
     "text": [
      "t:  35%|███████████████████████▏                                          | 443/1260 [00:36<01:07, 12.05it/s, now=None]"
     ]
    },
    {
     "name": "stdout",
     "output_type": "stream",
     "text": [
      "Current frame:  442\n",
      "Normal Mode\n",
      "Current frame:  443\n",
      "Normal Mode\n",
      "Current frame:  444\n"
     ]
    },
    {
     "name": "stderr",
     "output_type": "stream",
     "text": [
      "\r",
      "t:  35%|███████████████████████▎                                          | 445/1260 [00:36<01:06, 12.17it/s, now=None]"
     ]
    },
    {
     "name": "stdout",
     "output_type": "stream",
     "text": [
      "Normal Mode\n",
      "Current frame:  445\n",
      "Normal Mode\n",
      "Current frame:  446\n",
      "Normal Mode\n",
      "Current frame: "
     ]
    },
    {
     "name": "stderr",
     "output_type": "stream",
     "text": [
      "\r",
      "t:  35%|███████████████████████▍                                          | 447/1260 [00:37<01:06, 12.23it/s, now=None]"
     ]
    },
    {
     "name": "stdout",
     "output_type": "stream",
     "text": [
      " 447\n",
      "Normal Mode\n",
      "Current frame:  448\n",
      "Normal Mode\n",
      "Current frame:  449\n",
      "Normal Mode"
     ]
    },
    {
     "name": "stderr",
     "output_type": "stream",
     "text": [
      "\r",
      "t:  36%|███████████████████████▌                                          | 449/1260 [00:37<01:06, 12.28it/s, now=None]"
     ]
    },
    {
     "name": "stdout",
     "output_type": "stream",
     "text": [
      "\n",
      "Current frame:  450\n",
      "Normal Mode\n",
      "Current frame:  451\n",
      "Normal Mode\n"
     ]
    },
    {
     "name": "stderr",
     "output_type": "stream",
     "text": [
      "t:  36%|███████████████████████▋                                          | 453/1260 [00:37<01:05, 12.29it/s, now=None]"
     ]
    },
    {
     "name": "stdout",
     "output_type": "stream",
     "text": [
      "Current frame:  452\n",
      "Normal Mode\n",
      "Current frame:  453\n",
      "Normal Mode\n",
      "Current frame:  454\n"
     ]
    },
    {
     "name": "stderr",
     "output_type": "stream",
     "text": [
      "\r",
      "t:  36%|███████████████████████▊                                          | 455/1260 [00:37<01:05, 12.22it/s, now=None]"
     ]
    },
    {
     "name": "stdout",
     "output_type": "stream",
     "text": [
      "Normal Mode\n",
      "Current frame:  455\n",
      "Normal Mode\n",
      "Current frame:  456\n",
      "Normal Mode\n",
      "Current frame: "
     ]
    },
    {
     "name": "stderr",
     "output_type": "stream",
     "text": [
      "\r",
      "t:  36%|███████████████████████▉                                          | 457/1260 [00:37<01:05, 12.23it/s, now=None]"
     ]
    },
    {
     "name": "stdout",
     "output_type": "stream",
     "text": [
      " 457\n",
      "Normal Mode\n",
      "Current frame:  458\n",
      "Normal Mode\n",
      "Current frame:  459\n"
     ]
    },
    {
     "name": "stderr",
     "output_type": "stream",
     "text": [
      "t:  37%|████████████████████████▏                                         | 461/1260 [00:38<01:06, 12.10it/s, now=None]"
     ]
    },
    {
     "name": "stdout",
     "output_type": "stream",
     "text": [
      "Normal Mode\n",
      "Current frame:  460\n",
      "Normal Mode\n",
      "Current frame:  461\n",
      "Normal Mode\n"
     ]
    },
    {
     "name": "stderr",
     "output_type": "stream",
     "text": [
      "\r",
      "t:  37%|████████████████████████▎                                         | 463/1260 [00:38<01:06, 12.03it/s, now=None]"
     ]
    },
    {
     "name": "stdout",
     "output_type": "stream",
     "text": [
      "Current frame:  462\n",
      "Normal Mode\n",
      "Current frame:  463\n",
      "Normal Mode\n",
      "Current frame:  464\n"
     ]
    },
    {
     "name": "stderr",
     "output_type": "stream",
     "text": [
      "\r",
      "t:  37%|████████████████████████▎                                         | 465/1260 [00:38<01:05, 12.22it/s, now=None]"
     ]
    },
    {
     "name": "stdout",
     "output_type": "stream",
     "text": [
      "Normal Mode\n",
      "Current frame:  465\n",
      "Normal Mode\n",
      "Current frame:  466\n",
      "Normal Mode\n",
      "Current frame: "
     ]
    },
    {
     "name": "stderr",
     "output_type": "stream",
     "text": [
      "\r",
      "t:  37%|████████████████████████▍                                         | 467/1260 [00:38<01:05, 12.16it/s, now=None]"
     ]
    },
    {
     "name": "stdout",
     "output_type": "stream",
     "text": [
      " 467\n",
      "Normal Mode\n",
      "Current frame:  468\n",
      "Normal Mode\n",
      "Current frame:  469\n",
      "Normal Mode"
     ]
    },
    {
     "name": "stderr",
     "output_type": "stream",
     "text": [
      "\r",
      "t:  37%|████████████████████████▌                                         | 469/1260 [00:38<01:05, 12.13it/s, now=None]"
     ]
    },
    {
     "name": "stdout",
     "output_type": "stream",
     "text": [
      "\n",
      "Current frame:  470\n",
      "Normal Mode\n",
      "Current frame:  471\n",
      "Normal Mode\n"
     ]
    },
    {
     "name": "stderr",
     "output_type": "stream",
     "text": [
      "t:  38%|████████████████████████▊                                         | 473/1260 [00:39<01:03, 12.47it/s, now=None]"
     ]
    },
    {
     "name": "stdout",
     "output_type": "stream",
     "text": [
      "Current frame:  472\n",
      "Normal Mode\n",
      "Current frame:  473\n",
      "Normal Mode\n",
      "Current frame:  474\n"
     ]
    },
    {
     "name": "stderr",
     "output_type": "stream",
     "text": [
      "\r",
      "t:  38%|████████████████████████▉                                         | 475/1260 [00:39<01:03, 12.28it/s, now=None]"
     ]
    },
    {
     "name": "stdout",
     "output_type": "stream",
     "text": [
      "Normal Mode\n",
      "Current frame:  475\n",
      "Normal Mode\n",
      "Current frame:  476\n",
      "Normal Mode\n",
      "Current frame: "
     ]
    },
    {
     "name": "stderr",
     "output_type": "stream",
     "text": [
      "\r",
      "t:  38%|████████████████████████▉                                         | 477/1260 [00:39<01:03, 12.29it/s, now=None]"
     ]
    },
    {
     "name": "stdout",
     "output_type": "stream",
     "text": [
      " 477\n",
      "Normal Mode\n",
      "Current frame:  478\n",
      "Normal Mode\n",
      "Current frame:  479\n",
      "Normal Mode"
     ]
    },
    {
     "name": "stderr",
     "output_type": "stream",
     "text": [
      "\r",
      "t:  38%|█████████████████████████                                         | 479/1260 [00:39<01:03, 12.20it/s, now=None]"
     ]
    },
    {
     "name": "stdout",
     "output_type": "stream",
     "text": [
      "\n",
      "Current frame:  480\n",
      "Normal Mode\n",
      "Current frame:  481\n",
      "Normal Mode\n"
     ]
    },
    {
     "name": "stderr",
     "output_type": "stream",
     "text": [
      "t:  38%|█████████████████████████▎                                        | 483/1260 [00:39<01:04, 12.13it/s, now=None]"
     ]
    },
    {
     "name": "stdout",
     "output_type": "stream",
     "text": [
      "Current frame:  482\n",
      "Normal Mode\n",
      "Current frame:  483\n",
      "Normal Mode\n",
      "Current frame:  484\n"
     ]
    },
    {
     "name": "stderr",
     "output_type": "stream",
     "text": [
      "\r",
      "t:  38%|█████████████████████████▍                                        | 485/1260 [00:40<01:03, 12.23it/s, now=None]"
     ]
    },
    {
     "name": "stdout",
     "output_type": "stream",
     "text": [
      "Normal Mode\n",
      "Current frame:  485\n",
      "Normal Mode\n",
      "Current frame:  486\n",
      "Normal Mode\n",
      "Current frame: "
     ]
    },
    {
     "name": "stderr",
     "output_type": "stream",
     "text": [
      "\r",
      "t:  39%|█████████████████████████▌                                        | 487/1260 [00:40<01:02, 12.34it/s, now=None]"
     ]
    },
    {
     "name": "stdout",
     "output_type": "stream",
     "text": [
      " 487\n",
      "Normal Mode\n",
      "Current frame:  488\n",
      "Normal Mode\n",
      "Current frame:  489\n",
      "Normal Mode"
     ]
    },
    {
     "name": "stderr",
     "output_type": "stream",
     "text": [
      "\r",
      "t:  39%|█████████████████████████▌                                        | 489/1260 [00:40<01:02, 12.28it/s, now=None]"
     ]
    },
    {
     "name": "stdout",
     "output_type": "stream",
     "text": [
      "\n",
      "Current frame:  490\n",
      "Normal Mode\n",
      "Current frame:  491\n",
      "Normal Mode\n"
     ]
    },
    {
     "name": "stderr",
     "output_type": "stream",
     "text": [
      "t:  39%|█████████████████████████▊                                        | 493/1260 [00:40<01:03, 12.13it/s, now=None]"
     ]
    },
    {
     "name": "stdout",
     "output_type": "stream",
     "text": [
      "Current frame:  492\n",
      "Normal Mode\n",
      "Current frame:  493\n",
      "Normal Mode\n",
      "Current frame: "
     ]
    },
    {
     "name": "stderr",
     "output_type": "stream",
     "text": [
      "\r",
      "t:  39%|█████████████████████████▉                                        | 495/1260 [00:40<01:03, 12.03it/s, now=None]"
     ]
    },
    {
     "name": "stdout",
     "output_type": "stream",
     "text": [
      " 494\n",
      "Normal Mode\n",
      "Current frame:  495\n",
      "Normal Mode\n",
      "Current frame:  496\n"
     ]
    },
    {
     "name": "stderr",
     "output_type": "stream",
     "text": [
      "\r",
      "t:  39%|██████████████████████████                                        | 497/1260 [00:41<01:02, 12.17it/s, now=None]"
     ]
    },
    {
     "name": "stdout",
     "output_type": "stream",
     "text": [
      "Normal Mode\n",
      "Current frame:  497\n",
      "Normal Mode\n",
      "Current frame:  498\n",
      "Normal Mode\n",
      "Current frame: "
     ]
    },
    {
     "name": "stderr",
     "output_type": "stream",
     "text": [
      "\r",
      "t:  40%|██████████████████████████▏                                       | 499/1260 [00:41<01:02, 12.08it/s, now=None]"
     ]
    },
    {
     "name": "stdout",
     "output_type": "stream",
     "text": [
      " 499\n",
      "Normal Mode\n",
      "Current frame:  500\n",
      "Normal Mode\n",
      "Current frame:  501\n",
      "Normal Mode"
     ]
    },
    {
     "name": "stderr",
     "output_type": "stream",
     "text": [
      "t:  40%|██████████████████████████▎                                       | 503/1260 [00:41<01:01, 12.35it/s, now=None]"
     ]
    },
    {
     "name": "stdout",
     "output_type": "stream",
     "text": [
      "\n",
      "Current frame:  502\n",
      "Normal Mode\n",
      "Current frame:  503\n",
      "Normal Mode\n"
     ]
    },
    {
     "name": "stderr",
     "output_type": "stream",
     "text": [
      "\r",
      "t:  40%|██████████████████████████▍                                       | 505/1260 [00:41<01:01, 12.29it/s, now=None]"
     ]
    },
    {
     "name": "stdout",
     "output_type": "stream",
     "text": [
      "Current frame:  504\n",
      "Normal Mode\n",
      "Current frame:  505\n",
      "Normal Mode\n",
      "Current frame:  506\n"
     ]
    },
    {
     "name": "stderr",
     "output_type": "stream",
     "text": [
      "\r",
      "t:  40%|██████████████████████████▌                                       | 507/1260 [00:41<01:02, 12.03it/s, now=None]"
     ]
    },
    {
     "name": "stdout",
     "output_type": "stream",
     "text": [
      "Normal Mode\n",
      "Current frame:  507\n",
      "Normal Mode\n",
      "Current frame:  508\n",
      "Normal Mode\n"
     ]
    },
    {
     "name": "stderr",
     "output_type": "stream",
     "text": [
      "\r",
      "t:  40%|██████████████████████████▋                                       | 509/1260 [00:42<01:01, 12.15it/s, now=None]"
     ]
    },
    {
     "name": "stdout",
     "output_type": "stream",
     "text": [
      "Current frame:  509\n",
      "Normal Mode\n",
      "Current frame:  510\n",
      "Normal Mode\n",
      "Current frame:  511\n",
      "Normal Mode"
     ]
    },
    {
     "name": "stderr",
     "output_type": "stream",
     "text": [
      "\r",
      "t:  41%|██████████████████████████▊                                       | 511/1260 [00:42<01:01, 12.11it/s, now=None]"
     ]
    },
    {
     "name": "stdout",
     "output_type": "stream",
     "text": [
      "\n",
      "Current frame:  512\n",
      "Normal Mode\n",
      "Current frame:  513\n",
      "Normal Mode"
     ]
    },
    {
     "name": "stderr",
     "output_type": "stream",
     "text": [
      "\r",
      "t:  41%|██████████████████████████▊                                       | 513/1260 [00:42<01:03, 11.74it/s, now=None]"
     ]
    },
    {
     "name": "stdout",
     "output_type": "stream",
     "text": [
      "\n",
      "Current frame:  514\n",
      "Normal Mode\n",
      "Current frame:  515\n",
      "Normal Mode\n"
     ]
    },
    {
     "name": "stderr",
     "output_type": "stream",
     "text": [
      "t:  41%|███████████████████████████                                       | 517/1260 [00:42<01:02, 11.87it/s, now=None]"
     ]
    },
    {
     "name": "stdout",
     "output_type": "stream",
     "text": [
      "Current frame:  516\n",
      "Normal Mode\n",
      "Current frame:  517\n",
      "Normal Mode\n",
      "Current frame:  518\n"
     ]
    },
    {
     "name": "stderr",
     "output_type": "stream",
     "text": [
      "\r",
      "t:  41%|███████████████████████████▏                                      | 519/1260 [00:42<01:02, 11.82it/s, now=None]"
     ]
    },
    {
     "name": "stdout",
     "output_type": "stream",
     "text": [
      "Normal Mode\n",
      "Current frame:  519\n",
      "Normal Mode\n",
      "Current frame:  520\n",
      "Normal Mode\n"
     ]
    },
    {
     "name": "stderr",
     "output_type": "stream",
     "text": [
      "\r",
      "t:  41%|███████████████████████████▎                                      | 521/1260 [00:43<01:02, 11.79it/s, now=None]"
     ]
    },
    {
     "name": "stdout",
     "output_type": "stream",
     "text": [
      "Current frame:  521\n",
      "Normal Mode\n",
      "Current frame:  522\n",
      "Normal Mode\n",
      "Current frame:  523\n"
     ]
    },
    {
     "name": "stderr",
     "output_type": "stream",
     "text": [
      "\r",
      "t:  42%|███████████████████████████▍                                      | 523/1260 [00:43<01:02, 11.84it/s, now=None]"
     ]
    },
    {
     "name": "stdout",
     "output_type": "stream",
     "text": [
      "Normal Mode\n",
      "Current frame:  524\n",
      "Normal Mode\n",
      "Current frame:  525\n",
      "Normal Mode\n"
     ]
    },
    {
     "name": "stderr",
     "output_type": "stream",
     "text": [
      "t:  42%|███████████████████████████▌                                      | 527/1260 [00:43<01:02, 11.69it/s, now=None]"
     ]
    },
    {
     "name": "stdout",
     "output_type": "stream",
     "text": [
      "Current frame:  526\n",
      "Normal Mode\n",
      "Current frame:  527\n",
      "Normal Mode\n",
      "Current frame:  528\n"
     ]
    },
    {
     "name": "stderr",
     "output_type": "stream",
     "text": [
      "\r",
      "t:  42%|███████████████████████████▋                                      | 529/1260 [00:43<01:02, 11.78it/s, now=None]"
     ]
    },
    {
     "name": "stdout",
     "output_type": "stream",
     "text": [
      "Normal Mode\n",
      "Current frame:  529\n",
      "Normal Mode\n",
      "Current frame:  530\n",
      "Normal Mode\n",
      "Current frame: "
     ]
    },
    {
     "name": "stderr",
     "output_type": "stream",
     "text": [
      "\r",
      "t:  42%|███████████████████████████▊                                      | 531/1260 [00:43<01:01, 11.93it/s, now=None]"
     ]
    },
    {
     "name": "stdout",
     "output_type": "stream",
     "text": [
      " 531\n",
      "Normal Mode\n",
      "Current frame:  532\n",
      "Normal Mode\n",
      "Current frame:  533\n",
      "Normal Mode"
     ]
    },
    {
     "name": "stderr",
     "output_type": "stream",
     "text": [
      "\r",
      "t:  42%|███████████████████████████▉                                      | 533/1260 [00:44<00:59, 12.29it/s, now=None]"
     ]
    },
    {
     "name": "stdout",
     "output_type": "stream",
     "text": [
      "\n",
      "Current frame:  534\n",
      "Normal Mode\n",
      "Current frame:  535\n",
      "Normal Mode\n"
     ]
    },
    {
     "name": "stderr",
     "output_type": "stream",
     "text": [
      "t:  43%|████████████████████████████▏                                     | 537/1260 [00:44<01:01, 11.83it/s, now=None]"
     ]
    },
    {
     "name": "stdout",
     "output_type": "stream",
     "text": [
      "Current frame:  536\n",
      "Normal Mode\n",
      "Current frame:  537\n",
      "Normal Mode\n"
     ]
    },
    {
     "name": "stderr",
     "output_type": "stream",
     "text": [
      "\r",
      "t:  43%|████████████████████████████▏                                     | 539/1260 [00:44<01:02, 11.60it/s, now=None]"
     ]
    },
    {
     "name": "stdout",
     "output_type": "stream",
     "text": [
      "Current frame:  538\n",
      "Normal Mode\n",
      "Current frame:  539\n",
      "Normal Mode\n",
      "Current frame:  540\n"
     ]
    },
    {
     "name": "stderr",
     "output_type": "stream",
     "text": [
      "\r",
      "t:  43%|████████████████████████████▎                                     | 541/1260 [00:44<01:00, 11.88it/s, now=None]"
     ]
    },
    {
     "name": "stdout",
     "output_type": "stream",
     "text": [
      "Normal Mode\n",
      "Current frame:  541\n",
      "Normal Mode\n",
      "Current frame:  542\n",
      "Normal Mode\n",
      "Current frame: "
     ]
    },
    {
     "name": "stderr",
     "output_type": "stream",
     "text": [
      "\r",
      "t:  43%|████████████████████████████▍                                     | 543/1260 [00:44<01:00, 11.92it/s, now=None]"
     ]
    },
    {
     "name": "stdout",
     "output_type": "stream",
     "text": [
      " 543\n",
      "Normal Mode\n",
      "Current frame:  544\n",
      "Normal Mode\n",
      "Current frame:  545\n"
     ]
    },
    {
     "name": "stderr",
     "output_type": "stream",
     "text": [
      "\r",
      "t:  43%|████████████████████████████▌                                     | 545/1260 [00:45<01:00, 11.86it/s, now=None]"
     ]
    },
    {
     "name": "stdout",
     "output_type": "stream",
     "text": [
      "Normal Mode\n",
      "Current frame:  546\n",
      "Normal Mode\n",
      "Current frame:  547\n",
      "Normal Mode\n"
     ]
    },
    {
     "name": "stderr",
     "output_type": "stream",
     "text": [
      "t:  44%|████████████████████████████▊                                     | 549/1260 [00:45<00:58, 12.12it/s, now=None]"
     ]
    },
    {
     "name": "stdout",
     "output_type": "stream",
     "text": [
      "Current frame:  548\n",
      "Normal Mode\n",
      "Current frame:  549\n",
      "Normal Mode\n",
      "Current frame:  550\n",
      "Normal Mode"
     ]
    },
    {
     "name": "stderr",
     "output_type": "stream",
     "text": [
      "\r",
      "t:  44%|████████████████████████████▊                                     | 551/1260 [00:45<00:58, 12.11it/s, now=None]"
     ]
    },
    {
     "name": "stdout",
     "output_type": "stream",
     "text": [
      "\n",
      "Current frame:  551\n",
      "Normal Mode\n",
      "Current frame:  552\n",
      "Normal Mode\n",
      "Current frame: "
     ]
    },
    {
     "name": "stderr",
     "output_type": "stream",
     "text": [
      "\r",
      "t:  44%|████████████████████████████▉                                     | 553/1260 [00:45<00:58, 12.17it/s, now=None]"
     ]
    },
    {
     "name": "stdout",
     "output_type": "stream",
     "text": [
      " 553\n",
      "Normal Mode\n",
      "Current frame:  554\n",
      "Normal Mode\n",
      "Current frame:  555\n",
      "Normal Mode"
     ]
    },
    {
     "name": "stderr",
     "output_type": "stream",
     "text": [
      "\r",
      "t:  44%|█████████████████████████████                                     | 555/1260 [00:45<00:58, 12.14it/s, now=None]"
     ]
    },
    {
     "name": "stdout",
     "output_type": "stream",
     "text": [
      "\n",
      "Current frame:  556\n",
      "Normal Mode\n",
      "Current frame:  557\n",
      "Normal Mode\n"
     ]
    },
    {
     "name": "stderr",
     "output_type": "stream",
     "text": [
      "t:  44%|█████████████████████████████▎                                    | 559/1260 [00:46<00:55, 12.62it/s, now=None]"
     ]
    },
    {
     "name": "stdout",
     "output_type": "stream",
     "text": [
      "Current frame:  558\n",
      "Normal Mode\n",
      "Current frame:  559\n",
      "Normal Mode\n",
      "Current frame:  560\n",
      "Normal Mode"
     ]
    },
    {
     "name": "stderr",
     "output_type": "stream",
     "text": [
      "\r",
      "t:  45%|█████████████████████████████▍                                    | 561/1260 [00:46<00:55, 12.64it/s, now=None]"
     ]
    },
    {
     "name": "stdout",
     "output_type": "stream",
     "text": [
      "\n",
      "Current frame:  561\n",
      "Normal Mode\n",
      "Current frame:  562\n",
      "Normal Mode\n",
      "Current frame: "
     ]
    },
    {
     "name": "stderr",
     "output_type": "stream",
     "text": [
      "\r",
      "t:  45%|█████████████████████████████▍                                    | 563/1260 [00:46<00:55, 12.66it/s, now=None]"
     ]
    },
    {
     "name": "stdout",
     "output_type": "stream",
     "text": [
      " 563\n",
      "Normal Mode\n",
      "Current frame:  564\n",
      "Normal Mode\n",
      "Current frame:  565\n",
      "Normal Mode"
     ]
    },
    {
     "name": "stderr",
     "output_type": "stream",
     "text": [
      "t:  45%|█████████████████████████████▋                                    | 567/1260 [00:46<00:55, 12.53it/s, now=None]"
     ]
    },
    {
     "name": "stdout",
     "output_type": "stream",
     "text": [
      "\n",
      "Current frame:  566\n",
      "Normal Mode\n",
      "Current frame:  567\n",
      "Init Mode\n"
     ]
    },
    {
     "name": "stderr",
     "output_type": "stream",
     "text": [
      "\r",
      "t:  45%|█████████████████████████████▊                                    | 569/1260 [00:47<00:54, 12.58it/s, now=None]"
     ]
    },
    {
     "name": "stdout",
     "output_type": "stream",
     "text": [
      "Current frame:  568\n",
      "Normal Mode\n",
      "Current frame:  569\n",
      "Init Mode\n",
      "Current frame:  570\n"
     ]
    },
    {
     "name": "stderr",
     "output_type": "stream",
     "text": [
      "\r",
      "t:  45%|█████████████████████████████▉                                    | 571/1260 [00:47<00:53, 12.93it/s, now=None]"
     ]
    },
    {
     "name": "stdout",
     "output_type": "stream",
     "text": [
      "Init Mode\n",
      "Current frame:  571\n",
      "Init Mode\n",
      "Current frame:  572\n",
      "Init Mode\n",
      "Current frame:  573\n"
     ]
    },
    {
     "name": "stderr",
     "output_type": "stream",
     "text": [
      "t:  46%|██████████████████████████████                                    | 575/1260 [00:47<00:52, 13.17it/s, now=None]"
     ]
    },
    {
     "name": "stdout",
     "output_type": "stream",
     "text": [
      "Init Mode\n",
      "Current frame:  574\n",
      "Init Mode\n",
      "Current frame:  575\n",
      "Init Mode\n",
      "Current frame:  576\n"
     ]
    },
    {
     "name": "stderr",
     "output_type": "stream",
     "text": [
      "\r",
      "t:  46%|██████████████████████████████▏                                   | 577/1260 [00:47<00:52, 13.07it/s, now=None]"
     ]
    },
    {
     "name": "stdout",
     "output_type": "stream",
     "text": [
      "Init Mode\n",
      "Current frame:  577\n",
      "Init Mode\n",
      "Current frame:  578\n",
      "Init Mode\n",
      "Current frame: "
     ]
    },
    {
     "name": "stderr",
     "output_type": "stream",
     "text": [
      "\r",
      "t:  46%|██████████████████████████████▎                                   | 579/1260 [00:47<00:51, 13.21it/s, now=None]"
     ]
    },
    {
     "name": "stdout",
     "output_type": "stream",
     "text": [
      " 579\n",
      "Init Mode\n",
      "Current frame:  580\n",
      "Init Mode\n",
      "Current frame:  581\n",
      "Init Mode"
     ]
    },
    {
     "name": "stderr",
     "output_type": "stream",
     "text": [
      "t:  46%|██████████████████████████████▌                                   | 583/1260 [00:48<00:49, 13.54it/s, now=None]"
     ]
    },
    {
     "name": "stdout",
     "output_type": "stream",
     "text": [
      "\n",
      "Current frame:  582\n",
      "Init Mode\n",
      "Current frame:  583\n",
      "Init Mode\n",
      "Current frame:  584\n"
     ]
    },
    {
     "name": "stderr",
     "output_type": "stream",
     "text": [
      "\r",
      "t:  46%|██████████████████████████████▋                                   | 585/1260 [00:48<00:50, 13.44it/s, now=None]"
     ]
    },
    {
     "name": "stdout",
     "output_type": "stream",
     "text": [
      "Init Mode\n",
      "Current frame:  585\n",
      "Init Mode\n",
      "Current frame:  586\n",
      "Normal Mode\n"
     ]
    },
    {
     "name": "stderr",
     "output_type": "stream",
     "text": [
      "\r",
      "t:  47%|██████████████████████████████▋                                   | 587/1260 [00:48<00:52, 12.77it/s, now=None]"
     ]
    },
    {
     "name": "stdout",
     "output_type": "stream",
     "text": [
      "Current frame:  587\n",
      "Init Mode\n",
      "Current frame:  588\n",
      "Normal Mode\n",
      "Current frame:  589\n",
      "Init Mode"
     ]
    },
    {
     "name": "stderr",
     "output_type": "stream",
     "text": [
      "t:  47%|██████████████████████████████▉                                   | 591/1260 [00:48<00:51, 12.91it/s, now=None]"
     ]
    },
    {
     "name": "stdout",
     "output_type": "stream",
     "text": [
      "\n",
      "Current frame:  590\n",
      "Normal Mode\n",
      "Current frame:  591\n",
      "Init Mode\n"
     ]
    },
    {
     "name": "stderr",
     "output_type": "stream",
     "text": [
      "\r",
      "t:  47%|███████████████████████████████                                   | 593/1260 [00:48<00:51, 13.04it/s, now=None]"
     ]
    },
    {
     "name": "stdout",
     "output_type": "stream",
     "text": [
      "Current frame:  592\n",
      "Normal Mode\n",
      "Current frame:  593\n",
      "Init Mode\n",
      "Current frame:  594\n",
      "Init Mode"
     ]
    },
    {
     "name": "stderr",
     "output_type": "stream",
     "text": [
      "\r",
      "t:  47%|███████████████████████████████▏                                  | 595/1260 [00:49<00:50, 13.30it/s, now=None]"
     ]
    },
    {
     "name": "stdout",
     "output_type": "stream",
     "text": [
      "\n",
      "Current frame:  595\n",
      "Normal Mode\n",
      "Current frame:  596\n",
      "Init Mode\n",
      "Current frame:  597\n"
     ]
    },
    {
     "name": "stderr",
     "output_type": "stream",
     "text": [
      "t:  48%|███████████████████████████████▍                                  | 599/1260 [00:49<00:48, 13.53it/s, now=None]"
     ]
    },
    {
     "name": "stdout",
     "output_type": "stream",
     "text": [
      "Normal Mode\n",
      "Current frame:  598\n",
      "Init Mode\n",
      "Current frame:  599\n",
      "Init Mode\n",
      "Current frame:  600\n"
     ]
    },
    {
     "name": "stderr",
     "output_type": "stream",
     "text": [
      "\r",
      "t:  48%|███████████████████████████████▍                                  | 601/1260 [00:49<00:49, 13.40it/s, now=None]"
     ]
    },
    {
     "name": "stdout",
     "output_type": "stream",
     "text": [
      "Normal Mode\n",
      "Current frame:  601\n",
      "Normal Mode\n",
      "Current frame:  602\n",
      "Normal Mode\n",
      "Current frame: "
     ]
    },
    {
     "name": "stderr",
     "output_type": "stream",
     "text": [
      "\r",
      "t:  48%|███████████████████████████████▌                                  | 603/1260 [00:49<00:49, 13.18it/s, now=None]"
     ]
    },
    {
     "name": "stdout",
     "output_type": "stream",
     "text": [
      " 603\n",
      "Normal Mode\n",
      "Current frame:  604\n",
      "Normal Mode\n",
      "Current frame:  605\n"
     ]
    },
    {
     "name": "stderr",
     "output_type": "stream",
     "text": [
      "t:  48%|███████████████████████████████▊                                  | 607/1260 [00:49<00:51, 12.64it/s, now=None]"
     ]
    },
    {
     "name": "stdout",
     "output_type": "stream",
     "text": [
      "Normal Mode\n",
      "Current frame:  606\n",
      "Normal Mode\n",
      "Current frame:  607\n",
      "Normal Mode\n"
     ]
    },
    {
     "name": "stderr",
     "output_type": "stream",
     "text": [
      "\r",
      "t:  48%|███████████████████████████████▉                                  | 609/1260 [00:50<00:53, 12.26it/s, now=None]"
     ]
    },
    {
     "name": "stdout",
     "output_type": "stream",
     "text": [
      "Current frame:  608\n",
      "Normal Mode\n",
      "Current frame:  609\n",
      "Normal Mode\n",
      "Current frame:  610\n"
     ]
    },
    {
     "name": "stderr",
     "output_type": "stream",
     "text": [
      "\r",
      "t:  48%|████████████████████████████████                                  | 611/1260 [00:50<00:52, 12.34it/s, now=None]"
     ]
    },
    {
     "name": "stdout",
     "output_type": "stream",
     "text": [
      "Normal Mode\n",
      "Current frame:  611\n",
      "Normal Mode\n",
      "Current frame:  612\n",
      "Normal Mode\n"
     ]
    },
    {
     "name": "stderr",
     "output_type": "stream",
     "text": [
      "\r",
      "t:  49%|████████████████████████████████                                  | 613/1260 [00:50<00:52, 12.26it/s, now=None]"
     ]
    },
    {
     "name": "stdout",
     "output_type": "stream",
     "text": [
      "Current frame:  613\n",
      "Normal Mode\n",
      "Current frame:  614\n",
      "Normal Mode\n",
      "Current frame:  615\n"
     ]
    },
    {
     "name": "stderr",
     "output_type": "stream",
     "text": [
      "t:  49%|████████████████████████████████▎                                 | 617/1260 [00:50<00:53, 11.91it/s, now=None]"
     ]
    },
    {
     "name": "stdout",
     "output_type": "stream",
     "text": [
      "Normal Mode\n",
      "Current frame:  616\n",
      "Normal Mode\n",
      "Current frame:  617\n",
      "Normal Mode\n"
     ]
    },
    {
     "name": "stderr",
     "output_type": "stream",
     "text": [
      "\r",
      "t:  49%|████████████████████████████████▍                                 | 619/1260 [00:50<00:54, 11.86it/s, now=None]"
     ]
    },
    {
     "name": "stdout",
     "output_type": "stream",
     "text": [
      "Current frame:  618\n",
      "Normal Mode\n",
      "Current frame:  619\n",
      "Normal Mode\n",
      "Current frame:  620\n"
     ]
    },
    {
     "name": "stderr",
     "output_type": "stream",
     "text": [
      "\r",
      "t:  49%|████████████████████████████████▌                                 | 621/1260 [00:51<00:53, 11.84it/s, now=None]"
     ]
    },
    {
     "name": "stdout",
     "output_type": "stream",
     "text": [
      "Normal Mode\n",
      "Current frame:  621\n",
      "Normal Mode\n",
      "Current frame:  622\n",
      "Normal Mode\n",
      "Current frame: "
     ]
    },
    {
     "name": "stderr",
     "output_type": "stream",
     "text": [
      "\r",
      "t:  49%|████████████████████████████████▋                                 | 623/1260 [00:51<00:53, 11.85it/s, now=None]"
     ]
    },
    {
     "name": "stdout",
     "output_type": "stream",
     "text": [
      " 623\n",
      "Normal Mode\n",
      "Current frame:  624\n",
      "Normal Mode\n",
      "Current frame:  625\n"
     ]
    },
    {
     "name": "stderr",
     "output_type": "stream",
     "text": [
      "\r",
      "t:  50%|████████████████████████████████▋                                 | 625/1260 [00:51<00:53, 11.85it/s, now=None]"
     ]
    },
    {
     "name": "stdout",
     "output_type": "stream",
     "text": [
      "Normal Mode\n",
      "Current frame:  626\n",
      "Normal Mode\n",
      "Current frame:  627\n",
      "Normal Mode\n"
     ]
    },
    {
     "name": "stderr",
     "output_type": "stream",
     "text": [
      "t:  50%|████████████████████████████████▉                                 | 629/1260 [00:51<00:51, 12.14it/s, now=None]"
     ]
    },
    {
     "name": "stdout",
     "output_type": "stream",
     "text": [
      "Current frame:  628\n",
      "Normal Mode\n",
      "Current frame:  629\n",
      "Normal Mode\n",
      "Current frame:  630\n",
      "Normal Mode"
     ]
    },
    {
     "name": "stderr",
     "output_type": "stream",
     "text": [
      "\r",
      "t:  50%|█████████████████████████████████                                 | 631/1260 [00:51<00:51, 12.21it/s, now=None]"
     ]
    },
    {
     "name": "stdout",
     "output_type": "stream",
     "text": [
      "\n",
      "Current frame:  631\n",
      "Normal Mode\n",
      "Current frame:  632\n",
      "Normal Mode\n",
      "Current frame: "
     ]
    },
    {
     "name": "stderr",
     "output_type": "stream",
     "text": [
      "\r",
      "t:  50%|█████████████████████████████████▏                                | 633/1260 [00:52<00:50, 12.42it/s, now=None]"
     ]
    },
    {
     "name": "stdout",
     "output_type": "stream",
     "text": [
      " 633\n",
      "Normal Mode\n",
      "Current frame:  634\n",
      "Normal Mode\n",
      "Current frame:  635\n"
     ]
    },
    {
     "name": "stderr",
     "output_type": "stream",
     "text": [
      "\r",
      "t:  50%|█████████████████████████████████▎                                | 635/1260 [00:52<00:50, 12.32it/s, now=None]"
     ]
    },
    {
     "name": "stdout",
     "output_type": "stream",
     "text": [
      "Normal Mode\n",
      "Current frame:  636\n",
      "Normal Mode\n",
      "Current frame:  637\n",
      "Normal Mode"
     ]
    },
    {
     "name": "stderr",
     "output_type": "stream",
     "text": [
      "t:  51%|█████████████████████████████████▍                                | 639/1260 [00:52<00:50, 12.26it/s, now=None]"
     ]
    },
    {
     "name": "stdout",
     "output_type": "stream",
     "text": [
      "\n",
      "Current frame:  638\n",
      "Normal Mode\n",
      "Current frame:  639\n",
      "Normal Mode\n"
     ]
    },
    {
     "name": "stderr",
     "output_type": "stream",
     "text": [
      "\r",
      "t:  51%|█████████████████████████████████▌                                | 641/1260 [00:52<00:52, 11.76it/s, now=None]"
     ]
    },
    {
     "name": "stdout",
     "output_type": "stream",
     "text": [
      "Current frame:  640\n",
      "Normal Mode\n",
      "Current frame:  641\n",
      "Normal Mode\n"
     ]
    },
    {
     "name": "stderr",
     "output_type": "stream",
     "text": [
      "\r",
      "t:  51%|█████████████████████████████████▋                                | 643/1260 [00:52<00:51, 11.92it/s, now=None]"
     ]
    },
    {
     "name": "stdout",
     "output_type": "stream",
     "text": [
      "Current frame:  642\n",
      "Normal Mode\n",
      "Current frame:  643\n",
      "Normal Mode\n",
      "Current frame:  644\n"
     ]
    },
    {
     "name": "stderr",
     "output_type": "stream",
     "text": [
      "\r",
      "t:  51%|█████████████████████████████████▊                                | 645/1260 [00:53<00:51, 11.92it/s, now=None]"
     ]
    },
    {
     "name": "stdout",
     "output_type": "stream",
     "text": [
      "Normal Mode\n",
      "Current frame:  645\n",
      "Normal Mode\n",
      "Current frame:  646\n",
      "Normal Mode\n"
     ]
    },
    {
     "name": "stderr",
     "output_type": "stream",
     "text": [
      "\r",
      "t:  51%|█████████████████████████████████▉                                | 647/1260 [00:53<00:50, 12.03it/s, now=None]"
     ]
    },
    {
     "name": "stdout",
     "output_type": "stream",
     "text": [
      "Current frame:  647\n",
      "Normal Mode\n",
      "Current frame:  648\n",
      "Normal Mode\n",
      "Current frame:  649\n"
     ]
    },
    {
     "name": "stderr",
     "output_type": "stream",
     "text": [
      "t:  52%|██████████████████████████████████                                | 651/1260 [00:53<00:50, 12.02it/s, now=None]"
     ]
    },
    {
     "name": "stdout",
     "output_type": "stream",
     "text": [
      "Normal Mode\n",
      "Current frame:  650\n",
      "Normal Mode\n",
      "Current frame:  651\n",
      "Normal Mode\n"
     ]
    },
    {
     "name": "stderr",
     "output_type": "stream",
     "text": [
      "\r",
      "t:  52%|██████████████████████████████████▏                               | 653/1260 [00:53<00:50, 11.93it/s, now=None]"
     ]
    },
    {
     "name": "stdout",
     "output_type": "stream",
     "text": [
      "Current frame:  652\n",
      "Normal Mode\n",
      "Current frame:  653\n",
      "Normal Mode\n",
      "Current frame:  654\n"
     ]
    },
    {
     "name": "stderr",
     "output_type": "stream",
     "text": [
      "\r",
      "t:  52%|██████████████████████████████████▎                               | 655/1260 [00:54<00:53, 11.36it/s, now=None]"
     ]
    },
    {
     "name": "stdout",
     "output_type": "stream",
     "text": [
      "Normal Mode\n",
      "Current frame:  655\n",
      "Normal Mode\n",
      "Current frame:  656\n",
      "Normal Mode"
     ]
    },
    {
     "name": "stderr",
     "output_type": "stream",
     "text": [
      "\r",
      "t:  52%|██████████████████████████████████▍                               | 657/1260 [00:54<00:51, 11.65it/s, now=None]"
     ]
    },
    {
     "name": "stdout",
     "output_type": "stream",
     "text": [
      "\n",
      "Current frame:  657\n",
      "Normal Mode\n",
      "Current frame:  658\n",
      "Normal Mode\n"
     ]
    },
    {
     "name": "stderr",
     "output_type": "stream",
     "text": [
      "\r",
      "t:  52%|██████████████████████████████████▌                               | 659/1260 [00:54<00:51, 11.61it/s, now=None]"
     ]
    },
    {
     "name": "stdout",
     "output_type": "stream",
     "text": [
      "Current frame:  659\n",
      "Normal Mode\n",
      "Current frame:  660\n",
      "Normal Mode\n",
      "Current frame:  661\n"
     ]
    },
    {
     "name": "stderr",
     "output_type": "stream",
     "text": [
      "\r",
      "t:  52%|██████████████████████████████████▌                               | 661/1260 [00:54<00:51, 11.63it/s, now=None]"
     ]
    },
    {
     "name": "stdout",
     "output_type": "stream",
     "text": [
      "Normal Mode\n",
      "Current frame:  662\n",
      "Normal Mode\n",
      "Current frame:  663\n",
      "Normal Mode\n"
     ]
    },
    {
     "name": "stderr",
     "output_type": "stream",
     "text": [
      "t:  53%|██████████████████████████████████▊                               | 665/1260 [00:54<00:50, 11.69it/s, now=None]"
     ]
    },
    {
     "name": "stdout",
     "output_type": "stream",
     "text": [
      "Current frame:  664\n",
      "Normal Mode\n",
      "Current frame:  665\n",
      "Normal Mode\n",
      "Current frame:  666\n"
     ]
    },
    {
     "name": "stderr",
     "output_type": "stream",
     "text": [
      "\r",
      "t:  53%|██████████████████████████████████▉                               | 667/1260 [00:55<00:50, 11.82it/s, now=None]"
     ]
    },
    {
     "name": "stdout",
     "output_type": "stream",
     "text": [
      "Normal Mode\n",
      "Current frame:  667\n",
      "Normal Mode\n",
      "Current frame:  668\n",
      "Normal Mode\n",
      "Current frame: "
     ]
    },
    {
     "name": "stderr",
     "output_type": "stream",
     "text": [
      "\r",
      "t:  53%|███████████████████████████████████                               | 669/1260 [00:55<00:49, 11.88it/s, now=None]"
     ]
    },
    {
     "name": "stdout",
     "output_type": "stream",
     "text": [
      " 669\n",
      "Normal Mode\n",
      "Current frame:  670\n",
      "Normal Mode\n",
      "Current frame:  671\n"
     ]
    },
    {
     "name": "stderr",
     "output_type": "stream",
     "text": [
      "\r",
      "t:  53%|███████████████████████████████████▏                              | 671/1260 [00:55<00:49, 11.96it/s, now=None]"
     ]
    },
    {
     "name": "stdout",
     "output_type": "stream",
     "text": [
      "Normal Mode\n",
      "Current frame:  672\n",
      "Normal Mode\n",
      "Current frame:  673\n",
      "Normal Mode\n"
     ]
    },
    {
     "name": "stderr",
     "output_type": "stream",
     "text": [
      "t:  54%|███████████████████████████████████▎                              | 675/1260 [00:55<00:48, 12.04it/s, now=None]"
     ]
    },
    {
     "name": "stdout",
     "output_type": "stream",
     "text": [
      "Current frame:  674\n",
      "Normal Mode\n",
      "Current frame:  675\n",
      "Normal Mode\n",
      "Current frame:  676\n"
     ]
    },
    {
     "name": "stderr",
     "output_type": "stream",
     "text": [
      "\r",
      "t:  54%|███████████████████████████████████▍                              | 677/1260 [00:55<00:49, 11.84it/s, now=None]"
     ]
    },
    {
     "name": "stdout",
     "output_type": "stream",
     "text": [
      "Normal Mode\n",
      "Current frame:  677\n",
      "Normal Mode\n",
      "Current frame:  678\n",
      "Normal Mode\n",
      "Current frame: "
     ]
    },
    {
     "name": "stderr",
     "output_type": "stream",
     "text": [
      "\r",
      "t:  54%|███████████████████████████████████▌                              | 679/1260 [00:56<00:49, 11.62it/s, now=None]"
     ]
    },
    {
     "name": "stdout",
     "output_type": "stream",
     "text": [
      " 679\n",
      "Normal Mode\n",
      "Current frame:  680\n",
      "Normal Mode\n",
      "Current frame:  681\n"
     ]
    },
    {
     "name": "stderr",
     "output_type": "stream",
     "text": [
      "\r",
      "t:  54%|███████████████████████████████████▋                              | 681/1260 [00:56<00:49, 11.75it/s, now=None]"
     ]
    },
    {
     "name": "stdout",
     "output_type": "stream",
     "text": [
      "Normal Mode\n",
      "Current frame:  682\n",
      "Normal Mode\n",
      "Current frame:  683\n",
      "Normal Mode\n"
     ]
    },
    {
     "name": "stderr",
     "output_type": "stream",
     "text": [
      "t:  54%|███████████████████████████████████▉                              | 685/1260 [00:56<00:49, 11.58it/s, now=None]"
     ]
    },
    {
     "name": "stdout",
     "output_type": "stream",
     "text": [
      "Current frame:  684\n",
      "Normal Mode\n",
      "Current frame:  685\n",
      "Normal Mode\n",
      "Current frame:  686\n"
     ]
    },
    {
     "name": "stderr",
     "output_type": "stream",
     "text": [
      "\r",
      "t:  55%|███████████████████████████████████▉                              | 687/1260 [00:56<00:49, 11.68it/s, now=None]"
     ]
    },
    {
     "name": "stdout",
     "output_type": "stream",
     "text": [
      "Normal Mode\n",
      "Current frame:  687\n",
      "Normal Mode\n",
      "Current frame:  688\n",
      "Normal Mode\n",
      "Current frame: "
     ]
    },
    {
     "name": "stderr",
     "output_type": "stream",
     "text": [
      "\r",
      "t:  55%|████████████████████████████████████                              | 689/1260 [00:56<00:48, 11.76it/s, now=None]"
     ]
    },
    {
     "name": "stdout",
     "output_type": "stream",
     "text": [
      " 689\n",
      "Normal Mode\n",
      "Current frame:  690\n",
      "Normal Mode\n",
      "Current frame:  691\n"
     ]
    },
    {
     "name": "stderr",
     "output_type": "stream",
     "text": [
      "\r",
      "t:  55%|████████████████████████████████████▏                             | 691/1260 [00:57<00:47, 11.89it/s, now=None]"
     ]
    },
    {
     "name": "stdout",
     "output_type": "stream",
     "text": [
      "Normal Mode\n",
      "Current frame:  692\n",
      "Normal Mode\n",
      "Current frame:  693\n",
      "Normal Mode\n"
     ]
    },
    {
     "name": "stderr",
     "output_type": "stream",
     "text": [
      "t:  55%|████████████████████████████████████▍                             | 695/1260 [00:57<00:46, 12.11it/s, now=None]"
     ]
    },
    {
     "name": "stdout",
     "output_type": "stream",
     "text": [
      "Current frame:  694\n",
      "Normal Mode\n",
      "Current frame:  695\n",
      "Normal Mode\n",
      "Current frame:  696\n"
     ]
    },
    {
     "name": "stderr",
     "output_type": "stream",
     "text": [
      "\r",
      "t:  55%|████████████████████████████████████▌                             | 697/1260 [00:57<00:47, 11.90it/s, now=None]"
     ]
    },
    {
     "name": "stdout",
     "output_type": "stream",
     "text": [
      "Normal Mode\n",
      "Current frame:  697\n",
      "Normal Mode\n",
      "Current frame:  698\n",
      "Normal Mode\n"
     ]
    },
    {
     "name": "stderr",
     "output_type": "stream",
     "text": [
      "\r",
      "t:  55%|████████████████████████████████████▌                             | 699/1260 [00:57<00:47, 11.77it/s, now=None]"
     ]
    },
    {
     "name": "stdout",
     "output_type": "stream",
     "text": [
      "Current frame:  699\n",
      "Normal Mode\n",
      "Current frame:  700\n",
      "Normal Mode\n",
      "Current frame:  701\n"
     ]
    },
    {
     "name": "stderr",
     "output_type": "stream",
     "text": [
      "\r",
      "t:  56%|████████████████████████████████████▋                             | 701/1260 [00:57<00:47, 11.86it/s, now=None]"
     ]
    },
    {
     "name": "stdout",
     "output_type": "stream",
     "text": [
      "Normal Mode\n",
      "Current frame:  702\n",
      "Normal Mode\n",
      "Current frame:  703\n",
      "Normal Mode\n"
     ]
    },
    {
     "name": "stderr",
     "output_type": "stream",
     "text": [
      "t:  56%|████████████████████████████████████▉                             | 705/1260 [00:58<00:46, 11.96it/s, now=None]"
     ]
    },
    {
     "name": "stdout",
     "output_type": "stream",
     "text": [
      "Current frame:  704\n",
      "Normal Mode\n",
      "Current frame:  705\n",
      "Normal Mode\n",
      "Current frame:  706\n"
     ]
    },
    {
     "name": "stderr",
     "output_type": "stream",
     "text": [
      "\r",
      "t:  56%|█████████████████████████████████████                             | 707/1260 [00:58<00:46, 11.87it/s, now=None]"
     ]
    },
    {
     "name": "stdout",
     "output_type": "stream",
     "text": [
      "Normal Mode\n",
      "Current frame:  707\n",
      "Normal Mode\n",
      "Current frame:  708\n",
      "Normal Mode\n",
      "Current frame: "
     ]
    },
    {
     "name": "stderr",
     "output_type": "stream",
     "text": [
      "\r",
      "t:  56%|█████████████████████████████████████▏                            | 709/1260 [00:58<00:46, 11.95it/s, now=None]"
     ]
    },
    {
     "name": "stdout",
     "output_type": "stream",
     "text": [
      " 709\n",
      "Normal Mode\n",
      "Current frame:  710\n",
      "Normal Mode\n",
      "Current frame:  711\n"
     ]
    },
    {
     "name": "stderr",
     "output_type": "stream",
     "text": [
      "t:  57%|█████████████████████████████████████▎                            | 713/1260 [00:58<00:44, 12.23it/s, now=None]"
     ]
    },
    {
     "name": "stdout",
     "output_type": "stream",
     "text": [
      "Normal Mode\n",
      "Current frame:  712\n",
      "Normal Mode\n",
      "Current frame:  713\n",
      "Normal Mode\n"
     ]
    },
    {
     "name": "stderr",
     "output_type": "stream",
     "text": [
      "\r",
      "t:  57%|█████████████████████████████████████▍                            | 715/1260 [00:59<00:44, 12.25it/s, now=None]"
     ]
    },
    {
     "name": "stdout",
     "output_type": "stream",
     "text": [
      "Current frame:  714\n",
      "Normal Mode\n",
      "Current frame:  715\n",
      "Normal Mode\n",
      "Current frame:  716\n",
      "Normal Mode"
     ]
    },
    {
     "name": "stderr",
     "output_type": "stream",
     "text": [
      "\r",
      "t:  57%|█████████████████████████████████████▌                            | 717/1260 [00:59<00:43, 12.36it/s, now=None]"
     ]
    },
    {
     "name": "stdout",
     "output_type": "stream",
     "text": [
      "\n",
      "Current frame:  717\n",
      "Normal Mode\n",
      "Current frame:  718\n",
      "Normal Mode\n",
      "Current frame: "
     ]
    },
    {
     "name": "stderr",
     "output_type": "stream",
     "text": [
      "\r",
      "t:  57%|█████████████████████████████████████▋                            | 719/1260 [00:59<00:43, 12.45it/s, now=None]"
     ]
    },
    {
     "name": "stdout",
     "output_type": "stream",
     "text": [
      " 719\n",
      "Normal Mode\n",
      "Current frame:  720\n",
      "Normal Mode\n",
      "Current frame:  721\n",
      "Normal Mode"
     ]
    },
    {
     "name": "stderr",
     "output_type": "stream",
     "text": [
      "\r",
      "t:  57%|█████████████████████████████████████▊                            | 721/1260 [00:59<00:43, 12.36it/s, now=None]"
     ]
    },
    {
     "name": "stdout",
     "output_type": "stream",
     "text": [
      "\n",
      "Current frame:  722\n",
      "Normal Mode\n",
      "Current frame:  723\n",
      "Normal Mode\n"
     ]
    },
    {
     "name": "stderr",
     "output_type": "stream",
     "text": [
      "t:  58%|█████████████████████████████████████▉                            | 725/1260 [00:59<00:43, 12.38it/s, now=None]"
     ]
    },
    {
     "name": "stdout",
     "output_type": "stream",
     "text": [
      "Current frame:  724\n",
      "Normal Mode\n",
      "Current frame:  725\n",
      "Normal Mode\n",
      "Current frame:  726\n"
     ]
    },
    {
     "name": "stderr",
     "output_type": "stream",
     "text": [
      "\r",
      "t:  58%|██████████████████████████████████████                            | 727/1260 [00:59<00:42, 12.45it/s, now=None]"
     ]
    },
    {
     "name": "stdout",
     "output_type": "stream",
     "text": [
      "Normal Mode\n",
      "Current frame:  727\n",
      "Normal Mode\n",
      "Current frame:  728\n",
      "Normal Mode\n",
      "Current frame: "
     ]
    },
    {
     "name": "stderr",
     "output_type": "stream",
     "text": [
      "\r",
      "t:  58%|██████████████████████████████████████▏                           | 729/1260 [01:00<00:42, 12.52it/s, now=None]"
     ]
    },
    {
     "name": "stdout",
     "output_type": "stream",
     "text": [
      " 729\n",
      "Normal Mode\n",
      "Current frame:  730\n",
      "Normal Mode\n",
      "Current frame:  731\n",
      "Normal Mode"
     ]
    },
    {
     "name": "stderr",
     "output_type": "stream",
     "text": [
      "\r",
      "t:  58%|██████████████████████████████████████▎                           | 731/1260 [01:00<00:42, 12.43it/s, now=None]"
     ]
    },
    {
     "name": "stdout",
     "output_type": "stream",
     "text": [
      "\n",
      "Current frame:  732\n",
      "Normal Mode\n",
      "Current frame:  733\n",
      "Normal Mode\n"
     ]
    },
    {
     "name": "stderr",
     "output_type": "stream",
     "text": [
      "t:  58%|██████████████████████████████████████▌                           | 735/1260 [01:00<00:42, 12.30it/s, now=None]"
     ]
    },
    {
     "name": "stdout",
     "output_type": "stream",
     "text": [
      "Current frame:  734\n",
      "Normal Mode\n",
      "Current frame:  735\n",
      "Normal Mode\n",
      "Current frame:  736\n"
     ]
    },
    {
     "name": "stderr",
     "output_type": "stream",
     "text": [
      "\r",
      "t:  58%|██████████████████████████████████████▌                           | 737/1260 [01:00<00:42, 12.41it/s, now=None]"
     ]
    },
    {
     "name": "stdout",
     "output_type": "stream",
     "text": [
      "Normal Mode\n",
      "Current frame:  737\n",
      "Normal Mode\n",
      "Current frame:  738\n",
      "Normal Mode\n",
      "Current frame: "
     ]
    },
    {
     "name": "stderr",
     "output_type": "stream",
     "text": [
      "\r",
      "t:  59%|██████████████████████████████████████▋                           | 739/1260 [01:00<00:41, 12.45it/s, now=None]"
     ]
    },
    {
     "name": "stdout",
     "output_type": "stream",
     "text": [
      " 739\n",
      "Normal Mode\n",
      "Current frame:  740\n",
      "Normal Mode\n",
      "Current frame:  741\n",
      "Normal Mode"
     ]
    },
    {
     "name": "stderr",
     "output_type": "stream",
     "text": [
      "\r",
      "t:  59%|██████████████████████████████████████▊                           | 741/1260 [01:01<00:42, 12.09it/s, now=None]"
     ]
    },
    {
     "name": "stdout",
     "output_type": "stream",
     "text": [
      "\n",
      "Current frame:  742\n",
      "Normal Mode\n",
      "Current frame:  743\n",
      "Normal Mode\n"
     ]
    },
    {
     "name": "stderr",
     "output_type": "stream",
     "text": [
      "t:  59%|███████████████████████████████████████                           | 745/1260 [01:01<00:42, 12.21it/s, now=None]"
     ]
    },
    {
     "name": "stdout",
     "output_type": "stream",
     "text": [
      "Current frame:  744\n",
      "Normal Mode\n",
      "Current frame:  745\n",
      "Normal Mode\n",
      "Current frame:  746\n"
     ]
    },
    {
     "name": "stderr",
     "output_type": "stream",
     "text": [
      "\r",
      "t:  59%|███████████████████████████████████████▏                          | 747/1260 [01:01<00:41, 12.28it/s, now=None]"
     ]
    },
    {
     "name": "stdout",
     "output_type": "stream",
     "text": [
      "Normal Mode\n",
      "Current frame:  747\n",
      "Normal Mode\n",
      "Current frame:  748\n",
      "Normal Mode\n",
      "Current frame: "
     ]
    },
    {
     "name": "stderr",
     "output_type": "stream",
     "text": [
      "\r",
      "t:  59%|███████████████████████████████████████▏                          | 749/1260 [01:01<00:41, 12.17it/s, now=None]"
     ]
    },
    {
     "name": "stdout",
     "output_type": "stream",
     "text": [
      " 749\n",
      "Normal Mode\n",
      "Current frame:  750\n",
      "Normal Mode\n",
      "Current frame:  751\n",
      "Normal Mode"
     ]
    },
    {
     "name": "stderr",
     "output_type": "stream",
     "text": [
      "t:  60%|███████████████████████████████████████▍                          | 753/1260 [01:02<00:41, 12.11it/s, now=None]"
     ]
    },
    {
     "name": "stdout",
     "output_type": "stream",
     "text": [
      "\n",
      "Current frame:  752\n",
      "Normal Mode\n",
      "Current frame:  753\n",
      "Normal Mode\n"
     ]
    },
    {
     "name": "stderr",
     "output_type": "stream",
     "text": [
      "\r",
      "t:  60%|███████████████████████████████████████▌                          | 755/1260 [01:02<00:41, 12.04it/s, now=None]"
     ]
    },
    {
     "name": "stdout",
     "output_type": "stream",
     "text": [
      "Current frame:  754\n",
      "Normal Mode\n",
      "Current frame:  755\n",
      "Normal Mode\n",
      "Current frame:  756\n"
     ]
    },
    {
     "name": "stderr",
     "output_type": "stream",
     "text": [
      "\r",
      "t:  60%|███████████████████████████████████████▋                          | 757/1260 [01:02<00:41, 12.12it/s, now=None]"
     ]
    },
    {
     "name": "stdout",
     "output_type": "stream",
     "text": [
      "Normal Mode\n",
      "Current frame:  757\n",
      "Normal Mode\n",
      "Current frame:  758\n",
      "Normal Mode\n",
      "Current frame: "
     ]
    },
    {
     "name": "stderr",
     "output_type": "stream",
     "text": [
      "\r",
      "t:  60%|███████████████████████████████████████▊                          | 759/1260 [01:02<00:41, 12.06it/s, now=None]"
     ]
    },
    {
     "name": "stdout",
     "output_type": "stream",
     "text": [
      " 759\n",
      "Normal Mode\n",
      "Current frame:  760\n",
      "Normal Mode\n",
      "Current frame:  761\n"
     ]
    },
    {
     "name": "stderr",
     "output_type": "stream",
     "text": [
      "t:  61%|███████████████████████████████████████▉                          | 763/1260 [01:02<00:41, 12.11it/s, now=None]"
     ]
    },
    {
     "name": "stdout",
     "output_type": "stream",
     "text": [
      "Normal Mode\n",
      "Current frame:  762\n",
      "Normal Mode\n",
      "Current frame:  763\n",
      "Normal Mode\n"
     ]
    },
    {
     "name": "stderr",
     "output_type": "stream",
     "text": [
      "\r",
      "t:  61%|████████████████████████████████████████                          | 765/1260 [01:03<00:40, 12.19it/s, now=None]"
     ]
    },
    {
     "name": "stdout",
     "output_type": "stream",
     "text": [
      "Current frame:  764\n",
      "Normal Mode\n",
      "Current frame:  765\n",
      "Normal Mode\n",
      "Current frame:  766\n"
     ]
    },
    {
     "name": "stderr",
     "output_type": "stream",
     "text": [
      "\r",
      "t:  61%|████████████████████████████████████████▏                         | 767/1260 [01:03<00:41, 11.92it/s, now=None]"
     ]
    },
    {
     "name": "stdout",
     "output_type": "stream",
     "text": [
      "Normal Mode\n",
      "Current frame:  767\n",
      "Normal Mode\n",
      "Current frame:  768\n",
      "Normal Mode\n",
      "Current frame: "
     ]
    },
    {
     "name": "stderr",
     "output_type": "stream",
     "text": [
      "\r",
      "t:  61%|████████████████████████████████████████▎                         | 769/1260 [01:03<00:40, 12.03it/s, now=None]"
     ]
    },
    {
     "name": "stdout",
     "output_type": "stream",
     "text": [
      " 769\n",
      "Normal Mode\n",
      "Current frame:  770\n",
      "Normal Mode\n",
      "Current frame:  771\n"
     ]
    },
    {
     "name": "stderr",
     "output_type": "stream",
     "text": [
      "\r",
      "t:  61%|████████████████████████████████████████▍                         | 771/1260 [01:03<00:41, 11.89it/s, now=None]"
     ]
    },
    {
     "name": "stdout",
     "output_type": "stream",
     "text": [
      "Normal Mode\n",
      "Current frame:  772\n",
      "Normal Mode\n",
      "Current frame:  773\n",
      "Normal Mode\n"
     ]
    },
    {
     "name": "stderr",
     "output_type": "stream",
     "text": [
      "t:  62%|████████████████████████████████████████▌                         | 775/1260 [01:03<00:39, 12.15it/s, now=None]"
     ]
    },
    {
     "name": "stdout",
     "output_type": "stream",
     "text": [
      "Current frame:  774\n",
      "Normal Mode\n",
      "Current frame:  775\n",
      "Normal Mode\n",
      "Current frame:  776\n"
     ]
    },
    {
     "name": "stderr",
     "output_type": "stream",
     "text": [
      "\r",
      "t:  62%|████████████████████████████████████████▋                         | 777/1260 [01:04<00:39, 12.13it/s, now=None]"
     ]
    },
    {
     "name": "stdout",
     "output_type": "stream",
     "text": [
      "Normal Mode\n",
      "Current frame:  777\n",
      "Normal Mode\n",
      "Current frame:  778\n",
      "Normal Mode\n",
      "Current frame: "
     ]
    },
    {
     "name": "stderr",
     "output_type": "stream",
     "text": [
      "\r",
      "t:  62%|████████████████████████████████████████▊                         | 779/1260 [01:04<00:39, 12.25it/s, now=None]"
     ]
    },
    {
     "name": "stdout",
     "output_type": "stream",
     "text": [
      " 779\n",
      "Normal Mode\n",
      "Current frame:  780\n",
      "Normal Mode\n",
      "Current frame:  781\n",
      "Normal Mode"
     ]
    },
    {
     "name": "stderr",
     "output_type": "stream",
     "text": [
      "t:  62%|█████████████████████████████████████████                         | 783/1260 [01:04<00:40, 11.92it/s, now=None]"
     ]
    },
    {
     "name": "stdout",
     "output_type": "stream",
     "text": [
      "\n",
      "Current frame:  782\n",
      "Normal Mode\n",
      "Current frame:  783\n",
      "Normal Mode\n"
     ]
    },
    {
     "name": "stderr",
     "output_type": "stream",
     "text": [
      "\r",
      "t:  62%|█████████████████████████████████████████                         | 785/1260 [01:04<00:40, 11.76it/s, now=None]"
     ]
    },
    {
     "name": "stdout",
     "output_type": "stream",
     "text": [
      "Current frame:  784\n",
      "Normal Mode\n",
      "Current frame:  785\n",
      "Normal Mode\n",
      "Current frame:  786\n"
     ]
    },
    {
     "name": "stderr",
     "output_type": "stream",
     "text": [
      "\r",
      "t:  62%|█████████████████████████████████████████▏                        | 787/1260 [01:04<00:39, 11.85it/s, now=None]"
     ]
    },
    {
     "name": "stdout",
     "output_type": "stream",
     "text": [
      "Normal Mode\n",
      "Current frame:  787\n",
      "Normal Mode\n",
      "Current frame:  788\n",
      "Normal Mode\n",
      "Current frame: "
     ]
    },
    {
     "name": "stderr",
     "output_type": "stream",
     "text": [
      "\r",
      "t:  63%|█████████████████████████████████████████▎                        | 789/1260 [01:05<00:39, 12.07it/s, now=None]"
     ]
    },
    {
     "name": "stdout",
     "output_type": "stream",
     "text": [
      " 789\n",
      "Normal Mode\n",
      "Current frame:  790\n",
      "Normal Mode\n",
      "Current frame:  791\n",
      "Normal Mode"
     ]
    },
    {
     "name": "stderr",
     "output_type": "stream",
     "text": [
      "\r",
      "t:  63%|█████████████████████████████████████████▍                        | 791/1260 [01:05<00:39, 11.90it/s, now=None]"
     ]
    },
    {
     "name": "stdout",
     "output_type": "stream",
     "text": [
      "\n",
      "Current frame:  792\n",
      "Normal Mode\n",
      "Current frame:  793\n",
      "Normal Mode\n"
     ]
    },
    {
     "name": "stderr",
     "output_type": "stream",
     "text": [
      "t:  63%|█████████████████████████████████████████▋                        | 795/1260 [01:05<00:38, 12.11it/s, now=None]"
     ]
    },
    {
     "name": "stdout",
     "output_type": "stream",
     "text": [
      "Current frame:  794\n",
      "Normal Mode\n",
      "Current frame:  795\n",
      "Normal Mode\n",
      "Current frame:  796\n"
     ]
    },
    {
     "name": "stderr",
     "output_type": "stream",
     "text": [
      "\r",
      "t:  63%|█████████████████████████████████████████▋                        | 797/1260 [01:05<00:37, 12.24it/s, now=None]"
     ]
    },
    {
     "name": "stdout",
     "output_type": "stream",
     "text": [
      "Normal Mode\n",
      "Current frame:  797\n",
      "Normal Mode\n",
      "Current frame:  798\n",
      "Normal Mode\n",
      "Current frame: "
     ]
    },
    {
     "name": "stderr",
     "output_type": "stream",
     "text": [
      "\r",
      "t:  63%|█████████████████████████████████████████▊                        | 799/1260 [01:05<00:37, 12.21it/s, now=None]"
     ]
    },
    {
     "name": "stdout",
     "output_type": "stream",
     "text": [
      " 799\n",
      "Normal Mode\n",
      "Current frame:  800\n",
      "Normal Mode\n",
      "Current frame:  801\n",
      "Normal Mode"
     ]
    },
    {
     "name": "stderr",
     "output_type": "stream",
     "text": [
      "\r",
      "t:  64%|█████████████████████████████████████████▉                        | 801/1260 [01:06<00:37, 12.35it/s, now=None]"
     ]
    },
    {
     "name": "stdout",
     "output_type": "stream",
     "text": [
      "\n",
      "Current frame:  802\n",
      "Normal Mode\n",
      "Current frame:  803\n",
      "Normal Mode\n"
     ]
    },
    {
     "name": "stderr",
     "output_type": "stream",
     "text": [
      "t:  64%|██████████████████████████████████████████▏                       | 805/1260 [01:06<00:37, 12.21it/s, now=None]"
     ]
    },
    {
     "name": "stdout",
     "output_type": "stream",
     "text": [
      "Current frame:  804\n",
      "Normal Mode\n",
      "Current frame:  805\n",
      "Normal Mode\n",
      "Current frame:  806\n",
      "Normal Mode"
     ]
    },
    {
     "name": "stderr",
     "output_type": "stream",
     "text": [
      "\r",
      "t:  64%|██████████████████████████████████████████▎                       | 807/1260 [01:06<00:38, 11.87it/s, now=None]"
     ]
    },
    {
     "name": "stdout",
     "output_type": "stream",
     "text": [
      "\n",
      "Current frame:  807\n",
      "Normal Mode\n",
      "Current frame:  808\n",
      "Normal Mode"
     ]
    },
    {
     "name": "stderr",
     "output_type": "stream",
     "text": [
      "\r",
      "t:  64%|██████████████████████████████████████████▍                       | 809/1260 [01:06<00:37, 11.99it/s, now=None]"
     ]
    },
    {
     "name": "stdout",
     "output_type": "stream",
     "text": [
      "\n",
      "Current frame:  809\n",
      "Normal Mode\n",
      "Current frame:  810\n",
      "Normal Mode\n",
      "Current frame: "
     ]
    },
    {
     "name": "stderr",
     "output_type": "stream",
     "text": [
      "\r",
      "t:  64%|██████████████████████████████████████████▍                       | 811/1260 [01:06<00:37, 12.08it/s, now=None]"
     ]
    },
    {
     "name": "stdout",
     "output_type": "stream",
     "text": [
      " 811\n",
      "Normal Mode\n",
      "Current frame:  812\n",
      "Normal Mode\n",
      "Current frame:  813\n",
      "Normal Mode"
     ]
    },
    {
     "name": "stderr",
     "output_type": "stream",
     "text": [
      "\r",
      "t:  65%|██████████████████████████████████████████▌                       | 813/1260 [01:07<00:36, 12.22it/s, now=None]"
     ]
    },
    {
     "name": "stdout",
     "output_type": "stream",
     "text": [
      "\n",
      "Current frame:  814\n",
      "Normal Mode\n",
      "Current frame:  815\n",
      "Normal Mode\n"
     ]
    },
    {
     "name": "stderr",
     "output_type": "stream",
     "text": [
      "t:  65%|██████████████████████████████████████████▊                       | 817/1260 [01:07<00:36, 12.22it/s, now=None]"
     ]
    },
    {
     "name": "stdout",
     "output_type": "stream",
     "text": [
      "Current frame:  816\n",
      "Normal Mode\n",
      "Current frame:  817\n",
      "Normal Mode\n",
      "Current frame:  818\n"
     ]
    },
    {
     "name": "stderr",
     "output_type": "stream",
     "text": [
      "\r",
      "t:  65%|██████████████████████████████████████████▉                       | 819/1260 [01:07<00:36, 12.24it/s, now=None]"
     ]
    },
    {
     "name": "stdout",
     "output_type": "stream",
     "text": [
      "Normal Mode\n",
      "Current frame:  819\n",
      "Normal Mode\n",
      "Current frame:  820\n",
      "Normal Mode\n",
      "Current frame: "
     ]
    },
    {
     "name": "stderr",
     "output_type": "stream",
     "text": [
      "\r",
      "t:  65%|███████████████████████████████████████████                       | 821/1260 [01:07<00:35, 12.22it/s, now=None]"
     ]
    },
    {
     "name": "stdout",
     "output_type": "stream",
     "text": [
      " 821\n",
      "Normal Mode\n",
      "Current frame:  822\n",
      "Normal Mode\n",
      "Current frame:  823\n",
      "Normal Mode"
     ]
    },
    {
     "name": "stderr",
     "output_type": "stream",
     "text": [
      "\r",
      "t:  65%|███████████████████████████████████████████                       | 823/1260 [01:07<00:35, 12.18it/s, now=None]"
     ]
    },
    {
     "name": "stdout",
     "output_type": "stream",
     "text": [
      "\n",
      "Current frame:  824\n",
      "Normal Mode\n",
      "Current frame:  825\n",
      "Normal Mode\n"
     ]
    },
    {
     "name": "stderr",
     "output_type": "stream",
     "text": [
      "t:  66%|███████████████████████████████████████████▎                      | 827/1260 [01:08<00:36, 12.00it/s, now=None]"
     ]
    },
    {
     "name": "stdout",
     "output_type": "stream",
     "text": [
      "Current frame:  826\n",
      "Normal Mode\n",
      "Current frame:  827\n",
      "Normal Mode\n",
      "Current frame:  828\n"
     ]
    },
    {
     "name": "stderr",
     "output_type": "stream",
     "text": [
      "\r",
      "t:  66%|███████████████████████████████████████████▍                      | 829/1260 [01:08<00:36, 11.81it/s, now=None]"
     ]
    },
    {
     "name": "stdout",
     "output_type": "stream",
     "text": [
      "Normal Mode\n",
      "Current frame:  829\n",
      "Normal Mode\n",
      "Current frame:  830\n",
      "Normal Mode\n",
      "Current frame: "
     ]
    },
    {
     "name": "stderr",
     "output_type": "stream",
     "text": [
      "\r",
      "t:  66%|███████████████████████████████████████████▌                      | 831/1260 [01:08<00:36, 11.87it/s, now=None]"
     ]
    },
    {
     "name": "stdout",
     "output_type": "stream",
     "text": [
      " 831\n",
      "Normal Mode\n",
      "Current frame:  832\n",
      "Normal Mode\n",
      "Current frame: "
     ]
    },
    {
     "name": "stderr",
     "output_type": "stream",
     "text": [
      "\r",
      "t:  66%|███████████████████████████████████████████▋                      | 833/1260 [01:08<00:36, 11.83it/s, now=None]"
     ]
    },
    {
     "name": "stdout",
     "output_type": "stream",
     "text": [
      " 833\n",
      "Normal Mode\n",
      "Current frame:  834\n",
      "Normal Mode\n",
      "Current frame:  835\n",
      "Normal Mode"
     ]
    },
    {
     "name": "stderr",
     "output_type": "stream",
     "text": [
      "t:  66%|███████████████████████████████████████████▊                      | 837/1260 [01:09<00:35, 12.05it/s, now=None]"
     ]
    },
    {
     "name": "stdout",
     "output_type": "stream",
     "text": [
      "\n",
      "Current frame:  836\n",
      "Normal Mode\n",
      "Current frame:  837\n",
      "Normal Mode\n"
     ]
    },
    {
     "name": "stderr",
     "output_type": "stream",
     "text": [
      "\r",
      "t:  67%|███████████████████████████████████████████▉                      | 839/1260 [01:09<00:34, 12.15it/s, now=None]"
     ]
    },
    {
     "name": "stdout",
     "output_type": "stream",
     "text": [
      "Current frame:  838\n",
      "Normal Mode\n",
      "Current frame:  839\n",
      "Normal Mode\n",
      "Current frame:  840\n"
     ]
    },
    {
     "name": "stderr",
     "output_type": "stream",
     "text": [
      "\r",
      "t:  67%|████████████████████████████████████████████                      | 841/1260 [01:09<00:34, 12.22it/s, now=None]"
     ]
    },
    {
     "name": "stdout",
     "output_type": "stream",
     "text": [
      "Normal Mode\n",
      "Current frame:  841\n",
      "Normal Mode\n",
      "Current frame:  842\n",
      "Normal Mode\n",
      "Current frame: "
     ]
    },
    {
     "name": "stderr",
     "output_type": "stream",
     "text": [
      "\r",
      "t:  67%|████████████████████████████████████████████▏                     | 843/1260 [01:09<00:34, 12.22it/s, now=None]"
     ]
    },
    {
     "name": "stdout",
     "output_type": "stream",
     "text": [
      " 843\n",
      "Normal Mode\n",
      "Current frame:  844\n",
      "Normal Mode\n",
      "Current frame:  845\n",
      "Normal Mode"
     ]
    },
    {
     "name": "stderr",
     "output_type": "stream",
     "text": [
      "\r",
      "t:  67%|████████████████████████████████████████████▎                     | 845/1260 [01:09<00:33, 12.29it/s, now=None]"
     ]
    },
    {
     "name": "stdout",
     "output_type": "stream",
     "text": [
      "\n",
      "Current frame:  846\n",
      "Normal Mode\n",
      "Current frame:  847\n",
      "Normal Mode\n"
     ]
    },
    {
     "name": "stderr",
     "output_type": "stream",
     "text": [
      "t:  67%|████████████████████████████████████████████▍                     | 849/1260 [01:10<00:35, 11.69it/s, now=None]"
     ]
    },
    {
     "name": "stdout",
     "output_type": "stream",
     "text": [
      "Current frame:  848\n",
      "Normal Mode\n",
      "Current frame:  849\n",
      "Normal Mode\n"
     ]
    },
    {
     "name": "stderr",
     "output_type": "stream",
     "text": [
      "\r",
      "t:  68%|████████████████████████████████████████████▌                     | 851/1260 [01:10<00:35, 11.46it/s, now=None]"
     ]
    },
    {
     "name": "stdout",
     "output_type": "stream",
     "text": [
      "Current frame:  850\n",
      "Normal Mode\n",
      "Current frame:  851\n",
      "Normal Mode\n",
      "Current frame: "
     ]
    },
    {
     "name": "stderr",
     "output_type": "stream",
     "text": [
      "\r",
      "t:  68%|████████████████████████████████████████████▋                     | 853/1260 [01:10<00:36, 11.12it/s, now=None]"
     ]
    },
    {
     "name": "stdout",
     "output_type": "stream",
     "text": [
      " 852\n",
      "Normal Mode\n",
      "Current frame:  853\n",
      "Normal Mode\n"
     ]
    },
    {
     "name": "stderr",
     "output_type": "stream",
     "text": [
      "\r",
      "t:  68%|████████████████████████████████████████████▊                     | 855/1260 [01:10<00:36, 11.16it/s, now=None]"
     ]
    },
    {
     "name": "stdout",
     "output_type": "stream",
     "text": [
      "Current frame:  854\n",
      "Normal Mode\n",
      "Current frame:  855\n",
      "Normal Mode\n",
      "Current frame:  856\n"
     ]
    },
    {
     "name": "stderr",
     "output_type": "stream",
     "text": [
      "\r",
      "t:  68%|████████████████████████████████████████████▉                     | 857/1260 [01:10<00:35, 11.38it/s, now=None]"
     ]
    },
    {
     "name": "stdout",
     "output_type": "stream",
     "text": [
      "Normal Mode\n",
      "Current frame:  857\n",
      "Normal Mode\n",
      "Current frame:  858\n",
      "Normal Mode\n"
     ]
    },
    {
     "name": "stderr",
     "output_type": "stream",
     "text": [
      "\r",
      "t:  68%|████████████████████████████████████████████▉                     | 859/1260 [01:10<00:35, 11.42it/s, now=None]"
     ]
    },
    {
     "name": "stdout",
     "output_type": "stream",
     "text": [
      "Current frame:  859\n",
      "Normal Mode\n",
      "Current frame:  860\n",
      "Normal Mode\n",
      "Current frame: "
     ]
    },
    {
     "name": "stderr",
     "output_type": "stream",
     "text": [
      "\r",
      "t:  68%|█████████████████████████████████████████████                     | 861/1260 [01:11<00:35, 11.36it/s, now=None]"
     ]
    },
    {
     "name": "stdout",
     "output_type": "stream",
     "text": [
      " 861\n",
      "Normal Mode\n",
      "Current frame:  862\n",
      "Normal Mode\n",
      "Current frame:  863\n"
     ]
    },
    {
     "name": "stderr",
     "output_type": "stream",
     "text": [
      "t:  69%|█████████████████████████████████████████████▎                    | 865/1260 [01:11<00:33, 11.96it/s, now=None]"
     ]
    },
    {
     "name": "stdout",
     "output_type": "stream",
     "text": [
      "Normal Mode\n",
      "Current frame:  864\n",
      "Normal Mode\n",
      "Current frame:  865\n",
      "Normal Mode\n"
     ]
    },
    {
     "name": "stderr",
     "output_type": "stream",
     "text": [
      "\r",
      "t:  69%|█████████████████████████████████████████████▍                    | 867/1260 [01:11<00:32, 12.12it/s, now=None]"
     ]
    },
    {
     "name": "stdout",
     "output_type": "stream",
     "text": [
      "Current frame:  866\n",
      "Normal Mode\n",
      "Current frame:  867\n",
      "Normal Mode\n",
      "Current frame:  868\n"
     ]
    },
    {
     "name": "stderr",
     "output_type": "stream",
     "text": [
      "\r",
      "t:  69%|█████████████████████████████████████████████▌                    | 869/1260 [01:11<00:32, 12.00it/s, now=None]"
     ]
    },
    {
     "name": "stdout",
     "output_type": "stream",
     "text": [
      "Normal Mode\n",
      "Current frame:  869\n",
      "Normal Mode\n",
      "Current frame:  870\n",
      "Normal Mode\n",
      "Current frame: "
     ]
    },
    {
     "name": "stderr",
     "output_type": "stream",
     "text": [
      "\r",
      "t:  69%|█████████████████████████████████████████████▌                    | 871/1260 [01:11<00:32, 12.03it/s, now=None]"
     ]
    },
    {
     "name": "stdout",
     "output_type": "stream",
     "text": [
      " 871\n",
      "Normal Mode\n",
      "Current frame:  872\n",
      "Normal Mode\n",
      "Current frame:  873\n",
      "Normal Mode"
     ]
    },
    {
     "name": "stderr",
     "output_type": "stream",
     "text": [
      "\r",
      "t:  69%|█████████████████████████████████████████████▋                    | 873/1260 [01:12<00:31, 12.17it/s, now=None]"
     ]
    },
    {
     "name": "stdout",
     "output_type": "stream",
     "text": [
      "\n",
      "Current frame:  874\n",
      "Normal Mode\n",
      "Current frame:  875\n",
      "Normal Mode\n"
     ]
    },
    {
     "name": "stderr",
     "output_type": "stream",
     "text": [
      "t:  70%|█████████████████████████████████████████████▉                    | 877/1260 [01:12<00:30, 12.36it/s, now=None]"
     ]
    },
    {
     "name": "stdout",
     "output_type": "stream",
     "text": [
      "Current frame:  876\n",
      "Normal Mode\n",
      "Current frame:  877\n",
      "Normal Mode\n",
      "Current frame:  878\n"
     ]
    },
    {
     "name": "stderr",
     "output_type": "stream",
     "text": [
      "\r",
      "t:  70%|██████████████████████████████████████████████                    | 879/1260 [01:12<00:31, 12.25it/s, now=None]"
     ]
    },
    {
     "name": "stdout",
     "output_type": "stream",
     "text": [
      "Normal Mode\n",
      "Current frame:  879\n",
      "Normal Mode\n",
      "Current frame:  880\n",
      "Normal Mode\n"
     ]
    },
    {
     "name": "stderr",
     "output_type": "stream",
     "text": [
      "\r",
      "t:  70%|██████████████████████████████████████████████▏                   | 881/1260 [01:12<00:31, 12.05it/s, now=None]"
     ]
    },
    {
     "name": "stdout",
     "output_type": "stream",
     "text": [
      "Current frame:  881\n",
      "Normal Mode\n",
      "Current frame:  882\n",
      "Normal Mode\n",
      "Current frame:  883\n"
     ]
    },
    {
     "name": "stderr",
     "output_type": "stream",
     "text": [
      "t:  70%|██████████████████████████████████████████████▎                   | 885/1260 [01:13<00:31, 12.07it/s, now=None]"
     ]
    },
    {
     "name": "stdout",
     "output_type": "stream",
     "text": [
      "Normal Mode\n",
      "Current frame:  884\n",
      "Normal Mode\n",
      "Current frame:  885\n",
      "Normal Mode\n"
     ]
    },
    {
     "name": "stderr",
     "output_type": "stream",
     "text": [
      "\r",
      "t:  70%|██████████████████████████████████████████████▍                   | 887/1260 [01:13<00:30, 12.14it/s, now=None]"
     ]
    },
    {
     "name": "stdout",
     "output_type": "stream",
     "text": [
      "Current frame:  886\n",
      "Normal Mode\n",
      "Current frame:  887\n",
      "Normal Mode\n",
      "Current frame:  888\n",
      "Normal Mode"
     ]
    },
    {
     "name": "stderr",
     "output_type": "stream",
     "text": [
      "\r",
      "t:  71%|██████████████████████████████████████████████▌                   | 889/1260 [01:13<00:30, 12.10it/s, now=None]"
     ]
    },
    {
     "name": "stdout",
     "output_type": "stream",
     "text": [
      "\n",
      "Current frame:  889\n",
      "Normal Mode\n",
      "Current frame:  890\n",
      "Normal Mode\n",
      "Current frame:  891\n"
     ]
    },
    {
     "name": "stderr",
     "output_type": "stream",
     "text": [
      "\r",
      "t:  71%|██████████████████████████████████████████████▋                   | 891/1260 [01:13<00:30, 12.11it/s, now=None]"
     ]
    },
    {
     "name": "stdout",
     "output_type": "stream",
     "text": [
      "Normal Mode\n",
      "Current frame:  892\n",
      "Normal Mode\n",
      "Current frame:  893\n",
      "Normal Mode\n"
     ]
    },
    {
     "name": "stderr",
     "output_type": "stream",
     "text": [
      "t:  71%|██████████████████████████████████████████████▉                   | 895/1260 [01:13<00:30, 12.14it/s, now=None]"
     ]
    },
    {
     "name": "stdout",
     "output_type": "stream",
     "text": [
      "Current frame:  894\n",
      "Normal Mode\n",
      "Current frame:  895\n",
      "Normal Mode\n",
      "Current frame:  896\n"
     ]
    },
    {
     "name": "stderr",
     "output_type": "stream",
     "text": [
      "\r",
      "t:  71%|██████████████████████████████████████████████▉                   | 897/1260 [01:14<00:30, 12.03it/s, now=None]"
     ]
    },
    {
     "name": "stdout",
     "output_type": "stream",
     "text": [
      "Normal Mode\n",
      "Current frame:  897\n",
      "Normal Mode\n",
      "Current frame:  898\n",
      "Normal Mode\n",
      "Current frame: "
     ]
    },
    {
     "name": "stderr",
     "output_type": "stream",
     "text": [
      "\r",
      "t:  71%|███████████████████████████████████████████████                   | 899/1260 [01:14<00:29, 12.05it/s, now=None]"
     ]
    },
    {
     "name": "stdout",
     "output_type": "stream",
     "text": [
      " 899\n",
      "Normal Mode\n",
      "Current frame:  900\n",
      "Normal Mode\n",
      "Current frame:  901\n"
     ]
    },
    {
     "name": "stderr",
     "output_type": "stream",
     "text": [
      "\r",
      "t:  72%|███████████████████████████████████████████████▏                  | 901/1260 [01:14<00:30, 11.82it/s, now=None]"
     ]
    },
    {
     "name": "stdout",
     "output_type": "stream",
     "text": [
      "Normal Mode\n",
      "Current frame:  902\n",
      "Normal Mode\n",
      "Current frame:  903\n",
      "Normal Mode\n"
     ]
    },
    {
     "name": "stderr",
     "output_type": "stream",
     "text": [
      "t:  72%|███████████████████████████████████████████████▍                  | 905/1260 [01:14<00:30, 11.75it/s, now=None]"
     ]
    },
    {
     "name": "stdout",
     "output_type": "stream",
     "text": [
      "Current frame:  904\n",
      "Normal Mode\n",
      "Current frame:  905\n",
      "Normal Mode\n",
      "Current frame:  906\n"
     ]
    },
    {
     "name": "stderr",
     "output_type": "stream",
     "text": [
      "\r",
      "t:  72%|███████████████████████████████████████████████▌                  | 907/1260 [01:14<00:30, 11.72it/s, now=None]"
     ]
    },
    {
     "name": "stdout",
     "output_type": "stream",
     "text": [
      "Normal Mode\n",
      "Current frame:  907\n",
      "Normal Mode\n",
      "Current frame:  908\n",
      "Normal Mode\n"
     ]
    },
    {
     "name": "stderr",
     "output_type": "stream",
     "text": [
      "\r",
      "t:  72%|███████████████████████████████████████████████▌                  | 909/1260 [01:15<00:29, 12.06it/s, now=None]"
     ]
    },
    {
     "name": "stdout",
     "output_type": "stream",
     "text": [
      "Current frame:  909\n",
      "Normal Mode\n",
      "Current frame:  910\n",
      "Normal Mode\n",
      "Current frame:  911\n",
      "Normal Mode"
     ]
    },
    {
     "name": "stderr",
     "output_type": "stream",
     "text": [
      "\r",
      "t:  72%|███████████████████████████████████████████████▋                  | 911/1260 [01:15<00:28, 12.09it/s, now=None]"
     ]
    },
    {
     "name": "stdout",
     "output_type": "stream",
     "text": [
      "\n",
      "Current frame:  912\n",
      "Normal Mode\n",
      "Current frame:  913\n",
      "Normal Mode\n"
     ]
    },
    {
     "name": "stderr",
     "output_type": "stream",
     "text": [
      "t:  73%|███████████████████████████████████████████████▉                  | 915/1260 [01:15<00:29, 11.81it/s, now=None]"
     ]
    },
    {
     "name": "stdout",
     "output_type": "stream",
     "text": [
      "Current frame:  914\n",
      "Normal Mode\n",
      "Current frame:  915\n",
      "Normal Mode\n",
      "Current frame:  916\n"
     ]
    },
    {
     "name": "stderr",
     "output_type": "stream",
     "text": [
      "\r",
      "t:  73%|████████████████████████████████████████████████                  | 917/1260 [01:15<00:29, 11.83it/s, now=None]"
     ]
    },
    {
     "name": "stdout",
     "output_type": "stream",
     "text": [
      "Normal Mode\n",
      "Current frame:  917\n",
      "Normal Mode\n",
      "Current frame:  918\n",
      "Normal Mode\n",
      "Current frame: "
     ]
    },
    {
     "name": "stderr",
     "output_type": "stream",
     "text": [
      "\r",
      "t:  73%|████████████████████████████████████████████████▏                 | 919/1260 [01:15<00:28, 12.03it/s, now=None]"
     ]
    },
    {
     "name": "stdout",
     "output_type": "stream",
     "text": [
      " 919\n",
      "Normal Mode\n",
      "Current frame:  920\n",
      "Normal Mode\n",
      "Current frame:  921\n",
      "Normal Mode"
     ]
    },
    {
     "name": "stderr",
     "output_type": "stream",
     "text": [
      "\r",
      "t:  73%|████████████████████████████████████████████████▏                 | 921/1260 [01:16<00:27, 12.18it/s, now=None]"
     ]
    },
    {
     "name": "stdout",
     "output_type": "stream",
     "text": [
      "\n",
      "Current frame:  922\n",
      "Normal Mode\n",
      "Current frame:  923\n",
      "Normal Mode\n"
     ]
    },
    {
     "name": "stderr",
     "output_type": "stream",
     "text": [
      "t:  73%|████████████████████████████████████████████████▍                 | 925/1260 [01:16<00:27, 12.31it/s, now=None]"
     ]
    },
    {
     "name": "stdout",
     "output_type": "stream",
     "text": [
      "Current frame:  924\n",
      "Normal Mode\n",
      "Current frame:  925\n",
      "Normal Mode\n",
      "Current frame:  926\n"
     ]
    },
    {
     "name": "stderr",
     "output_type": "stream",
     "text": [
      "\r",
      "t:  74%|████████████████████████████████████████████████▌                 | 927/1260 [01:16<00:27, 12.26it/s, now=None]"
     ]
    },
    {
     "name": "stdout",
     "output_type": "stream",
     "text": [
      "Normal Mode\n",
      "Current frame:  927\n",
      "Normal Mode\n",
      "Current frame:  928\n",
      "Normal Mode\n",
      "Current frame:  929\n"
     ]
    },
    {
     "name": "stderr",
     "output_type": "stream",
     "text": [
      "\r",
      "t:  74%|████████████████████████████████████████████████▋                 | 929/1260 [01:16<00:26, 12.37it/s, now=None]"
     ]
    },
    {
     "name": "stdout",
     "output_type": "stream",
     "text": [
      "Normal Mode\n",
      "Current frame:  930\n",
      "Normal Mode\n",
      "Current frame:  931\n",
      "Normal Mode\n"
     ]
    },
    {
     "name": "stderr",
     "output_type": "stream",
     "text": [
      "t:  74%|████████████████████████████████████████████████▊                 | 933/1260 [01:17<00:26, 12.17it/s, now=None]"
     ]
    },
    {
     "name": "stdout",
     "output_type": "stream",
     "text": [
      "Current frame:  932\n",
      "Normal Mode\n",
      "Current frame:  933\n",
      "Normal Mode\n",
      "Current frame:  934\n"
     ]
    },
    {
     "name": "stderr",
     "output_type": "stream",
     "text": [
      "\r",
      "t:  74%|████████████████████████████████████████████████▉                 | 935/1260 [01:17<00:27, 11.80it/s, now=None]"
     ]
    },
    {
     "name": "stdout",
     "output_type": "stream",
     "text": [
      "Normal Mode\n",
      "Current frame:  935\n",
      "Normal Mode\n",
      "Current frame:  936\n",
      "Normal Mode\n",
      "Current frame: "
     ]
    },
    {
     "name": "stderr",
     "output_type": "stream",
     "text": [
      "\r",
      "t:  74%|█████████████████████████████████████████████████                 | 937/1260 [01:17<00:27, 11.82it/s, now=None]"
     ]
    },
    {
     "name": "stdout",
     "output_type": "stream",
     "text": [
      " 937\n",
      "Normal Mode\n",
      "Current frame:  938\n",
      "Normal Mode\n",
      "Current frame:  939\n",
      "Normal Mode"
     ]
    },
    {
     "name": "stderr",
     "output_type": "stream",
     "text": [
      "\r",
      "t:  75%|█████████████████████████████████████████████████▏                | 939/1260 [01:17<00:27, 11.79it/s, now=None]"
     ]
    },
    {
     "name": "stdout",
     "output_type": "stream",
     "text": [
      "\n",
      "Current frame:  940\n",
      "Normal Mode\n",
      "Current frame:  941\n",
      "Normal Mode\n"
     ]
    },
    {
     "name": "stderr",
     "output_type": "stream",
     "text": [
      "t:  75%|█████████████████████████████████████████████████▍                | 943/1260 [01:17<00:26, 11.93it/s, now=None]"
     ]
    },
    {
     "name": "stdout",
     "output_type": "stream",
     "text": [
      "Current frame:  942\n",
      "Normal Mode\n",
      "Current frame:  943\n",
      "Normal Mode\n",
      "Current frame:  944\n"
     ]
    },
    {
     "name": "stderr",
     "output_type": "stream",
     "text": [
      "\r",
      "t:  75%|█████████████████████████████████████████████████▌                | 945/1260 [01:18<00:26, 12.09it/s, now=None]"
     ]
    },
    {
     "name": "stdout",
     "output_type": "stream",
     "text": [
      "Normal Mode\n",
      "Current frame:  945\n",
      "Normal Mode\n",
      "Current frame:  946\n",
      "Normal Mode\n"
     ]
    },
    {
     "name": "stderr",
     "output_type": "stream",
     "text": [
      "\r",
      "t:  75%|█████████████████████████████████████████████████▌                | 947/1260 [01:18<00:25, 12.04it/s, now=None]"
     ]
    },
    {
     "name": "stdout",
     "output_type": "stream",
     "text": [
      "Current frame:  947\n",
      "Normal Mode\n",
      "Current frame:  948\n",
      "Normal Mode\n",
      "Current frame:  949\n"
     ]
    },
    {
     "name": "stderr",
     "output_type": "stream",
     "text": [
      "\r",
      "t:  75%|█████████████████████████████████████████████████▋                | 949/1260 [01:18<00:25, 12.01it/s, now=None]"
     ]
    },
    {
     "name": "stdout",
     "output_type": "stream",
     "text": [
      "Normal Mode\n",
      "Current frame:  950\n",
      "Normal Mode\n",
      "Current frame:  951\n",
      "Normal Mode\n"
     ]
    },
    {
     "name": "stderr",
     "output_type": "stream",
     "text": [
      "t:  76%|█████████████████████████████████████████████████▉                | 953/1260 [01:18<00:25, 11.95it/s, now=None]"
     ]
    },
    {
     "name": "stdout",
     "output_type": "stream",
     "text": [
      "Current frame:  952\n",
      "Normal Mode\n",
      "Current frame:  953\n",
      "Normal Mode\n",
      "Current frame:  954\n"
     ]
    },
    {
     "name": "stderr",
     "output_type": "stream",
     "text": [
      "\r",
      "t:  76%|██████████████████████████████████████████████████                | 955/1260 [01:18<00:25, 12.01it/s, now=None]"
     ]
    },
    {
     "name": "stdout",
     "output_type": "stream",
     "text": [
      "Normal Mode\n",
      "Current frame:  955\n",
      "Normal Mode\n",
      "Current frame:  956\n",
      "Normal Mode\n",
      "Current frame: "
     ]
    },
    {
     "name": "stderr",
     "output_type": "stream",
     "text": [
      "\r",
      "t:  76%|██████████████████████████████████████████████████▏               | 957/1260 [01:19<00:25, 11.95it/s, now=None]"
     ]
    },
    {
     "name": "stdout",
     "output_type": "stream",
     "text": [
      " 957\n",
      "Normal Mode\n",
      "Current frame:  958\n",
      "Normal Mode\n",
      "Current frame:  959\n"
     ]
    },
    {
     "name": "stderr",
     "output_type": "stream",
     "text": [
      "t:  76%|██████████████████████████████████████████████████▎               | 961/1260 [01:19<00:25, 11.85it/s, now=None]"
     ]
    },
    {
     "name": "stdout",
     "output_type": "stream",
     "text": [
      "Normal Mode\n",
      "Current frame:  960\n",
      "Normal Mode\n",
      "Current frame:  961\n",
      "Normal Mode\n"
     ]
    },
    {
     "name": "stderr",
     "output_type": "stream",
     "text": [
      "\r",
      "t:  76%|██████████████████████████████████████████████████▍               | 963/1260 [01:19<00:25, 11.85it/s, now=None]"
     ]
    },
    {
     "name": "stdout",
     "output_type": "stream",
     "text": [
      "Current frame:  962\n",
      "Normal Mode\n",
      "Current frame:  963\n",
      "Normal Mode\n",
      "Current frame:  964\n"
     ]
    },
    {
     "name": "stderr",
     "output_type": "stream",
     "text": [
      "\r",
      "t:  77%|██████████████████████████████████████████████████▌               | 965/1260 [01:19<00:24, 11.94it/s, now=None]"
     ]
    },
    {
     "name": "stdout",
     "output_type": "stream",
     "text": [
      "Normal Mode\n",
      "Current frame:  965\n",
      "Normal Mode\n",
      "Current frame:  966\n",
      "Normal Mode\n"
     ]
    },
    {
     "name": "stderr",
     "output_type": "stream",
     "text": [
      "\r",
      "t:  77%|██████████████████████████████████████████████████▋               | 967/1260 [01:19<00:24, 11.85it/s, now=None]"
     ]
    },
    {
     "name": "stdout",
     "output_type": "stream",
     "text": [
      "Current frame:  967\n",
      "Normal Mode\n",
      "Current frame:  968\n",
      "Normal Mode\n",
      "Current frame:  969\n"
     ]
    },
    {
     "name": "stderr",
     "output_type": "stream",
     "text": [
      "\r",
      "t:  77%|██████████████████████████████████████████████████▊               | 969/1260 [01:20<00:24, 11.92it/s, now=None]"
     ]
    },
    {
     "name": "stdout",
     "output_type": "stream",
     "text": [
      "Normal Mode\n",
      "Current frame:  970\n",
      "Normal Mode\n",
      "Current frame:  971\n",
      "Normal Mode\n"
     ]
    },
    {
     "name": "stderr",
     "output_type": "stream",
     "text": [
      "t:  77%|██████████████████████████████████████████████████▉               | 973/1260 [01:20<00:24, 11.69it/s, now=None]"
     ]
    },
    {
     "name": "stdout",
     "output_type": "stream",
     "text": [
      "Current frame:  972\n",
      "Normal Mode\n",
      "Current frame:  973\n",
      "Normal Mode\n",
      "Current frame:  974\n"
     ]
    },
    {
     "name": "stderr",
     "output_type": "stream",
     "text": [
      "\r",
      "t:  77%|███████████████████████████████████████████████████               | 975/1260 [01:20<00:23, 11.89it/s, now=None]"
     ]
    },
    {
     "name": "stdout",
     "output_type": "stream",
     "text": [
      "Normal Mode\n",
      "Current frame:  975\n",
      "Normal Mode\n",
      "Current frame:  976\n",
      "Normal Mode\n"
     ]
    },
    {
     "name": "stderr",
     "output_type": "stream",
     "text": [
      "\r",
      "t:  78%|███████████████████████████████████████████████████▏              | 977/1260 [01:20<00:24, 11.70it/s, now=None]"
     ]
    },
    {
     "name": "stdout",
     "output_type": "stream",
     "text": [
      "Current frame:  977\n",
      "Normal Mode\n",
      "Current frame:  978\n",
      "Normal Mode\n",
      "Current frame:  979\n"
     ]
    },
    {
     "name": "stderr",
     "output_type": "stream",
     "text": [
      "t:  78%|███████████████████████████████████████████████████▍              | 981/1260 [01:21<00:23, 11.80it/s, now=None]"
     ]
    },
    {
     "name": "stdout",
     "output_type": "stream",
     "text": [
      "Normal Mode\n",
      "Current frame:  980\n",
      "Normal Mode\n",
      "Current frame:  981\n",
      "Normal Mode\n"
     ]
    },
    {
     "name": "stderr",
     "output_type": "stream",
     "text": [
      "\r",
      "t:  78%|███████████████████████████████████████████████████▍              | 983/1260 [01:21<00:23, 11.95it/s, now=None]"
     ]
    },
    {
     "name": "stdout",
     "output_type": "stream",
     "text": [
      "Current frame:  982\n",
      "Normal Mode\n",
      "Current frame:  983\n",
      "Normal Mode\n",
      "Current frame:  984\n"
     ]
    },
    {
     "name": "stderr",
     "output_type": "stream",
     "text": [
      "\r",
      "t:  78%|███████████████████████████████████████████████████▌              | 985/1260 [01:21<00:22, 12.16it/s, now=None]"
     ]
    },
    {
     "name": "stdout",
     "output_type": "stream",
     "text": [
      "Normal Mode\n",
      "Current frame:  985\n",
      "Normal Mode\n",
      "Current frame:  986\n",
      "Normal Mode\n",
      "Current frame: "
     ]
    },
    {
     "name": "stderr",
     "output_type": "stream",
     "text": [
      "\r",
      "t:  78%|███████████████████████████████████████████████████▋              | 987/1260 [01:21<00:22, 12.32it/s, now=None]"
     ]
    },
    {
     "name": "stdout",
     "output_type": "stream",
     "text": [
      " 987\n",
      "Normal Mode\n",
      "Current frame:  988\n",
      "Normal Mode\n",
      "Current frame:  989\n",
      "Normal Mode"
     ]
    },
    {
     "name": "stderr",
     "output_type": "stream",
     "text": [
      "\r",
      "t:  78%|███████████████████████████████████████████████████▊              | 989/1260 [01:21<00:21, 12.36it/s, now=None]"
     ]
    },
    {
     "name": "stdout",
     "output_type": "stream",
     "text": [
      "\n",
      "Current frame:  990\n",
      "Normal Mode\n",
      "Current frame:  991\n",
      "Normal Mode\n"
     ]
    },
    {
     "name": "stderr",
     "output_type": "stream",
     "text": [
      "t:  79%|████████████████████████████████████████████████████              | 993/1260 [01:22<00:21, 12.15it/s, now=None]"
     ]
    },
    {
     "name": "stdout",
     "output_type": "stream",
     "text": [
      "Current frame:  992\n",
      "Normal Mode\n",
      "Current frame:  993\n",
      "Normal Mode\n",
      "Current frame:  994\n"
     ]
    },
    {
     "name": "stderr",
     "output_type": "stream",
     "text": [
      "\r",
      "t:  79%|████████████████████████████████████████████████████              | 995/1260 [01:22<00:21, 12.15it/s, now=None]"
     ]
    },
    {
     "name": "stdout",
     "output_type": "stream",
     "text": [
      "Normal Mode\n",
      "Current frame:  995\n",
      "Normal Mode\n",
      "Current frame:  996\n",
      "Normal Mode\n"
     ]
    },
    {
     "name": "stderr",
     "output_type": "stream",
     "text": [
      "\r",
      "t:  79%|████████████████████████████████████████████████████▏             | 997/1260 [01:22<00:21, 12.15it/s, now=None]"
     ]
    },
    {
     "name": "stdout",
     "output_type": "stream",
     "text": [
      "Current frame:  997\n",
      "Normal Mode\n",
      "Current frame:  998\n",
      "Normal Mode\n",
      "Current frame:  999\n"
     ]
    },
    {
     "name": "stderr",
     "output_type": "stream",
     "text": [
      "t:  79%|███████████████████████████████████████████████████▋             | 1001/1260 [01:22<00:21, 11.95it/s, now=None]"
     ]
    },
    {
     "name": "stdout",
     "output_type": "stream",
     "text": [
      "Normal Mode\n",
      "Current frame:  1000\n",
      "Normal Mode\n",
      "Current frame:  1001\n",
      "Normal Mode\n"
     ]
    },
    {
     "name": "stderr",
     "output_type": "stream",
     "text": [
      "\r",
      "t:  80%|███████████████████████████████████████████████████▋             | 1003/1260 [01:22<00:21, 12.14it/s, now=None]"
     ]
    },
    {
     "name": "stdout",
     "output_type": "stream",
     "text": [
      "Current frame:  1002\n",
      "Normal Mode\n",
      "Current frame:  1003\n",
      "Normal Mode\n",
      "Current frame:  1004\n"
     ]
    },
    {
     "name": "stderr",
     "output_type": "stream",
     "text": [
      "\r",
      "t:  80%|███████████████████████████████████████████████████▊             | 1005/1260 [01:23<00:21, 12.12it/s, now=None]"
     ]
    },
    {
     "name": "stdout",
     "output_type": "stream",
     "text": [
      "Normal Mode\n",
      "Current frame:  1005\n",
      "Normal Mode\n",
      "Current frame:  1006\n",
      "Normal Mode\n",
      "Current frame: "
     ]
    },
    {
     "name": "stderr",
     "output_type": "stream",
     "text": [
      "\r",
      "t:  80%|███████████████████████████████████████████████████▉             | 1007/1260 [01:23<00:20, 12.29it/s, now=None]"
     ]
    },
    {
     "name": "stdout",
     "output_type": "stream",
     "text": [
      " 1007\n",
      "Normal Mode\n",
      "Current frame:  1008\n",
      "Normal Mode\n",
      "Current frame:  1009\n"
     ]
    },
    {
     "name": "stderr",
     "output_type": "stream",
     "text": [
      "t:  80%|████████████████████████████████████████████████████▏            | 1011/1260 [01:23<00:19, 12.46it/s, now=None]"
     ]
    },
    {
     "name": "stdout",
     "output_type": "stream",
     "text": [
      "Normal Mode\n",
      "Current frame:  1010\n",
      "Normal Mode\n",
      "Current frame:  1011\n",
      "Normal Mode\n",
      "Current frame: "
     ]
    },
    {
     "name": "stderr",
     "output_type": "stream",
     "text": [
      "\r",
      "t:  80%|████████████████████████████████████████████████████▎            | 1013/1260 [01:23<00:19, 12.36it/s, now=None]"
     ]
    },
    {
     "name": "stdout",
     "output_type": "stream",
     "text": [
      " 1012\n",
      "Normal Mode\n",
      "Current frame:  1013\n",
      "Normal Mode\n",
      "Current frame:  1014\n"
     ]
    },
    {
     "name": "stderr",
     "output_type": "stream",
     "text": [
      "\r",
      "t:  81%|████████████████████████████████████████████████████▎            | 1015/1260 [01:23<00:19, 12.41it/s, now=None]"
     ]
    },
    {
     "name": "stdout",
     "output_type": "stream",
     "text": [
      "Normal Mode\n",
      "Current frame:  1015\n",
      "Normal Mode\n",
      "Current frame:  1016\n",
      "Normal Mode\n",
      "Current frame: "
     ]
    },
    {
     "name": "stderr",
     "output_type": "stream",
     "text": [
      "\r",
      "t:  81%|████████████████████████████████████████████████████▍            | 1017/1260 [01:24<00:19, 12.57it/s, now=None]"
     ]
    },
    {
     "name": "stdout",
     "output_type": "stream",
     "text": [
      " 1017\n",
      "Normal Mode\n",
      "Current frame:  1018\n",
      "Normal Mode\n",
      "Current frame:  1019\n",
      "Normal Mode"
     ]
    },
    {
     "name": "stderr",
     "output_type": "stream",
     "text": [
      "\r",
      "t:  81%|████████████████████████████████████████████████████▌            | 1019/1260 [01:24<00:19, 12.65it/s, now=None]"
     ]
    },
    {
     "name": "stdout",
     "output_type": "stream",
     "text": [
      "\n",
      "Current frame:  1020\n",
      "Normal Mode\n",
      "Current frame:  1021\n",
      "Normal Mode\n"
     ]
    },
    {
     "name": "stderr",
     "output_type": "stream",
     "text": [
      "t:  81%|████████████████████████████████████████████████████▊            | 1023/1260 [01:24<00:19, 12.23it/s, now=None]"
     ]
    },
    {
     "name": "stdout",
     "output_type": "stream",
     "text": [
      "Current frame:  1022\n",
      "Normal Mode\n",
      "Current frame:  1023\n",
      "Normal Mode\n",
      "Current frame:  1024\n"
     ]
    },
    {
     "name": "stderr",
     "output_type": "stream",
     "text": [
      "\r",
      "t:  81%|████████████████████████████████████████████████████▉            | 1025/1260 [01:24<00:19, 12.01it/s, now=None]"
     ]
    },
    {
     "name": "stdout",
     "output_type": "stream",
     "text": [
      "Normal Mode\n",
      "Current frame:  1025\n",
      "Normal Mode\n",
      "Current frame:  1026\n",
      "Normal Mode\n",
      "Current frame:  1027\n"
     ]
    },
    {
     "name": "stderr",
     "output_type": "stream",
     "text": [
      "\r",
      "t:  82%|████████████████████████████████████████████████████▉            | 1027/1260 [01:24<00:19, 11.90it/s, now=None]"
     ]
    },
    {
     "name": "stdout",
     "output_type": "stream",
     "text": [
      "Normal Mode\n",
      "Current frame:  1028\n",
      "Normal Mode\n",
      "Current frame:  1029\n",
      "Normal Mode"
     ]
    },
    {
     "name": "stderr",
     "output_type": "stream",
     "text": [
      "\r",
      "t:  82%|█████████████████████████████████████████████████████            | 1029/1260 [01:25<00:19, 11.62it/s, now=None]"
     ]
    },
    {
     "name": "stdout",
     "output_type": "stream",
     "text": [
      "\n",
      "Current frame:  1030\n",
      "Init Mode\n",
      "Current frame:  1031\n",
      "Init Mode\n"
     ]
    },
    {
     "name": "stderr",
     "output_type": "stream",
     "text": [
      "t:  82%|█████████████████████████████████████████████████████▎           | 1033/1260 [01:25<00:19, 11.82it/s, now=None]"
     ]
    },
    {
     "name": "stdout",
     "output_type": "stream",
     "text": [
      "Current frame:  1032\n",
      "Init Mode\n",
      "Current frame:  1033\n",
      "Init Mode\n",
      "Current frame:  1034\n"
     ]
    },
    {
     "name": "stderr",
     "output_type": "stream",
     "text": [
      "\r",
      "t:  82%|█████████████████████████████████████████████████████▍           | 1035/1260 [01:25<00:19, 11.49it/s, now=None]"
     ]
    },
    {
     "name": "stdout",
     "output_type": "stream",
     "text": [
      "Normal Mode\n",
      "Current frame:  1035\n",
      "Normal Mode\n",
      "Current frame:  1036\n",
      "Normal Mode"
     ]
    },
    {
     "name": "stderr",
     "output_type": "stream",
     "text": [
      "\r",
      "t:  82%|█████████████████████████████████████████████████████▍           | 1037/1260 [01:25<00:19, 11.19it/s, now=None]"
     ]
    },
    {
     "name": "stdout",
     "output_type": "stream",
     "text": [
      "\n",
      "Current frame:  1037\n",
      "Normal Mode\n",
      "Current frame:  1038\n",
      "Normal Mode"
     ]
    },
    {
     "name": "stderr",
     "output_type": "stream",
     "text": [
      "\r",
      "t:  82%|█████████████████████████████████████████████████████▌           | 1039/1260 [01:25<00:20, 10.94it/s, now=None]"
     ]
    },
    {
     "name": "stdout",
     "output_type": "stream",
     "text": [
      "\n",
      "Current frame:  1039\n",
      "Normal Mode\n",
      "Current frame:  1040\n",
      "Normal Mode"
     ]
    },
    {
     "name": "stderr",
     "output_type": "stream",
     "text": [
      "\r",
      "t:  83%|█████████████████████████████████████████████████████▋           | 1041/1260 [01:26<00:20, 10.65it/s, now=None]"
     ]
    },
    {
     "name": "stdout",
     "output_type": "stream",
     "text": [
      "\n",
      "Current frame:  1041\n",
      "Normal Mode\n",
      "Current frame:  1042\n"
     ]
    },
    {
     "name": "stderr",
     "output_type": "stream",
     "text": [
      "\r",
      "t:  83%|█████████████████████████████████████████████████████▊           | 1043/1260 [01:26<00:21,  9.98it/s, now=None]"
     ]
    },
    {
     "name": "stdout",
     "output_type": "stream",
     "text": [
      "Normal Mode\n",
      "Current frame:  1043\n",
      "Normal Mode\n",
      "Current frame:  1044\n",
      "Normal Mode\n",
      "Current frame:  1045\n",
      "Normal Mode\n"
     ]
    },
    {
     "name": "stderr",
     "output_type": "stream",
     "text": [
      "t:  83%|█████████████████████████████████████████████████████▉           | 1046/1260 [01:26<00:23,  9.21it/s, now=None]"
     ]
    },
    {
     "name": "stdout",
     "output_type": "stream",
     "text": [
      "Current frame:  1046\n",
      "Normal Mode\n",
      "Current frame:  1047\n",
      "Normal Mode"
     ]
    },
    {
     "name": "stderr",
     "output_type": "stream",
     "text": [
      "t:  83%|██████████████████████████████████████████████████████           | 1048/1260 [01:27<00:24,  8.73it/s, now=None]"
     ]
    },
    {
     "name": "stdout",
     "output_type": "stream",
     "text": [
      "\n",
      "Current frame:  1048\n",
      "Normal Mode\n",
      "Current frame:  1049\n"
     ]
    },
    {
     "name": "stderr",
     "output_type": "stream",
     "text": [
      "t:  83%|██████████████████████████████████████████████████████▏          | 1050/1260 [01:27<00:23,  9.10it/s, now=None]"
     ]
    },
    {
     "name": "stdout",
     "output_type": "stream",
     "text": [
      "Normal Mode\n",
      "Current frame:  1050\n",
      "Normal Mode\n",
      "Current frame:  1051\n",
      "Normal Mode"
     ]
    },
    {
     "name": "stderr",
     "output_type": "stream",
     "text": [
      "\r",
      "t:  83%|██████████████████████████████████████████████████████▏          | 1051/1260 [01:27<00:22,  9.28it/s, now=None]"
     ]
    },
    {
     "name": "stdout",
     "output_type": "stream",
     "text": [
      "\n",
      "Current frame:  1052\n",
      "Normal Mode\n",
      "Current frame:  1053\n",
      "Normal Mode"
     ]
    },
    {
     "name": "stderr",
     "output_type": "stream",
     "text": [
      "\r",
      "t:  84%|██████████████████████████████████████████████████████▎          | 1053/1260 [01:27<00:21,  9.64it/s, now=None]"
     ]
    },
    {
     "name": "stdout",
     "output_type": "stream",
     "text": [
      "\n",
      "Current frame:  1054\n",
      "Normal Mode\n",
      "Current frame:  1055\n",
      "Normal Mode"
     ]
    },
    {
     "name": "stderr",
     "output_type": "stream",
     "text": [
      "\r",
      "t:  84%|██████████████████████████████████████████████████████▍          | 1055/1260 [01:27<00:20,  9.91it/s, now=None]"
     ]
    },
    {
     "name": "stdout",
     "output_type": "stream",
     "text": [
      "\n",
      "Current frame:  1056\n",
      "Normal Mode\n",
      "Current frame:  1057\n",
      "Normal Mode"
     ]
    },
    {
     "name": "stderr",
     "output_type": "stream",
     "text": [
      "\r",
      "t:  84%|██████████████████████████████████████████████████████▌          | 1057/1260 [01:27<00:20, 10.02it/s, now=None]"
     ]
    },
    {
     "name": "stdout",
     "output_type": "stream",
     "text": [
      "\n",
      "Current frame:  1058\n",
      "Normal Mode\n",
      "Current frame:  1059\n",
      "Normal Mode"
     ]
    },
    {
     "name": "stderr",
     "output_type": "stream",
     "text": [
      "\r",
      "t:  84%|██████████████████████████████████████████████████████▋          | 1059/1260 [01:28<00:19, 10.21it/s, now=None]"
     ]
    },
    {
     "name": "stdout",
     "output_type": "stream",
     "text": [
      "\n",
      "Current frame:  1060\n",
      "Normal Mode\n",
      "Current frame:  1061\n",
      "Normal Mode"
     ]
    },
    {
     "name": "stderr",
     "output_type": "stream",
     "text": [
      "\r",
      "t:  84%|██████████████████████████████████████████████████████▋          | 1061/1260 [01:28<00:19, 10.45it/s, now=None]"
     ]
    },
    {
     "name": "stdout",
     "output_type": "stream",
     "text": [
      "\n",
      "Current frame:  1062\n",
      "Normal Mode\n",
      "Current frame:  1063\n",
      "Normal Mode"
     ]
    },
    {
     "name": "stderr",
     "output_type": "stream",
     "text": [
      "\r",
      "t:  84%|██████████████████████████████████████████████████████▊          | 1063/1260 [01:28<00:18, 10.68it/s, now=None]"
     ]
    },
    {
     "name": "stdout",
     "output_type": "stream",
     "text": [
      "\n",
      "Current frame:  1064\n",
      "Normal Mode\n",
      "Current frame:  1065\n",
      "Normal Mode\n"
     ]
    },
    {
     "name": "stderr",
     "output_type": "stream",
     "text": [
      "t:  85%|███████████████████████████████████████████████████████          | 1067/1260 [01:28<00:17, 11.15it/s, now=None]"
     ]
    },
    {
     "name": "stdout",
     "output_type": "stream",
     "text": [
      "Current frame:  1066\n",
      "Normal Mode\n",
      "Current frame:  1067\n",
      "Normal Mode\n",
      "Current frame:  1068\n"
     ]
    },
    {
     "name": "stderr",
     "output_type": "stream",
     "text": [
      "\r",
      "t:  85%|███████████████████████████████████████████████████████▏         | 1069/1260 [01:28<00:17, 11.22it/s, now=None]"
     ]
    },
    {
     "name": "stdout",
     "output_type": "stream",
     "text": [
      "Normal Mode\n",
      "Current frame:  1069\n",
      "Normal Mode\n",
      "Current frame:  1070\n",
      "Normal Mode\n"
     ]
    },
    {
     "name": "stderr",
     "output_type": "stream",
     "text": [
      "\r",
      "t:  85%|███████████████████████████████████████████████████████▎         | 1071/1260 [01:29<00:16, 11.39it/s, now=None]"
     ]
    },
    {
     "name": "stdout",
     "output_type": "stream",
     "text": [
      "Current frame:  1071\n",
      "Normal Mode\n",
      "Current frame:  1072\n",
      "Normal Mode\n",
      "Current frame:  1073\n",
      "Normal Mode"
     ]
    },
    {
     "name": "stderr",
     "output_type": "stream",
     "text": [
      "\r",
      "t:  85%|███████████████████████████████████████████████████████▎         | 1073/1260 [01:29<00:16, 11.45it/s, now=None]"
     ]
    },
    {
     "name": "stdout",
     "output_type": "stream",
     "text": [
      "\n",
      "Current frame:  1074\n",
      "Normal Mode\n",
      "Current frame:  1075\n",
      "Normal Mode"
     ]
    },
    {
     "name": "stderr",
     "output_type": "stream",
     "text": [
      "\r",
      "t:  85%|███████████████████████████████████████████████████████▍         | 1075/1260 [01:29<00:16, 11.37it/s, now=None]"
     ]
    },
    {
     "name": "stdout",
     "output_type": "stream",
     "text": [
      "\n",
      "Current frame:  1076\n",
      "Normal Mode\n",
      "Current frame:  1077\n",
      "Normal Mode"
     ]
    },
    {
     "name": "stderr",
     "output_type": "stream",
     "text": [
      "\r",
      "t:  85%|███████████████████████████████████████████████████████▌         | 1077/1260 [01:29<00:16, 11.26it/s, now=None]"
     ]
    },
    {
     "name": "stdout",
     "output_type": "stream",
     "text": [
      "\n",
      "Current frame:  1078\n",
      "Normal Mode\n",
      "Current frame:  1079\n",
      "Normal Mode\n"
     ]
    },
    {
     "name": "stderr",
     "output_type": "stream",
     "text": [
      "t:  86%|███████████████████████████████████████████████████████▊         | 1081/1260 [01:30<00:16, 11.13it/s, now=None]"
     ]
    },
    {
     "name": "stdout",
     "output_type": "stream",
     "text": [
      "Current frame:  1080\n",
      "Normal Mode\n",
      "Current frame:  1081\n",
      "Normal Mode\n"
     ]
    },
    {
     "name": "stderr",
     "output_type": "stream",
     "text": [
      "\r",
      "t:  86%|███████████████████████████████████████████████████████▊         | 1083/1260 [01:30<00:15, 11.30it/s, now=None]"
     ]
    },
    {
     "name": "stdout",
     "output_type": "stream",
     "text": [
      "Current frame:  1082\n",
      "Init Mode\n",
      "Current frame:  1083\n",
      "Init Mode\n",
      "Current frame:  1084\n"
     ]
    },
    {
     "name": "stderr",
     "output_type": "stream",
     "text": [
      "\r",
      "t:  86%|███████████████████████████████████████████████████████▉         | 1085/1260 [01:30<00:15, 11.39it/s, now=None]"
     ]
    },
    {
     "name": "stdout",
     "output_type": "stream",
     "text": [
      "Init Mode\n",
      "Current frame:  1085\n",
      "Normal Mode\n",
      "Current frame:  1086\n",
      "Normal Mode"
     ]
    },
    {
     "name": "stderr",
     "output_type": "stream",
     "text": [
      "\r",
      "t:  86%|████████████████████████████████████████████████████████         | 1087/1260 [01:30<00:15, 11.31it/s, now=None]"
     ]
    },
    {
     "name": "stdout",
     "output_type": "stream",
     "text": [
      "\n",
      "Current frame:  1087\n",
      "Normal Mode\n",
      "Current frame:  1088\n",
      "Normal Mode\n",
      "Current frame: "
     ]
    },
    {
     "name": "stderr",
     "output_type": "stream",
     "text": [
      "\r",
      "t:  86%|████████████████████████████████████████████████████████▏        | 1089/1260 [01:30<00:14, 11.49it/s, now=None]"
     ]
    },
    {
     "name": "stdout",
     "output_type": "stream",
     "text": [
      " 1089\n",
      "Normal Mode\n",
      "Current frame:  1090\n",
      "Normal Mode\n",
      "Current frame:  1091\n"
     ]
    },
    {
     "name": "stderr",
     "output_type": "stream",
     "text": [
      "\r",
      "t:  87%|████████████████████████████████████████████████████████▎        | 1091/1260 [01:30<00:14, 11.60it/s, now=None]"
     ]
    },
    {
     "name": "stdout",
     "output_type": "stream",
     "text": [
      "Normal Mode\n",
      "Current frame:  1092\n",
      "Normal Mode\n",
      "Current frame:  1093\n",
      "Normal Mode\n"
     ]
    },
    {
     "name": "stderr",
     "output_type": "stream",
     "text": [
      "t:  87%|████████████████████████████████████████████████████████▍        | 1095/1260 [01:31<00:14, 11.44it/s, now=None]"
     ]
    },
    {
     "name": "stdout",
     "output_type": "stream",
     "text": [
      "Current frame:  1094\n",
      "Normal Mode\n",
      "Current frame:  1095\n",
      "Normal Mode\n",
      "Current frame:  1096\n"
     ]
    },
    {
     "name": "stderr",
     "output_type": "stream",
     "text": [
      "\r",
      "t:  87%|████████████████████████████████████████████████████████▌        | 1097/1260 [01:31<00:14, 11.45it/s, now=None]"
     ]
    },
    {
     "name": "stdout",
     "output_type": "stream",
     "text": [
      "Normal Mode\n",
      "Current frame:  1097\n",
      "Normal Mode\n",
      "Current frame:  1098\n",
      "Normal Mode\n",
      "Current frame: "
     ]
    },
    {
     "name": "stderr",
     "output_type": "stream",
     "text": [
      "\r",
      "t:  87%|████████████████████████████████████████████████████████▋        | 1099/1260 [01:31<00:14, 11.47it/s, now=None]"
     ]
    },
    {
     "name": "stdout",
     "output_type": "stream",
     "text": [
      " 1099\n",
      "Normal Mode\n",
      "Current frame:  1100\n",
      "Normal Mode\n",
      "Current frame:  1101\n"
     ]
    },
    {
     "name": "stderr",
     "output_type": "stream",
     "text": [
      "t:  88%|████████████████████████████████████████████████████████▉        | 1103/1260 [01:31<00:13, 11.28it/s, now=None]"
     ]
    },
    {
     "name": "stdout",
     "output_type": "stream",
     "text": [
      "Normal Mode\n",
      "Current frame:  1102\n",
      "Normal Mode\n",
      "Current frame:  1103\n",
      "Normal Mode\n"
     ]
    },
    {
     "name": "stderr",
     "output_type": "stream",
     "text": [
      "\r",
      "t:  88%|█████████████████████████████████████████████████████████        | 1105/1260 [01:32<00:13, 11.30it/s, now=None]"
     ]
    },
    {
     "name": "stdout",
     "output_type": "stream",
     "text": [
      "Current frame:  1104\n",
      "Normal Mode\n",
      "Current frame:  1105\n",
      "Normal Mode\n"
     ]
    },
    {
     "name": "stderr",
     "output_type": "stream",
     "text": [
      "\r",
      "t:  88%|█████████████████████████████████████████████████████████        | 1107/1260 [01:32<00:13, 11.46it/s, now=None]"
     ]
    },
    {
     "name": "stdout",
     "output_type": "stream",
     "text": [
      "Current frame:  1106\n",
      "Normal Mode\n",
      "Current frame:  1107\n",
      "Normal Mode\n",
      "Current frame:  1108\n"
     ]
    },
    {
     "name": "stderr",
     "output_type": "stream",
     "text": [
      "\r",
      "t:  88%|█████████████████████████████████████████████████████████▏       | 1109/1260 [01:32<00:12, 11.62it/s, now=None]"
     ]
    },
    {
     "name": "stdout",
     "output_type": "stream",
     "text": [
      "Normal Mode\n",
      "Current frame:  1109\n",
      "Normal Mode\n",
      "Current frame:  1110\n",
      "Normal Mode"
     ]
    },
    {
     "name": "stderr",
     "output_type": "stream",
     "text": [
      "\r",
      "t:  88%|█████████████████████████████████████████████████████████▎       | 1111/1260 [01:32<00:12, 11.53it/s, now=None]"
     ]
    },
    {
     "name": "stdout",
     "output_type": "stream",
     "text": [
      "\n",
      "Current frame:  1111\n",
      "Normal Mode\n",
      "Current frame:  1112\n",
      "Normal Mode\n",
      "Current frame: "
     ]
    },
    {
     "name": "stderr",
     "output_type": "stream",
     "text": [
      "\r",
      "t:  88%|█████████████████████████████████████████████████████████▍       | 1113/1260 [01:32<00:12, 11.47it/s, now=None]"
     ]
    },
    {
     "name": "stdout",
     "output_type": "stream",
     "text": [
      " 1113\n",
      "Normal Mode\n",
      "Current frame:  1114\n",
      "Normal Mode\n",
      "Current frame:  1115\n"
     ]
    },
    {
     "name": "stderr",
     "output_type": "stream",
     "text": [
      "\r",
      "t:  88%|█████████████████████████████████████████████████████████▌       | 1115/1260 [01:32<00:12, 11.43it/s, now=None]"
     ]
    },
    {
     "name": "stdout",
     "output_type": "stream",
     "text": [
      "Normal Mode\n",
      "Current frame:  1116\n",
      "Normal Mode\n",
      "Current frame:  1117\n",
      "Normal Mode\n"
     ]
    },
    {
     "name": "stderr",
     "output_type": "stream",
     "text": [
      "t:  89%|█████████████████████████████████████████████████████████▋       | 1119/1260 [01:33<00:12, 11.73it/s, now=None]"
     ]
    },
    {
     "name": "stdout",
     "output_type": "stream",
     "text": [
      "Current frame:  1118\n",
      "Normal Mode\n",
      "Current frame:  1119\n",
      "Normal Mode\n",
      "Current frame:  1120\n"
     ]
    },
    {
     "name": "stderr",
     "output_type": "stream",
     "text": [
      "\r",
      "t:  89%|█████████████████████████████████████████████████████████▊       | 1121/1260 [01:33<00:12, 11.45it/s, now=None]"
     ]
    },
    {
     "name": "stdout",
     "output_type": "stream",
     "text": [
      "Normal Mode\n",
      "Current frame:  1121\n",
      "Normal Mode\n",
      "Current frame:  1122\n",
      "Normal Mode"
     ]
    },
    {
     "name": "stderr",
     "output_type": "stream",
     "text": [
      "\r",
      "t:  89%|█████████████████████████████████████████████████████████▉       | 1123/1260 [01:33<00:12, 11.41it/s, now=None]"
     ]
    },
    {
     "name": "stdout",
     "output_type": "stream",
     "text": [
      "\n",
      "Current frame:  1123\n",
      "Normal Mode\n",
      "Current frame:  1124\n",
      "Normal Mode\n",
      "Current frame: "
     ]
    },
    {
     "name": "stderr",
     "output_type": "stream",
     "text": [
      "\r",
      "t:  89%|██████████████████████████████████████████████████████████       | 1125/1260 [01:33<00:11, 11.61it/s, now=None]"
     ]
    },
    {
     "name": "stdout",
     "output_type": "stream",
     "text": [
      " 1125\n",
      "Normal Mode\n",
      "Current frame:  1126\n",
      "Normal Mode\n",
      "Current frame:  1127\n",
      "Normal Mode"
     ]
    },
    {
     "name": "stderr",
     "output_type": "stream",
     "text": [
      "\r",
      "t:  89%|██████████████████████████████████████████████████████████▏      | 1127/1260 [01:34<00:11, 11.60it/s, now=None]"
     ]
    },
    {
     "name": "stdout",
     "output_type": "stream",
     "text": [
      "\n",
      "Current frame:  1128\n",
      "Normal Mode\n",
      "Current frame:  1129\n",
      "Normal Mode"
     ]
    },
    {
     "name": "stderr",
     "output_type": "stream",
     "text": [
      "\r",
      "t:  90%|██████████████████████████████████████████████████████████▏      | 1129/1260 [01:34<00:11, 11.48it/s, now=None]"
     ]
    },
    {
     "name": "stdout",
     "output_type": "stream",
     "text": [
      "\n",
      "Current frame:  1130\n",
      "Normal Mode\n",
      "Current frame:  1131\n",
      "Normal Mode\n"
     ]
    },
    {
     "name": "stderr",
     "output_type": "stream",
     "text": [
      "t:  90%|██████████████████████████████████████████████████████████▍      | 1133/1260 [01:34<00:11, 11.24it/s, now=None]"
     ]
    },
    {
     "name": "stdout",
     "output_type": "stream",
     "text": [
      "Current frame:  1132\n",
      "Normal Mode\n",
      "Current frame:  1133\n",
      "Normal Mode\n",
      "Current frame:  1134"
     ]
    },
    {
     "name": "stderr",
     "output_type": "stream",
     "text": [
      "\r",
      "t:  90%|██████████████████████████████████████████████████████████▌      | 1135/1260 [01:34<00:10, 11.40it/s, now=None]"
     ]
    },
    {
     "name": "stdout",
     "output_type": "stream",
     "text": [
      "\n",
      "Normal Mode\n",
      "Current frame:  1135\n",
      "Normal Mode\n",
      "Current frame:  1136\n"
     ]
    },
    {
     "name": "stderr",
     "output_type": "stream",
     "text": [
      "\r",
      "t:  90%|██████████████████████████████████████████████████████████▋      | 1137/1260 [01:34<00:11, 11.10it/s, now=None]"
     ]
    },
    {
     "name": "stdout",
     "output_type": "stream",
     "text": [
      "Normal Mode\n",
      "Current frame:  1137\n",
      "Normal Mode\n",
      "Current frame:  1138\n",
      "Normal Mode"
     ]
    },
    {
     "name": "stderr",
     "output_type": "stream",
     "text": [
      "\r",
      "t:  90%|██████████████████████████████████████████████████████████▊      | 1139/1260 [01:35<00:10, 11.06it/s, now=None]"
     ]
    },
    {
     "name": "stdout",
     "output_type": "stream",
     "text": [
      "\n",
      "Current frame:  1139\n",
      "Normal Mode\n",
      "Current frame:  1140\n",
      "Normal Mode\n"
     ]
    },
    {
     "name": "stderr",
     "output_type": "stream",
     "text": [
      "\r",
      "t:  91%|██████████████████████████████████████████████████████████▊      | 1141/1260 [01:35<00:10, 11.03it/s, now=None]"
     ]
    },
    {
     "name": "stdout",
     "output_type": "stream",
     "text": [
      "Current frame:  1141\n",
      "Normal Mode\n",
      "Current frame:  1142\n",
      "Normal Mode\n",
      "Current frame: "
     ]
    },
    {
     "name": "stderr",
     "output_type": "stream",
     "text": [
      "\r",
      "t:  91%|██████████████████████████████████████████████████████████▉      | 1143/1260 [01:35<00:10, 11.15it/s, now=None]"
     ]
    },
    {
     "name": "stdout",
     "output_type": "stream",
     "text": [
      " 1143\n",
      "Normal Mode\n",
      "Current frame:  1144\n",
      "Normal Mode\n",
      "Current frame:  1145\n"
     ]
    },
    {
     "name": "stderr",
     "output_type": "stream",
     "text": [
      "\r",
      "t:  91%|███████████████████████████████████████████████████████████      | 1145/1260 [01:35<00:10, 11.02it/s, now=None]"
     ]
    },
    {
     "name": "stdout",
     "output_type": "stream",
     "text": [
      "Normal Mode\n",
      "Current frame:  1146\n",
      "Normal Mode\n",
      "Current frame:  1147\n",
      "Normal Mode"
     ]
    },
    {
     "name": "stderr",
     "output_type": "stream",
     "text": [
      "\r",
      "t:  91%|███████████████████████████████████████████████████████████▏     | 1147/1260 [01:35<00:10, 10.84it/s, now=None]"
     ]
    },
    {
     "name": "stdout",
     "output_type": "stream",
     "text": [
      "\n",
      "Current frame:  1148\n",
      "Normal Mode\n",
      "Current frame:  1149\n",
      "Normal Mode\n"
     ]
    },
    {
     "name": "stderr",
     "output_type": "stream",
     "text": [
      "t:  91%|███████████████████████████████████████████████████████████▍     | 1151/1260 [01:36<00:09, 11.07it/s, now=None]"
     ]
    },
    {
     "name": "stdout",
     "output_type": "stream",
     "text": [
      "Current frame:  1150\n",
      "Normal Mode\n",
      "Current frame:  1151\n",
      "Normal Mode\n",
      "Current frame:  1152\n"
     ]
    },
    {
     "name": "stderr",
     "output_type": "stream",
     "text": [
      "\r",
      "t:  92%|███████████████████████████████████████████████████████████▍     | 1153/1260 [01:36<00:09, 11.20it/s, now=None]"
     ]
    },
    {
     "name": "stdout",
     "output_type": "stream",
     "text": [
      "Normal Mode\n",
      "Current frame:  1153\n",
      "Normal Mode\n",
      "Current frame:  1154\n",
      "Normal Mode"
     ]
    },
    {
     "name": "stderr",
     "output_type": "stream",
     "text": [
      "\r",
      "t:  92%|███████████████████████████████████████████████████████████▌     | 1155/1260 [01:36<00:09, 11.07it/s, now=None]"
     ]
    },
    {
     "name": "stdout",
     "output_type": "stream",
     "text": [
      "\n",
      "Current frame:  1155\n",
      "Normal Mode\n",
      "Current frame:  1156\n",
      "Normal Mode\n"
     ]
    },
    {
     "name": "stderr",
     "output_type": "stream",
     "text": [
      "\r",
      "t:  92%|███████████████████████████████████████████████████████████▋     | 1157/1260 [01:36<00:09, 11.04it/s, now=None]"
     ]
    },
    {
     "name": "stdout",
     "output_type": "stream",
     "text": [
      "Current frame:  1157\n",
      "Normal Mode\n",
      "Current frame:  1158\n",
      "Normal Mode\n",
      "Current frame:  1159\n"
     ]
    },
    {
     "name": "stderr",
     "output_type": "stream",
     "text": [
      "\r",
      "t:  92%|███████████████████████████████████████████████████████████▊     | 1159/1260 [01:36<00:09, 11.16it/s, now=None]"
     ]
    },
    {
     "name": "stdout",
     "output_type": "stream",
     "text": [
      "Normal Mode\n",
      "Current frame:  1160\n",
      "Normal Mode\n",
      "Current frame:  1161\n",
      "Normal Mode\n"
     ]
    },
    {
     "name": "stderr",
     "output_type": "stream",
     "text": [
      "t:  92%|███████████████████████████████████████████████████████████▉     | 1163/1260 [01:37<00:08, 11.42it/s, now=None]"
     ]
    },
    {
     "name": "stdout",
     "output_type": "stream",
     "text": [
      "Current frame:  1162\n",
      "Normal Mode\n",
      "Current frame:  1163\n",
      "Normal Mode\n",
      "Current frame:  1164\n"
     ]
    },
    {
     "name": "stderr",
     "output_type": "stream",
     "text": [
      "\r",
      "t:  92%|████████████████████████████████████████████████████████████     | 1165/1260 [01:37<00:08, 11.22it/s, now=None]"
     ]
    },
    {
     "name": "stdout",
     "output_type": "stream",
     "text": [
      "Normal Mode\n",
      "Current frame:  1165\n",
      "Normal Mode\n",
      "Current frame:  1166\n",
      "Normal Mode"
     ]
    },
    {
     "name": "stderr",
     "output_type": "stream",
     "text": [
      "\r",
      "t:  93%|████████████████████████████████████████████████████████████▏    | 1167/1260 [01:37<00:08, 11.31it/s, now=None]"
     ]
    },
    {
     "name": "stdout",
     "output_type": "stream",
     "text": [
      "\n",
      "Current frame:  1167\n",
      "Normal Mode\n",
      "Current frame:  1168\n",
      "Normal Mode\n"
     ]
    },
    {
     "name": "stderr",
     "output_type": "stream",
     "text": [
      "\r",
      "t:  93%|████████████████████████████████████████████████████████████▎    | 1169/1260 [01:37<00:08, 11.35it/s, now=None]"
     ]
    },
    {
     "name": "stdout",
     "output_type": "stream",
     "text": [
      "Current frame:  1169\n",
      "Normal Mode\n",
      "Current frame:  1170\n",
      "Normal Mode\n",
      "Current frame: "
     ]
    },
    {
     "name": "stderr",
     "output_type": "stream",
     "text": [
      "\r",
      "t:  93%|████████████████████████████████████████████████████████████▍    | 1171/1260 [01:37<00:07, 11.39it/s, now=None]"
     ]
    },
    {
     "name": "stdout",
     "output_type": "stream",
     "text": [
      " 1171\n",
      "Normal Mode\n",
      "Current frame:  1172\n",
      "Normal Mode\n",
      "Current frame:  1173\n"
     ]
    },
    {
     "name": "stderr",
     "output_type": "stream",
     "text": [
      "\r",
      "t:  93%|████████████████████████████████████████████████████████████▌    | 1173/1260 [01:38<00:07, 11.29it/s, now=None]"
     ]
    },
    {
     "name": "stdout",
     "output_type": "stream",
     "text": [
      "Normal Mode\n",
      "Current frame:  1174\n",
      "Normal Mode\n",
      "Current frame:  1175\n",
      "Normal Mode\n"
     ]
    },
    {
     "name": "stderr",
     "output_type": "stream",
     "text": [
      "t:  93%|████████████████████████████████████████████████████████████▋    | 1177/1260 [01:38<00:07, 11.33it/s, now=None]"
     ]
    },
    {
     "name": "stdout",
     "output_type": "stream",
     "text": [
      "Current frame:  1176\n",
      "Normal Mode\n",
      "Current frame:  1177\n",
      "Normal Mode\n",
      "Current frame:  1178\n"
     ]
    },
    {
     "name": "stderr",
     "output_type": "stream",
     "text": [
      "\r",
      "t:  94%|████████████████████████████████████████████████████████████▊    | 1179/1260 [01:38<00:07, 11.31it/s, now=None]"
     ]
    },
    {
     "name": "stdout",
     "output_type": "stream",
     "text": [
      "Normal Mode\n",
      "Current frame:  1179\n",
      "Normal Mode\n",
      "Current frame:  1180\n",
      "Normal Mode\n",
      "Current frame: "
     ]
    },
    {
     "name": "stderr",
     "output_type": "stream",
     "text": [
      "\r",
      "t:  94%|████████████████████████████████████████████████████████████▉    | 1181/1260 [01:38<00:06, 11.37it/s, now=None]"
     ]
    },
    {
     "name": "stdout",
     "output_type": "stream",
     "text": [
      " 1181\n",
      "Normal Mode\n",
      "Current frame:  1182\n",
      "Normal Mode\n",
      "Current frame:  1183\n"
     ]
    },
    {
     "name": "stderr",
     "output_type": "stream",
     "text": [
      "\r",
      "t:  94%|█████████████████████████████████████████████████████████████    | 1183/1260 [01:39<00:06, 11.46it/s, now=None]"
     ]
    },
    {
     "name": "stdout",
     "output_type": "stream",
     "text": [
      "Normal Mode\n",
      "Current frame:  1184\n",
      "Normal Mode\n",
      "Current frame:  1185\n",
      "Normal Mode"
     ]
    },
    {
     "name": "stderr",
     "output_type": "stream",
     "text": [
      "\r",
      "t:  94%|█████████████████████████████████████████████████████████████▏   | 1185/1260 [01:39<00:06, 11.25it/s, now=None]"
     ]
    },
    {
     "name": "stdout",
     "output_type": "stream",
     "text": [
      "\n",
      "Current frame:  1186\n",
      "Normal Mode\n",
      "Current frame:  1187\n",
      "Normal Mode"
     ]
    },
    {
     "name": "stderr",
     "output_type": "stream",
     "text": [
      "\r",
      "t:  94%|█████████████████████████████████████████████████████████████▏   | 1187/1260 [01:39<00:06, 11.20it/s, now=None]"
     ]
    },
    {
     "name": "stdout",
     "output_type": "stream",
     "text": [
      "\n",
      "Current frame:  1188\n",
      "Normal Mode\n",
      "Current frame:  1189\n",
      "Normal Mode\n"
     ]
    },
    {
     "name": "stderr",
     "output_type": "stream",
     "text": [
      "t:  95%|█████████████████████████████████████████████████████████████▍   | 1191/1260 [01:39<00:06, 10.95it/s, now=None]"
     ]
    },
    {
     "name": "stdout",
     "output_type": "stream",
     "text": [
      "Current frame:  1190\n",
      "Normal Mode\n",
      "Current frame:  1191\n",
      "Normal Mode\n",
      "Current frame: "
     ]
    },
    {
     "name": "stderr",
     "output_type": "stream",
     "text": [
      "\r",
      "t:  95%|█████████████████████████████████████████████████████████████▌   | 1193/1260 [01:39<00:06, 10.95it/s, now=None]"
     ]
    },
    {
     "name": "stdout",
     "output_type": "stream",
     "text": [
      " 1192\n",
      "Normal Mode\n",
      "Current frame:  1193\n",
      "Normal Mode\n",
      "Current frame:  1194\n"
     ]
    },
    {
     "name": "stderr",
     "output_type": "stream",
     "text": [
      "\r",
      "t:  95%|█████████████████████████████████████████████████████████████▋   | 1195/1260 [01:40<00:05, 10.97it/s, now=None]"
     ]
    },
    {
     "name": "stdout",
     "output_type": "stream",
     "text": [
      "Normal Mode\n",
      "Current frame:  1195\n",
      "Normal Mode\n",
      "Current frame:  1196\n",
      "Normal Mode\n",
      "Current frame: "
     ]
    },
    {
     "name": "stderr",
     "output_type": "stream",
     "text": [
      "\r",
      "t:  95%|█████████████████████████████████████████████████████████████▊   | 1197/1260 [01:40<00:05, 11.10it/s, now=None]"
     ]
    },
    {
     "name": "stdout",
     "output_type": "stream",
     "text": [
      " 1197\n",
      "Normal Mode\n",
      "Current frame:  1198\n",
      "Normal Mode\n",
      "Current frame: "
     ]
    },
    {
     "name": "stderr",
     "output_type": "stream",
     "text": [
      "\r",
      "t:  95%|█████████████████████████████████████████████████████████████▊   | 1199/1260 [01:40<00:05, 11.05it/s, now=None]"
     ]
    },
    {
     "name": "stdout",
     "output_type": "stream",
     "text": [
      " 1199\n",
      "Normal Mode\n",
      "Current frame:  1200\n",
      "Normal Mode\n",
      "Current frame: "
     ]
    },
    {
     "name": "stderr",
     "output_type": "stream",
     "text": [
      "\r",
      "t:  95%|█████████████████████████████████████████████████████████████▉   | 1201/1260 [01:40<00:05, 10.94it/s, now=None]"
     ]
    },
    {
     "name": "stdout",
     "output_type": "stream",
     "text": [
      " 1201\n",
      "Init Mode\n",
      "Current frame:  1202\n",
      "Normal Mode\n",
      "Current frame: "
     ]
    },
    {
     "name": "stderr",
     "output_type": "stream",
     "text": [
      "\r",
      "t:  95%|██████████████████████████████████████████████████████████████   | 1203/1260 [01:40<00:05, 10.84it/s, now=None]"
     ]
    },
    {
     "name": "stdout",
     "output_type": "stream",
     "text": [
      " 1203\n",
      "Normal Mode\n",
      "Current frame:  1204\n",
      "Normal Mode\n",
      "Current frame:  1205\n"
     ]
    },
    {
     "name": "stderr",
     "output_type": "stream",
     "text": [
      "\r",
      "t:  96%|██████████████████████████████████████████████████████████████▏  | 1205/1260 [01:41<00:04, 11.07it/s, now=None]"
     ]
    },
    {
     "name": "stdout",
     "output_type": "stream",
     "text": [
      "Normal Mode\n",
      "Current frame:  1206\n",
      "Normal Mode\n",
      "Current frame:  1207\n",
      "Normal Mode"
     ]
    },
    {
     "name": "stderr",
     "output_type": "stream",
     "text": [
      "\r",
      "t:  96%|██████████████████████████████████████████████████████████████▎  | 1207/1260 [01:41<00:04, 10.63it/s, now=None]"
     ]
    },
    {
     "name": "stdout",
     "output_type": "stream",
     "text": [
      "\n",
      "Current frame:  1208\n",
      "Normal Mode\n",
      "Current frame:  1209\n",
      "Normal Mode"
     ]
    },
    {
     "name": "stderr",
     "output_type": "stream",
     "text": [
      "\r",
      "t:  96%|██████████████████████████████████████████████████████████████▎  | 1209/1260 [01:41<00:04, 10.78it/s, now=None]"
     ]
    },
    {
     "name": "stdout",
     "output_type": "stream",
     "text": [
      "\n",
      "Current frame:  1210\n",
      "Normal Mode\n",
      "Current frame:  1211\n",
      "Normal Mode\n"
     ]
    },
    {
     "name": "stderr",
     "output_type": "stream",
     "text": [
      "t:  96%|██████████████████████████████████████████████████████████████▌  | 1213/1260 [01:41<00:04, 11.13it/s, now=None]"
     ]
    },
    {
     "name": "stdout",
     "output_type": "stream",
     "text": [
      "Current frame:  1212\n",
      "Normal Mode\n",
      "Current frame:  1213\n",
      "Normal Mode\n",
      "Current frame:  1214\n"
     ]
    },
    {
     "name": "stderr",
     "output_type": "stream",
     "text": [
      "\r",
      "t:  96%|██████████████████████████████████████████████████████████████▋  | 1215/1260 [01:41<00:04, 11.22it/s, now=None]"
     ]
    },
    {
     "name": "stdout",
     "output_type": "stream",
     "text": [
      "Normal Mode\n",
      "Current frame:  1215\n",
      "Normal Mode\n",
      "Current frame:  1216\n",
      "Normal Mode\n"
     ]
    },
    {
     "name": "stderr",
     "output_type": "stream",
     "text": [
      "\r",
      "t:  97%|██████████████████████████████████████████████████████████████▊  | 1217/1260 [01:42<00:03, 11.12it/s, now=None]"
     ]
    },
    {
     "name": "stdout",
     "output_type": "stream",
     "text": [
      "Current frame:  1217\n",
      "Normal Mode\n",
      "Current frame:  1218\n",
      "Normal Mode\n",
      "Current frame:  1219\n"
     ]
    },
    {
     "name": "stderr",
     "output_type": "stream",
     "text": [
      "\r",
      "t:  97%|██████████████████████████████████████████████████████████████▉  | 1219/1260 [01:42<00:03, 11.19it/s, now=None]"
     ]
    },
    {
     "name": "stdout",
     "output_type": "stream",
     "text": [
      "Normal Mode\n",
      "Current frame:  1220\n",
      "Normal Mode\n",
      "Current frame:  1221\n",
      "Normal Mode"
     ]
    },
    {
     "name": "stderr",
     "output_type": "stream",
     "text": [
      "t:  97%|███████████████████████████████████████████████████████████████  | 1223/1260 [01:42<00:03, 11.32it/s, now=None]"
     ]
    },
    {
     "name": "stdout",
     "output_type": "stream",
     "text": [
      "\n",
      "Current frame:  1222\n",
      "Normal Mode\n",
      "Current frame:  1223\n",
      "Normal Mode\n"
     ]
    },
    {
     "name": "stderr",
     "output_type": "stream",
     "text": [
      "\r",
      "t:  97%|███████████████████████████████████████████████████████████████▏ | 1225/1260 [01:42<00:03, 11.17it/s, now=None]"
     ]
    },
    {
     "name": "stdout",
     "output_type": "stream",
     "text": [
      "Current frame:  1224\n",
      "Normal Mode\n",
      "Current frame:  1225\n",
      "Normal Mode\n",
      "Current frame:  "
     ]
    },
    {
     "name": "stderr",
     "output_type": "stream",
     "text": [
      "\r",
      "t:  97%|███████████████████████████████████████████████████████████████▎ | 1227/1260 [01:43<00:03, 10.45it/s, now=None]"
     ]
    },
    {
     "name": "stdout",
     "output_type": "stream",
     "text": [
      "1226\n",
      "Normal Mode\n",
      "Current frame:  1227\n",
      "Normal Mode\n"
     ]
    },
    {
     "name": "stderr",
     "output_type": "stream",
     "text": [
      "\r",
      "t:  98%|███████████████████████████████████████████████████████████████▍ | 1229/1260 [01:43<00:02, 10.58it/s, now=None]"
     ]
    },
    {
     "name": "stdout",
     "output_type": "stream",
     "text": [
      "Current frame:  1228\n",
      "Normal Mode\n",
      "Current frame:  1229\n",
      "Normal Mode\n",
      "Current frame:  1230\n"
     ]
    },
    {
     "name": "stderr",
     "output_type": "stream",
     "text": [
      "\r",
      "t:  98%|███████████████████████████████████████████████████████████████▌ | 1231/1260 [01:43<00:02, 10.86it/s, now=None]"
     ]
    },
    {
     "name": "stdout",
     "output_type": "stream",
     "text": [
      "Normal Mode\n",
      "Current frame:  1231\n",
      "Normal Mode\n",
      "Current frame:  1232\n",
      "Normal Mode\n",
      "Current frame: "
     ]
    },
    {
     "name": "stderr",
     "output_type": "stream",
     "text": [
      "\r",
      "t:  98%|███████████████████████████████████████████████████████████████▌ | 1233/1260 [01:43<00:02, 11.11it/s, now=None]"
     ]
    },
    {
     "name": "stdout",
     "output_type": "stream",
     "text": [
      " 1233\n",
      "Normal Mode\n",
      "Current frame:  1234\n",
      "Normal Mode\n",
      "Current frame:  1235\n"
     ]
    },
    {
     "name": "stderr",
     "output_type": "stream",
     "text": [
      "\r",
      "t:  98%|███████████████████████████████████████████████████████████████▋ | 1235/1260 [01:43<00:02, 11.06it/s, now=None]"
     ]
    },
    {
     "name": "stdout",
     "output_type": "stream",
     "text": [
      "Normal Mode\n",
      "Current frame:  1236\n",
      "Normal Mode\n",
      "Current frame:  1237\n",
      "Normal Mode\n"
     ]
    },
    {
     "name": "stderr",
     "output_type": "stream",
     "text": [
      "t:  98%|███████████████████████████████████████████████████████████████▉ | 1239/1260 [01:44<00:01, 11.41it/s, now=None]"
     ]
    },
    {
     "name": "stdout",
     "output_type": "stream",
     "text": [
      "Current frame:  1238\n",
      "Normal Mode\n",
      "Current frame:  1239\n",
      "Normal Mode\n",
      "Current frame:  1240\n"
     ]
    },
    {
     "name": "stderr",
     "output_type": "stream",
     "text": [
      "\r",
      "t:  98%|████████████████████████████████████████████████████████████████ | 1241/1260 [01:44<00:01, 11.25it/s, now=None]"
     ]
    },
    {
     "name": "stdout",
     "output_type": "stream",
     "text": [
      "Normal Mode\n",
      "Current frame:  1241\n",
      "Normal Mode\n",
      "Current frame:  1242\n",
      "Normal Mode"
     ]
    },
    {
     "name": "stderr",
     "output_type": "stream",
     "text": [
      "\r",
      "t:  99%|████████████████████████████████████████████████████████████████ | 1243/1260 [01:44<00:01, 11.25it/s, now=None]"
     ]
    },
    {
     "name": "stdout",
     "output_type": "stream",
     "text": [
      "\n",
      "Current frame:  1243\n",
      "Normal Mode\n",
      "Current frame:  1244\n",
      "Normal Mode\n",
      "Current frame: "
     ]
    },
    {
     "name": "stderr",
     "output_type": "stream",
     "text": [
      "\r",
      "t:  99%|████████████████████████████████████████████████████████████████▏| 1245/1260 [01:44<00:01, 11.26it/s, now=None]"
     ]
    },
    {
     "name": "stdout",
     "output_type": "stream",
     "text": [
      " 1245\n",
      "Normal Mode\n",
      "Current frame:  1246\n",
      "Normal Mode\n",
      "Current frame:  1247\n"
     ]
    },
    {
     "name": "stderr",
     "output_type": "stream",
     "text": [
      "\r",
      "t:  99%|████████████████████████████████████████████████████████████████▎| 1247/1260 [01:44<00:01, 11.22it/s, now=None]"
     ]
    },
    {
     "name": "stdout",
     "output_type": "stream",
     "text": [
      "Normal Mode\n",
      "Current frame:  1248\n",
      "Normal Mode\n",
      "Current frame:  1249\n",
      "Normal Mode"
     ]
    },
    {
     "name": "stderr",
     "output_type": "stream",
     "text": [
      "\r",
      "t:  99%|████████████████████████████████████████████████████████████████▍| 1249/1260 [01:44<00:00, 11.18it/s, now=None]"
     ]
    },
    {
     "name": "stdout",
     "output_type": "stream",
     "text": [
      "\n",
      "Current frame:  1250\n",
      "Normal Mode\n",
      "Current frame:  1251\n",
      "Normal Mode"
     ]
    },
    {
     "name": "stderr",
     "output_type": "stream",
     "text": [
      "\r",
      "t:  99%|████████████████████████████████████████████████████████████████▌| 1251/1260 [01:45<00:00, 10.93it/s, now=None]"
     ]
    },
    {
     "name": "stdout",
     "output_type": "stream",
     "text": [
      "\n",
      "Current frame:  1252\n",
      "Normal Mode\n",
      "Current frame:  1253\n",
      "Normal Mode\n"
     ]
    },
    {
     "name": "stderr",
     "output_type": "stream",
     "text": [
      "t: 100%|████████████████████████████████████████████████████████████████▋| 1255/1260 [01:45<00:00, 11.07it/s, now=None]"
     ]
    },
    {
     "name": "stdout",
     "output_type": "stream",
     "text": [
      "Current frame:  1254\n",
      "Normal Mode\n",
      "Current frame:  1255\n",
      "Normal Mode\n"
     ]
    },
    {
     "name": "stderr",
     "output_type": "stream",
     "text": [
      "\r",
      "t: 100%|████████████████████████████████████████████████████████████████▊| 1257/1260 [01:45<00:00, 11.12it/s, now=None]"
     ]
    },
    {
     "name": "stdout",
     "output_type": "stream",
     "text": [
      "Current frame:  1256\n",
      "Normal Mode\n",
      "Current frame:  1257\n",
      "Normal Mode\n",
      "Current frame: "
     ]
    },
    {
     "name": "stderr",
     "output_type": "stream",
     "text": [
      "\r",
      "t: 100%|████████████████████████████████████████████████████████████████▉| 1259/1260 [01:45<00:00, 11.15it/s, now=None]"
     ]
    },
    {
     "name": "stdout",
     "output_type": "stream",
     "text": [
      " 1258\n",
      "Normal Mode\n",
      "Current frame:  1259\n",
      "Normal Mode\n",
      "Current frame:  1260\n"
     ]
    },
    {
     "name": "stderr",
     "output_type": "stream",
     "text": [
      "                                                                                                                       \r"
     ]
    },
    {
     "name": "stdout",
     "output_type": "stream",
     "text": [
      "Normal Mode\n",
      "Current frame:  1261\n",
      "Normal Mode\n",
      "Moviepy - Done !\n",
      "Moviepy - video ready project_video_out.mp4\n",
      "Wall time: 1min 46s\n"
     ]
    },
    {
     "data": {
      "image/png": "[encoded data removed]",
      "text/plain": [
       "<Figure size 432x288 with 1 Axes>"
      ]
     },
     "metadata": {
      "needs_background": "light"
     },
     "output_type": "display_data"
    }
   ],
   "source": [
    "# Import everything needed to edit/save/watch video clips\n",
    "from moviepy.editor import VideoFileClip\n",
    "from IPython.display import HTML\n",
    "\n",
    "#init frame number count, for debug use\n",
    "zFrame = globalVar()\n",
    "zFrame.value = 1\n",
    "\n",
    "#init sanity check counter\n",
    "zSanityCounter = globalVar()\n",
    "zSanityCounter.value = 0\n",
    "\n",
    "#init left and right lane line classes\n",
    "left_Line = Line()\n",
    "right_Line = Line()\n",
    "\n",
    "#init array to store left and right poly coefficients for smooth calculation\n",
    "left_Line.best_fit_list = np.empty([0,3])\n",
    "right_Line.best_fit_list = np.empty([0,3])\n",
    "\n",
    "#init array to store left and right fitted x values for smooth calculation\n",
    "left_Line.recent_xfitted = np.empty([0,720])\n",
    "right_Line.recent_xfitted = np.empty([0,720])\n",
    "\n",
    "#init list to store left and right curvatures for smooth calculation\n",
    "left_Line.curvatures = list()\n",
    "right_Line.curvatures = list()\n",
    "\n",
    "#name the output video file\n",
    "white_output = 'project_video_out.mp4'\n",
    "\n",
    "#define path and name of the input video file\n",
    "clip1 = VideoFileClip(\"project_video.mp4\")#.subclip(0,5)\n",
    "\n",
    "#process the input video with the pipeline function\n",
    "white_clip = clip1.fl_image(process_image) #NOTE: this function expects color images!!\n",
    "%time white_clip.write_videofile(white_output, audio=False)"
   ]
  },
  {
   "cell_type": "code",
   "execution_count": 33,
   "metadata": {
    "collapsed": false,
    "deletable": true,
    "editable": true
   },
   "outputs": [
    {
     "data": {
      "text/html": [
       "\n",
       "<video width=\"640\" height=\"360\" controls>\n",
       "  <source src=\"project_video_out.mp4\">\n",
       "</video>\n"
      ],
      "text/plain": [
       "<IPython.core.display.HTML object>"
      ]
     },
     "execution_count": 33,
     "metadata": {},
     "output_type": "execute_result"
    }
   ],
   "source": [
    "HTML(\"\"\"\n",
    "<video width=\"640\" height=\"360\" controls>\n",
    "  <source src=\"{0}\">\n",
    "</video>\n",
    "\"\"\".format(white_output))"
   ]
  },
  {
   "cell_type": "code",
   "execution_count": null,
   "metadata": {
    "collapsed": true
   },
   "outputs": [],
   "source": []
  }
 ],
 "metadata": {
  "kernelspec": {
   "display_name": "Python 3",
   "language": "python",
   "name": "python3"
  },
  "language_info": {
   "codemirror_mode": {
    "name": "ipython",
    "version": 3
   },
   "file_extension": ".py",
   "mimetype": "text/x-python",
   "name": "python",
   "nbconvert_exporter": "python",
   "pygments_lexer": "ipython3",
   "version": "3.6.11"
  }
 },
 "nbformat": 4,
 "nbformat_minor": 4
}
